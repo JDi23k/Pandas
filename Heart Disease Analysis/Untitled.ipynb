{
 "cells": [
  {
   "cell_type": "markdown",
   "id": "c7407a83",
   "metadata": {},
   "source": [
    "### Import the necessary library"
   ]
  },
  {
   "cell_type": "code",
   "execution_count": 1,
   "id": "efb8e2e0",
   "metadata": {},
   "outputs": [],
   "source": [
    "import numpy as np\n",
    "import pandas as pd\n",
    "from matplotlib import pyplot as plt\n",
    "import seaborn as sns"
   ]
  },
  {
   "cell_type": "markdown",
   "id": "fd62f478",
   "metadata": {},
   "source": [
    "### Load the dataset"
   ]
  },
  {
   "cell_type": "code",
   "execution_count": 2,
   "id": "c61eb1b5",
   "metadata": {},
   "outputs": [],
   "source": [
    "df = pd.read_csv('heart.csv')"
   ]
  },
  {
   "cell_type": "markdown",
   "id": "b470df00",
   "metadata": {},
   "source": [
    "### 1. Display Top 5 Rows of The Dataset"
   ]
  },
  {
   "cell_type": "code",
   "execution_count": 3,
   "id": "49de1e20",
   "metadata": {},
   "outputs": [
    {
     "data": {
      "text/html": [
       "<div>\n",
       "<style scoped>\n",
       "    .dataframe tbody tr th:only-of-type {\n",
       "        vertical-align: middle;\n",
       "    }\n",
       "\n",
       "    .dataframe tbody tr th {\n",
       "        vertical-align: top;\n",
       "    }\n",
       "\n",
       "    .dataframe thead th {\n",
       "        text-align: right;\n",
       "    }\n",
       "</style>\n",
       "<table border=\"1\" class=\"dataframe\">\n",
       "  <thead>\n",
       "    <tr style=\"text-align: right;\">\n",
       "      <th></th>\n",
       "      <th>age</th>\n",
       "      <th>sex</th>\n",
       "      <th>cp</th>\n",
       "      <th>trestbps</th>\n",
       "      <th>chol</th>\n",
       "      <th>fbs</th>\n",
       "      <th>restecg</th>\n",
       "      <th>thalach</th>\n",
       "      <th>exang</th>\n",
       "      <th>oldpeak</th>\n",
       "      <th>slope</th>\n",
       "      <th>ca</th>\n",
       "      <th>thal</th>\n",
       "      <th>target</th>\n",
       "    </tr>\n",
       "  </thead>\n",
       "  <tbody>\n",
       "    <tr>\n",
       "      <th>0</th>\n",
       "      <td>52</td>\n",
       "      <td>1</td>\n",
       "      <td>0</td>\n",
       "      <td>125</td>\n",
       "      <td>212</td>\n",
       "      <td>0</td>\n",
       "      <td>1</td>\n",
       "      <td>168</td>\n",
       "      <td>0</td>\n",
       "      <td>1.0</td>\n",
       "      <td>2</td>\n",
       "      <td>2</td>\n",
       "      <td>3</td>\n",
       "      <td>0</td>\n",
       "    </tr>\n",
       "    <tr>\n",
       "      <th>1</th>\n",
       "      <td>53</td>\n",
       "      <td>1</td>\n",
       "      <td>0</td>\n",
       "      <td>140</td>\n",
       "      <td>203</td>\n",
       "      <td>1</td>\n",
       "      <td>0</td>\n",
       "      <td>155</td>\n",
       "      <td>1</td>\n",
       "      <td>3.1</td>\n",
       "      <td>0</td>\n",
       "      <td>0</td>\n",
       "      <td>3</td>\n",
       "      <td>0</td>\n",
       "    </tr>\n",
       "    <tr>\n",
       "      <th>2</th>\n",
       "      <td>70</td>\n",
       "      <td>1</td>\n",
       "      <td>0</td>\n",
       "      <td>145</td>\n",
       "      <td>174</td>\n",
       "      <td>0</td>\n",
       "      <td>1</td>\n",
       "      <td>125</td>\n",
       "      <td>1</td>\n",
       "      <td>2.6</td>\n",
       "      <td>0</td>\n",
       "      <td>0</td>\n",
       "      <td>3</td>\n",
       "      <td>0</td>\n",
       "    </tr>\n",
       "    <tr>\n",
       "      <th>3</th>\n",
       "      <td>61</td>\n",
       "      <td>1</td>\n",
       "      <td>0</td>\n",
       "      <td>148</td>\n",
       "      <td>203</td>\n",
       "      <td>0</td>\n",
       "      <td>1</td>\n",
       "      <td>161</td>\n",
       "      <td>0</td>\n",
       "      <td>0.0</td>\n",
       "      <td>2</td>\n",
       "      <td>1</td>\n",
       "      <td>3</td>\n",
       "      <td>0</td>\n",
       "    </tr>\n",
       "    <tr>\n",
       "      <th>4</th>\n",
       "      <td>62</td>\n",
       "      <td>0</td>\n",
       "      <td>0</td>\n",
       "      <td>138</td>\n",
       "      <td>294</td>\n",
       "      <td>1</td>\n",
       "      <td>1</td>\n",
       "      <td>106</td>\n",
       "      <td>0</td>\n",
       "      <td>1.9</td>\n",
       "      <td>1</td>\n",
       "      <td>3</td>\n",
       "      <td>2</td>\n",
       "      <td>0</td>\n",
       "    </tr>\n",
       "  </tbody>\n",
       "</table>\n",
       "</div>"
      ],
      "text/plain": [
       "   age  sex  cp  trestbps  chol  fbs  restecg  thalach  exang  oldpeak  slope  \\\n",
       "0   52    1   0       125   212    0        1      168      0      1.0      2   \n",
       "1   53    1   0       140   203    1        0      155      1      3.1      0   \n",
       "2   70    1   0       145   174    0        1      125      1      2.6      0   \n",
       "3   61    1   0       148   203    0        1      161      0      0.0      2   \n",
       "4   62    0   0       138   294    1        1      106      0      1.9      1   \n",
       "\n",
       "   ca  thal  target  \n",
       "0   2     3       0  \n",
       "1   0     3       0  \n",
       "2   0     3       0  \n",
       "3   1     3       0  \n",
       "4   3     2       0  "
      ]
     },
     "execution_count": 3,
     "metadata": {},
     "output_type": "execute_result"
    }
   ],
   "source": [
    "df.head()"
   ]
  },
  {
   "cell_type": "markdown",
   "id": "6752f9a6",
   "metadata": {},
   "source": [
    "### 2. Check The Last 5 Rows of The Dataset"
   ]
  },
  {
   "cell_type": "code",
   "execution_count": 4,
   "id": "a9dabd93",
   "metadata": {},
   "outputs": [
    {
     "data": {
      "text/html": [
       "<div>\n",
       "<style scoped>\n",
       "    .dataframe tbody tr th:only-of-type {\n",
       "        vertical-align: middle;\n",
       "    }\n",
       "\n",
       "    .dataframe tbody tr th {\n",
       "        vertical-align: top;\n",
       "    }\n",
       "\n",
       "    .dataframe thead th {\n",
       "        text-align: right;\n",
       "    }\n",
       "</style>\n",
       "<table border=\"1\" class=\"dataframe\">\n",
       "  <thead>\n",
       "    <tr style=\"text-align: right;\">\n",
       "      <th></th>\n",
       "      <th>age</th>\n",
       "      <th>sex</th>\n",
       "      <th>cp</th>\n",
       "      <th>trestbps</th>\n",
       "      <th>chol</th>\n",
       "      <th>fbs</th>\n",
       "      <th>restecg</th>\n",
       "      <th>thalach</th>\n",
       "      <th>exang</th>\n",
       "      <th>oldpeak</th>\n",
       "      <th>slope</th>\n",
       "      <th>ca</th>\n",
       "      <th>thal</th>\n",
       "      <th>target</th>\n",
       "    </tr>\n",
       "  </thead>\n",
       "  <tbody>\n",
       "    <tr>\n",
       "      <th>1020</th>\n",
       "      <td>59</td>\n",
       "      <td>1</td>\n",
       "      <td>1</td>\n",
       "      <td>140</td>\n",
       "      <td>221</td>\n",
       "      <td>0</td>\n",
       "      <td>1</td>\n",
       "      <td>164</td>\n",
       "      <td>1</td>\n",
       "      <td>0.0</td>\n",
       "      <td>2</td>\n",
       "      <td>0</td>\n",
       "      <td>2</td>\n",
       "      <td>1</td>\n",
       "    </tr>\n",
       "    <tr>\n",
       "      <th>1021</th>\n",
       "      <td>60</td>\n",
       "      <td>1</td>\n",
       "      <td>0</td>\n",
       "      <td>125</td>\n",
       "      <td>258</td>\n",
       "      <td>0</td>\n",
       "      <td>0</td>\n",
       "      <td>141</td>\n",
       "      <td>1</td>\n",
       "      <td>2.8</td>\n",
       "      <td>1</td>\n",
       "      <td>1</td>\n",
       "      <td>3</td>\n",
       "      <td>0</td>\n",
       "    </tr>\n",
       "    <tr>\n",
       "      <th>1022</th>\n",
       "      <td>47</td>\n",
       "      <td>1</td>\n",
       "      <td>0</td>\n",
       "      <td>110</td>\n",
       "      <td>275</td>\n",
       "      <td>0</td>\n",
       "      <td>0</td>\n",
       "      <td>118</td>\n",
       "      <td>1</td>\n",
       "      <td>1.0</td>\n",
       "      <td>1</td>\n",
       "      <td>1</td>\n",
       "      <td>2</td>\n",
       "      <td>0</td>\n",
       "    </tr>\n",
       "    <tr>\n",
       "      <th>1023</th>\n",
       "      <td>50</td>\n",
       "      <td>0</td>\n",
       "      <td>0</td>\n",
       "      <td>110</td>\n",
       "      <td>254</td>\n",
       "      <td>0</td>\n",
       "      <td>0</td>\n",
       "      <td>159</td>\n",
       "      <td>0</td>\n",
       "      <td>0.0</td>\n",
       "      <td>2</td>\n",
       "      <td>0</td>\n",
       "      <td>2</td>\n",
       "      <td>1</td>\n",
       "    </tr>\n",
       "    <tr>\n",
       "      <th>1024</th>\n",
       "      <td>54</td>\n",
       "      <td>1</td>\n",
       "      <td>0</td>\n",
       "      <td>120</td>\n",
       "      <td>188</td>\n",
       "      <td>0</td>\n",
       "      <td>1</td>\n",
       "      <td>113</td>\n",
       "      <td>0</td>\n",
       "      <td>1.4</td>\n",
       "      <td>1</td>\n",
       "      <td>1</td>\n",
       "      <td>3</td>\n",
       "      <td>0</td>\n",
       "    </tr>\n",
       "  </tbody>\n",
       "</table>\n",
       "</div>"
      ],
      "text/plain": [
       "      age  sex  cp  trestbps  chol  fbs  restecg  thalach  exang  oldpeak  \\\n",
       "1020   59    1   1       140   221    0        1      164      1      0.0   \n",
       "1021   60    1   0       125   258    0        0      141      1      2.8   \n",
       "1022   47    1   0       110   275    0        0      118      1      1.0   \n",
       "1023   50    0   0       110   254    0        0      159      0      0.0   \n",
       "1024   54    1   0       120   188    0        1      113      0      1.4   \n",
       "\n",
       "      slope  ca  thal  target  \n",
       "1020      2   0     2       1  \n",
       "1021      1   1     3       0  \n",
       "1022      1   1     2       0  \n",
       "1023      2   0     2       1  \n",
       "1024      1   1     3       0  "
      ]
     },
     "execution_count": 4,
     "metadata": {},
     "output_type": "execute_result"
    }
   ],
   "source": [
    "df.tail()"
   ]
  },
  {
   "cell_type": "markdown",
   "id": "ead393d0",
   "metadata": {},
   "source": [
    "### 3. Find Shape of Our Dataset (Number of Rows And Number of Columns)"
   ]
  },
  {
   "cell_type": "code",
   "execution_count": 5,
   "id": "461542ad",
   "metadata": {},
   "outputs": [
    {
     "name": "stdout",
     "output_type": "stream",
     "text": [
      "Shape of the dataset (1025, 14)\n",
      "Number of rows 1025\n",
      "Number of rows 14\n"
     ]
    }
   ],
   "source": [
    "print(\"Shape of the dataset\", df.shape)\n",
    "print(\"Number of rows\", df.shape[0])\n",
    "print(\"Number of rows\", df.shape[1])"
   ]
  },
  {
   "cell_type": "markdown",
   "id": "223a6f90",
   "metadata": {},
   "source": [
    "### 4. Get Information About Our Dataset Like Total Number Rows, Total Number of Columns, Datatypes of Each Column And Memory Requirement"
   ]
  },
  {
   "cell_type": "code",
   "execution_count": 6,
   "id": "7806b36b",
   "metadata": {},
   "outputs": [
    {
     "name": "stdout",
     "output_type": "stream",
     "text": [
      "<class 'pandas.core.frame.DataFrame'>\n",
      "RangeIndex: 1025 entries, 0 to 1024\n",
      "Data columns (total 14 columns):\n",
      " #   Column    Non-Null Count  Dtype  \n",
      "---  ------    --------------  -----  \n",
      " 0   age       1025 non-null   int64  \n",
      " 1   sex       1025 non-null   int64  \n",
      " 2   cp        1025 non-null   int64  \n",
      " 3   trestbps  1025 non-null   int64  \n",
      " 4   chol      1025 non-null   int64  \n",
      " 5   fbs       1025 non-null   int64  \n",
      " 6   restecg   1025 non-null   int64  \n",
      " 7   thalach   1025 non-null   int64  \n",
      " 8   exang     1025 non-null   int64  \n",
      " 9   oldpeak   1025 non-null   float64\n",
      " 10  slope     1025 non-null   int64  \n",
      " 11  ca        1025 non-null   int64  \n",
      " 12  thal      1025 non-null   int64  \n",
      " 13  target    1025 non-null   int64  \n",
      "dtypes: float64(1), int64(13)\n",
      "memory usage: 112.2 KB\n"
     ]
    }
   ],
   "source": [
    "df.info()"
   ]
  },
  {
   "cell_type": "markdown",
   "id": "4d79f752",
   "metadata": {},
   "source": [
    "### 5. Check Null Values In The Dataset"
   ]
  },
  {
   "cell_type": "code",
   "execution_count": 7,
   "id": "4e6e475d",
   "metadata": {},
   "outputs": [
    {
     "data": {
      "text/plain": [
       "age         0\n",
       "sex         0\n",
       "cp          0\n",
       "trestbps    0\n",
       "chol        0\n",
       "fbs         0\n",
       "restecg     0\n",
       "thalach     0\n",
       "exang       0\n",
       "oldpeak     0\n",
       "slope       0\n",
       "ca          0\n",
       "thal        0\n",
       "target      0\n",
       "dtype: int64"
      ]
     },
     "execution_count": 7,
     "metadata": {},
     "output_type": "execute_result"
    }
   ],
   "source": [
    "df.isnull().sum()"
   ]
  },
  {
   "cell_type": "markdown",
   "id": "be0cbe66",
   "metadata": {},
   "source": [
    "### 6. Check For Duplicate Data and Drop Them"
   ]
  },
  {
   "cell_type": "code",
   "execution_count": 8,
   "id": "a8a10dbf",
   "metadata": {},
   "outputs": [
    {
     "data": {
      "text/plain": [
       "723"
      ]
     },
     "execution_count": 8,
     "metadata": {},
     "output_type": "execute_result"
    }
   ],
   "source": [
    "df.duplicated().sum()"
   ]
  },
  {
   "cell_type": "code",
   "execution_count": 9,
   "id": "7dd9ad79",
   "metadata": {},
   "outputs": [],
   "source": [
    "df = df.drop_duplicates()"
   ]
  },
  {
   "cell_type": "code",
   "execution_count": 10,
   "id": "975b9b6c",
   "metadata": {},
   "outputs": [
    {
     "data": {
      "text/plain": [
       "0"
      ]
     },
     "execution_count": 10,
     "metadata": {},
     "output_type": "execute_result"
    }
   ],
   "source": [
    "df.duplicated().sum()"
   ]
  },
  {
   "cell_type": "markdown",
   "id": "e1a79fc3",
   "metadata": {},
   "source": [
    "### 7. Get Overall Statistics About The Dataset"
   ]
  },
  {
   "cell_type": "code",
   "execution_count": 11,
   "id": "f1cd682e",
   "metadata": {},
   "outputs": [
    {
     "data": {
      "text/html": [
       "<div>\n",
       "<style scoped>\n",
       "    .dataframe tbody tr th:only-of-type {\n",
       "        vertical-align: middle;\n",
       "    }\n",
       "\n",
       "    .dataframe tbody tr th {\n",
       "        vertical-align: top;\n",
       "    }\n",
       "\n",
       "    .dataframe thead th {\n",
       "        text-align: right;\n",
       "    }\n",
       "</style>\n",
       "<table border=\"1\" class=\"dataframe\">\n",
       "  <thead>\n",
       "    <tr style=\"text-align: right;\">\n",
       "      <th></th>\n",
       "      <th>age</th>\n",
       "      <th>sex</th>\n",
       "      <th>cp</th>\n",
       "      <th>trestbps</th>\n",
       "      <th>chol</th>\n",
       "      <th>fbs</th>\n",
       "      <th>restecg</th>\n",
       "      <th>thalach</th>\n",
       "      <th>exang</th>\n",
       "      <th>oldpeak</th>\n",
       "      <th>slope</th>\n",
       "      <th>ca</th>\n",
       "      <th>thal</th>\n",
       "      <th>target</th>\n",
       "    </tr>\n",
       "  </thead>\n",
       "  <tbody>\n",
       "    <tr>\n",
       "      <th>count</th>\n",
       "      <td>302.00000</td>\n",
       "      <td>302.000000</td>\n",
       "      <td>302.000000</td>\n",
       "      <td>302.000000</td>\n",
       "      <td>302.000000</td>\n",
       "      <td>302.000000</td>\n",
       "      <td>302.000000</td>\n",
       "      <td>302.000000</td>\n",
       "      <td>302.000000</td>\n",
       "      <td>302.000000</td>\n",
       "      <td>302.000000</td>\n",
       "      <td>302.000000</td>\n",
       "      <td>302.000000</td>\n",
       "      <td>302.000000</td>\n",
       "    </tr>\n",
       "    <tr>\n",
       "      <th>mean</th>\n",
       "      <td>54.42053</td>\n",
       "      <td>0.682119</td>\n",
       "      <td>0.963576</td>\n",
       "      <td>131.602649</td>\n",
       "      <td>246.500000</td>\n",
       "      <td>0.149007</td>\n",
       "      <td>0.526490</td>\n",
       "      <td>149.569536</td>\n",
       "      <td>0.327815</td>\n",
       "      <td>1.043046</td>\n",
       "      <td>1.397351</td>\n",
       "      <td>0.718543</td>\n",
       "      <td>2.314570</td>\n",
       "      <td>0.543046</td>\n",
       "    </tr>\n",
       "    <tr>\n",
       "      <th>std</th>\n",
       "      <td>9.04797</td>\n",
       "      <td>0.466426</td>\n",
       "      <td>1.032044</td>\n",
       "      <td>17.563394</td>\n",
       "      <td>51.753489</td>\n",
       "      <td>0.356686</td>\n",
       "      <td>0.526027</td>\n",
       "      <td>22.903527</td>\n",
       "      <td>0.470196</td>\n",
       "      <td>1.161452</td>\n",
       "      <td>0.616274</td>\n",
       "      <td>1.006748</td>\n",
       "      <td>0.613026</td>\n",
       "      <td>0.498970</td>\n",
       "    </tr>\n",
       "    <tr>\n",
       "      <th>min</th>\n",
       "      <td>29.00000</td>\n",
       "      <td>0.000000</td>\n",
       "      <td>0.000000</td>\n",
       "      <td>94.000000</td>\n",
       "      <td>126.000000</td>\n",
       "      <td>0.000000</td>\n",
       "      <td>0.000000</td>\n",
       "      <td>71.000000</td>\n",
       "      <td>0.000000</td>\n",
       "      <td>0.000000</td>\n",
       "      <td>0.000000</td>\n",
       "      <td>0.000000</td>\n",
       "      <td>0.000000</td>\n",
       "      <td>0.000000</td>\n",
       "    </tr>\n",
       "    <tr>\n",
       "      <th>25%</th>\n",
       "      <td>48.00000</td>\n",
       "      <td>0.000000</td>\n",
       "      <td>0.000000</td>\n",
       "      <td>120.000000</td>\n",
       "      <td>211.000000</td>\n",
       "      <td>0.000000</td>\n",
       "      <td>0.000000</td>\n",
       "      <td>133.250000</td>\n",
       "      <td>0.000000</td>\n",
       "      <td>0.000000</td>\n",
       "      <td>1.000000</td>\n",
       "      <td>0.000000</td>\n",
       "      <td>2.000000</td>\n",
       "      <td>0.000000</td>\n",
       "    </tr>\n",
       "    <tr>\n",
       "      <th>50%</th>\n",
       "      <td>55.50000</td>\n",
       "      <td>1.000000</td>\n",
       "      <td>1.000000</td>\n",
       "      <td>130.000000</td>\n",
       "      <td>240.500000</td>\n",
       "      <td>0.000000</td>\n",
       "      <td>1.000000</td>\n",
       "      <td>152.500000</td>\n",
       "      <td>0.000000</td>\n",
       "      <td>0.800000</td>\n",
       "      <td>1.000000</td>\n",
       "      <td>0.000000</td>\n",
       "      <td>2.000000</td>\n",
       "      <td>1.000000</td>\n",
       "    </tr>\n",
       "    <tr>\n",
       "      <th>75%</th>\n",
       "      <td>61.00000</td>\n",
       "      <td>1.000000</td>\n",
       "      <td>2.000000</td>\n",
       "      <td>140.000000</td>\n",
       "      <td>274.750000</td>\n",
       "      <td>0.000000</td>\n",
       "      <td>1.000000</td>\n",
       "      <td>166.000000</td>\n",
       "      <td>1.000000</td>\n",
       "      <td>1.600000</td>\n",
       "      <td>2.000000</td>\n",
       "      <td>1.000000</td>\n",
       "      <td>3.000000</td>\n",
       "      <td>1.000000</td>\n",
       "    </tr>\n",
       "    <tr>\n",
       "      <th>max</th>\n",
       "      <td>77.00000</td>\n",
       "      <td>1.000000</td>\n",
       "      <td>3.000000</td>\n",
       "      <td>200.000000</td>\n",
       "      <td>564.000000</td>\n",
       "      <td>1.000000</td>\n",
       "      <td>2.000000</td>\n",
       "      <td>202.000000</td>\n",
       "      <td>1.000000</td>\n",
       "      <td>6.200000</td>\n",
       "      <td>2.000000</td>\n",
       "      <td>4.000000</td>\n",
       "      <td>3.000000</td>\n",
       "      <td>1.000000</td>\n",
       "    </tr>\n",
       "  </tbody>\n",
       "</table>\n",
       "</div>"
      ],
      "text/plain": [
       "             age         sex          cp    trestbps        chol         fbs  \\\n",
       "count  302.00000  302.000000  302.000000  302.000000  302.000000  302.000000   \n",
       "mean    54.42053    0.682119    0.963576  131.602649  246.500000    0.149007   \n",
       "std      9.04797    0.466426    1.032044   17.563394   51.753489    0.356686   \n",
       "min     29.00000    0.000000    0.000000   94.000000  126.000000    0.000000   \n",
       "25%     48.00000    0.000000    0.000000  120.000000  211.000000    0.000000   \n",
       "50%     55.50000    1.000000    1.000000  130.000000  240.500000    0.000000   \n",
       "75%     61.00000    1.000000    2.000000  140.000000  274.750000    0.000000   \n",
       "max     77.00000    1.000000    3.000000  200.000000  564.000000    1.000000   \n",
       "\n",
       "          restecg     thalach       exang     oldpeak       slope          ca  \\\n",
       "count  302.000000  302.000000  302.000000  302.000000  302.000000  302.000000   \n",
       "mean     0.526490  149.569536    0.327815    1.043046    1.397351    0.718543   \n",
       "std      0.526027   22.903527    0.470196    1.161452    0.616274    1.006748   \n",
       "min      0.000000   71.000000    0.000000    0.000000    0.000000    0.000000   \n",
       "25%      0.000000  133.250000    0.000000    0.000000    1.000000    0.000000   \n",
       "50%      1.000000  152.500000    0.000000    0.800000    1.000000    0.000000   \n",
       "75%      1.000000  166.000000    1.000000    1.600000    2.000000    1.000000   \n",
       "max      2.000000  202.000000    1.000000    6.200000    2.000000    4.000000   \n",
       "\n",
       "             thal      target  \n",
       "count  302.000000  302.000000  \n",
       "mean     2.314570    0.543046  \n",
       "std      0.613026    0.498970  \n",
       "min      0.000000    0.000000  \n",
       "25%      2.000000    0.000000  \n",
       "50%      2.000000    1.000000  \n",
       "75%      3.000000    1.000000  \n",
       "max      3.000000    1.000000  "
      ]
     },
     "execution_count": 11,
     "metadata": {},
     "output_type": "execute_result"
    }
   ],
   "source": [
    "df.describe()"
   ]
  },
  {
   "cell_type": "code",
   "execution_count": 12,
   "id": "7752bb2b",
   "metadata": {},
   "outputs": [
    {
     "data": {
      "text/html": [
       "<div>\n",
       "<style scoped>\n",
       "    .dataframe tbody tr th:only-of-type {\n",
       "        vertical-align: middle;\n",
       "    }\n",
       "\n",
       "    .dataframe tbody tr th {\n",
       "        vertical-align: top;\n",
       "    }\n",
       "\n",
       "    .dataframe thead th {\n",
       "        text-align: right;\n",
       "    }\n",
       "</style>\n",
       "<table border=\"1\" class=\"dataframe\">\n",
       "  <thead>\n",
       "    <tr style=\"text-align: right;\">\n",
       "      <th></th>\n",
       "      <th>age</th>\n",
       "      <th>sex</th>\n",
       "      <th>cp</th>\n",
       "      <th>trestbps</th>\n",
       "      <th>chol</th>\n",
       "      <th>fbs</th>\n",
       "      <th>restecg</th>\n",
       "      <th>thalach</th>\n",
       "      <th>exang</th>\n",
       "      <th>oldpeak</th>\n",
       "      <th>slope</th>\n",
       "      <th>ca</th>\n",
       "      <th>thal</th>\n",
       "      <th>target</th>\n",
       "    </tr>\n",
       "  </thead>\n",
       "  <tbody>\n",
       "    <tr>\n",
       "      <th>count</th>\n",
       "      <td>302.00000</td>\n",
       "      <td>302.000000</td>\n",
       "      <td>302.000000</td>\n",
       "      <td>302.000000</td>\n",
       "      <td>302.000000</td>\n",
       "      <td>302.000000</td>\n",
       "      <td>302.000000</td>\n",
       "      <td>302.000000</td>\n",
       "      <td>302.000000</td>\n",
       "      <td>302.000000</td>\n",
       "      <td>302.000000</td>\n",
       "      <td>302.000000</td>\n",
       "      <td>302.000000</td>\n",
       "      <td>302.000000</td>\n",
       "    </tr>\n",
       "    <tr>\n",
       "      <th>mean</th>\n",
       "      <td>54.42053</td>\n",
       "      <td>0.682119</td>\n",
       "      <td>0.963576</td>\n",
       "      <td>131.602649</td>\n",
       "      <td>246.500000</td>\n",
       "      <td>0.149007</td>\n",
       "      <td>0.526490</td>\n",
       "      <td>149.569536</td>\n",
       "      <td>0.327815</td>\n",
       "      <td>1.043046</td>\n",
       "      <td>1.397351</td>\n",
       "      <td>0.718543</td>\n",
       "      <td>2.314570</td>\n",
       "      <td>0.543046</td>\n",
       "    </tr>\n",
       "    <tr>\n",
       "      <th>std</th>\n",
       "      <td>9.04797</td>\n",
       "      <td>0.466426</td>\n",
       "      <td>1.032044</td>\n",
       "      <td>17.563394</td>\n",
       "      <td>51.753489</td>\n",
       "      <td>0.356686</td>\n",
       "      <td>0.526027</td>\n",
       "      <td>22.903527</td>\n",
       "      <td>0.470196</td>\n",
       "      <td>1.161452</td>\n",
       "      <td>0.616274</td>\n",
       "      <td>1.006748</td>\n",
       "      <td>0.613026</td>\n",
       "      <td>0.498970</td>\n",
       "    </tr>\n",
       "    <tr>\n",
       "      <th>min</th>\n",
       "      <td>29.00000</td>\n",
       "      <td>0.000000</td>\n",
       "      <td>0.000000</td>\n",
       "      <td>94.000000</td>\n",
       "      <td>126.000000</td>\n",
       "      <td>0.000000</td>\n",
       "      <td>0.000000</td>\n",
       "      <td>71.000000</td>\n",
       "      <td>0.000000</td>\n",
       "      <td>0.000000</td>\n",
       "      <td>0.000000</td>\n",
       "      <td>0.000000</td>\n",
       "      <td>0.000000</td>\n",
       "      <td>0.000000</td>\n",
       "    </tr>\n",
       "    <tr>\n",
       "      <th>25%</th>\n",
       "      <td>48.00000</td>\n",
       "      <td>0.000000</td>\n",
       "      <td>0.000000</td>\n",
       "      <td>120.000000</td>\n",
       "      <td>211.000000</td>\n",
       "      <td>0.000000</td>\n",
       "      <td>0.000000</td>\n",
       "      <td>133.250000</td>\n",
       "      <td>0.000000</td>\n",
       "      <td>0.000000</td>\n",
       "      <td>1.000000</td>\n",
       "      <td>0.000000</td>\n",
       "      <td>2.000000</td>\n",
       "      <td>0.000000</td>\n",
       "    </tr>\n",
       "    <tr>\n",
       "      <th>50%</th>\n",
       "      <td>55.50000</td>\n",
       "      <td>1.000000</td>\n",
       "      <td>1.000000</td>\n",
       "      <td>130.000000</td>\n",
       "      <td>240.500000</td>\n",
       "      <td>0.000000</td>\n",
       "      <td>1.000000</td>\n",
       "      <td>152.500000</td>\n",
       "      <td>0.000000</td>\n",
       "      <td>0.800000</td>\n",
       "      <td>1.000000</td>\n",
       "      <td>0.000000</td>\n",
       "      <td>2.000000</td>\n",
       "      <td>1.000000</td>\n",
       "    </tr>\n",
       "    <tr>\n",
       "      <th>75%</th>\n",
       "      <td>61.00000</td>\n",
       "      <td>1.000000</td>\n",
       "      <td>2.000000</td>\n",
       "      <td>140.000000</td>\n",
       "      <td>274.750000</td>\n",
       "      <td>0.000000</td>\n",
       "      <td>1.000000</td>\n",
       "      <td>166.000000</td>\n",
       "      <td>1.000000</td>\n",
       "      <td>1.600000</td>\n",
       "      <td>2.000000</td>\n",
       "      <td>1.000000</td>\n",
       "      <td>3.000000</td>\n",
       "      <td>1.000000</td>\n",
       "    </tr>\n",
       "    <tr>\n",
       "      <th>max</th>\n",
       "      <td>77.00000</td>\n",
       "      <td>1.000000</td>\n",
       "      <td>3.000000</td>\n",
       "      <td>200.000000</td>\n",
       "      <td>564.000000</td>\n",
       "      <td>1.000000</td>\n",
       "      <td>2.000000</td>\n",
       "      <td>202.000000</td>\n",
       "      <td>1.000000</td>\n",
       "      <td>6.200000</td>\n",
       "      <td>2.000000</td>\n",
       "      <td>4.000000</td>\n",
       "      <td>3.000000</td>\n",
       "      <td>1.000000</td>\n",
       "    </tr>\n",
       "  </tbody>\n",
       "</table>\n",
       "</div>"
      ],
      "text/plain": [
       "             age         sex          cp    trestbps        chol         fbs  \\\n",
       "count  302.00000  302.000000  302.000000  302.000000  302.000000  302.000000   \n",
       "mean    54.42053    0.682119    0.963576  131.602649  246.500000    0.149007   \n",
       "std      9.04797    0.466426    1.032044   17.563394   51.753489    0.356686   \n",
       "min     29.00000    0.000000    0.000000   94.000000  126.000000    0.000000   \n",
       "25%     48.00000    0.000000    0.000000  120.000000  211.000000    0.000000   \n",
       "50%     55.50000    1.000000    1.000000  130.000000  240.500000    0.000000   \n",
       "75%     61.00000    1.000000    2.000000  140.000000  274.750000    0.000000   \n",
       "max     77.00000    1.000000    3.000000  200.000000  564.000000    1.000000   \n",
       "\n",
       "          restecg     thalach       exang     oldpeak       slope          ca  \\\n",
       "count  302.000000  302.000000  302.000000  302.000000  302.000000  302.000000   \n",
       "mean     0.526490  149.569536    0.327815    1.043046    1.397351    0.718543   \n",
       "std      0.526027   22.903527    0.470196    1.161452    0.616274    1.006748   \n",
       "min      0.000000   71.000000    0.000000    0.000000    0.000000    0.000000   \n",
       "25%      0.000000  133.250000    0.000000    0.000000    1.000000    0.000000   \n",
       "50%      1.000000  152.500000    0.000000    0.800000    1.000000    0.000000   \n",
       "75%      1.000000  166.000000    1.000000    1.600000    2.000000    1.000000   \n",
       "max      2.000000  202.000000    1.000000    6.200000    2.000000    4.000000   \n",
       "\n",
       "             thal      target  \n",
       "count  302.000000  302.000000  \n",
       "mean     2.314570    0.543046  \n",
       "std      0.613026    0.498970  \n",
       "min      0.000000    0.000000  \n",
       "25%      2.000000    0.000000  \n",
       "50%      2.000000    1.000000  \n",
       "75%      3.000000    1.000000  \n",
       "max      3.000000    1.000000  "
      ]
     },
     "execution_count": 12,
     "metadata": {},
     "output_type": "execute_result"
    }
   ],
   "source": [
    "df.describe(include='all')"
   ]
  },
  {
   "cell_type": "markdown",
   "id": "426caf2c",
   "metadata": {},
   "source": [
    "### 8. Draw Correlation Matrix"
   ]
  },
  {
   "cell_type": "code",
   "execution_count": 13,
   "id": "9cb8820d",
   "metadata": {},
   "outputs": [
    {
     "data": {
      "text/html": [
       "<div>\n",
       "<style scoped>\n",
       "    .dataframe tbody tr th:only-of-type {\n",
       "        vertical-align: middle;\n",
       "    }\n",
       "\n",
       "    .dataframe tbody tr th {\n",
       "        vertical-align: top;\n",
       "    }\n",
       "\n",
       "    .dataframe thead th {\n",
       "        text-align: right;\n",
       "    }\n",
       "</style>\n",
       "<table border=\"1\" class=\"dataframe\">\n",
       "  <thead>\n",
       "    <tr style=\"text-align: right;\">\n",
       "      <th></th>\n",
       "      <th>age</th>\n",
       "      <th>sex</th>\n",
       "      <th>cp</th>\n",
       "      <th>trestbps</th>\n",
       "      <th>chol</th>\n",
       "      <th>fbs</th>\n",
       "      <th>restecg</th>\n",
       "      <th>thalach</th>\n",
       "      <th>exang</th>\n",
       "      <th>oldpeak</th>\n",
       "      <th>slope</th>\n",
       "      <th>ca</th>\n",
       "      <th>thal</th>\n",
       "      <th>target</th>\n",
       "    </tr>\n",
       "  </thead>\n",
       "  <tbody>\n",
       "    <tr>\n",
       "      <th>age</th>\n",
       "      <td>1.000000</td>\n",
       "      <td>-0.094962</td>\n",
       "      <td>-0.063107</td>\n",
       "      <td>0.283121</td>\n",
       "      <td>0.207216</td>\n",
       "      <td>0.119492</td>\n",
       "      <td>-0.111590</td>\n",
       "      <td>-0.395235</td>\n",
       "      <td>0.093216</td>\n",
       "      <td>0.206040</td>\n",
       "      <td>-0.164124</td>\n",
       "      <td>0.302261</td>\n",
       "      <td>0.065317</td>\n",
       "      <td>-0.221476</td>\n",
       "    </tr>\n",
       "    <tr>\n",
       "      <th>sex</th>\n",
       "      <td>-0.094962</td>\n",
       "      <td>1.000000</td>\n",
       "      <td>-0.051740</td>\n",
       "      <td>-0.057647</td>\n",
       "      <td>-0.195571</td>\n",
       "      <td>0.046022</td>\n",
       "      <td>-0.060351</td>\n",
       "      <td>-0.046439</td>\n",
       "      <td>0.143460</td>\n",
       "      <td>0.098322</td>\n",
       "      <td>-0.032990</td>\n",
       "      <td>0.113060</td>\n",
       "      <td>0.211452</td>\n",
       "      <td>-0.283609</td>\n",
       "    </tr>\n",
       "    <tr>\n",
       "      <th>cp</th>\n",
       "      <td>-0.063107</td>\n",
       "      <td>-0.051740</td>\n",
       "      <td>1.000000</td>\n",
       "      <td>0.046486</td>\n",
       "      <td>-0.072682</td>\n",
       "      <td>0.096018</td>\n",
       "      <td>0.041561</td>\n",
       "      <td>0.293367</td>\n",
       "      <td>-0.392937</td>\n",
       "      <td>-0.146692</td>\n",
       "      <td>0.116854</td>\n",
       "      <td>-0.195356</td>\n",
       "      <td>-0.160370</td>\n",
       "      <td>0.432080</td>\n",
       "    </tr>\n",
       "    <tr>\n",
       "      <th>trestbps</th>\n",
       "      <td>0.283121</td>\n",
       "      <td>-0.057647</td>\n",
       "      <td>0.046486</td>\n",
       "      <td>1.000000</td>\n",
       "      <td>0.125256</td>\n",
       "      <td>0.178125</td>\n",
       "      <td>-0.115367</td>\n",
       "      <td>-0.048023</td>\n",
       "      <td>0.068526</td>\n",
       "      <td>0.194600</td>\n",
       "      <td>-0.122873</td>\n",
       "      <td>0.099248</td>\n",
       "      <td>0.062870</td>\n",
       "      <td>-0.146269</td>\n",
       "    </tr>\n",
       "    <tr>\n",
       "      <th>chol</th>\n",
       "      <td>0.207216</td>\n",
       "      <td>-0.195571</td>\n",
       "      <td>-0.072682</td>\n",
       "      <td>0.125256</td>\n",
       "      <td>1.000000</td>\n",
       "      <td>0.011428</td>\n",
       "      <td>-0.147602</td>\n",
       "      <td>-0.005308</td>\n",
       "      <td>0.064099</td>\n",
       "      <td>0.050086</td>\n",
       "      <td>0.000417</td>\n",
       "      <td>0.086878</td>\n",
       "      <td>0.096810</td>\n",
       "      <td>-0.081437</td>\n",
       "    </tr>\n",
       "    <tr>\n",
       "      <th>fbs</th>\n",
       "      <td>0.119492</td>\n",
       "      <td>0.046022</td>\n",
       "      <td>0.096018</td>\n",
       "      <td>0.178125</td>\n",
       "      <td>0.011428</td>\n",
       "      <td>1.000000</td>\n",
       "      <td>-0.083081</td>\n",
       "      <td>-0.007169</td>\n",
       "      <td>0.024729</td>\n",
       "      <td>0.004514</td>\n",
       "      <td>-0.058654</td>\n",
       "      <td>0.144935</td>\n",
       "      <td>-0.032752</td>\n",
       "      <td>-0.026826</td>\n",
       "    </tr>\n",
       "    <tr>\n",
       "      <th>restecg</th>\n",
       "      <td>-0.111590</td>\n",
       "      <td>-0.060351</td>\n",
       "      <td>0.041561</td>\n",
       "      <td>-0.115367</td>\n",
       "      <td>-0.147602</td>\n",
       "      <td>-0.083081</td>\n",
       "      <td>1.000000</td>\n",
       "      <td>0.041210</td>\n",
       "      <td>-0.068807</td>\n",
       "      <td>-0.056251</td>\n",
       "      <td>0.090402</td>\n",
       "      <td>-0.083112</td>\n",
       "      <td>-0.010473</td>\n",
       "      <td>0.134874</td>\n",
       "    </tr>\n",
       "    <tr>\n",
       "      <th>thalach</th>\n",
       "      <td>-0.395235</td>\n",
       "      <td>-0.046439</td>\n",
       "      <td>0.293367</td>\n",
       "      <td>-0.048023</td>\n",
       "      <td>-0.005308</td>\n",
       "      <td>-0.007169</td>\n",
       "      <td>0.041210</td>\n",
       "      <td>1.000000</td>\n",
       "      <td>-0.377411</td>\n",
       "      <td>-0.342201</td>\n",
       "      <td>0.384754</td>\n",
       "      <td>-0.228311</td>\n",
       "      <td>-0.094910</td>\n",
       "      <td>0.419955</td>\n",
       "    </tr>\n",
       "    <tr>\n",
       "      <th>exang</th>\n",
       "      <td>0.093216</td>\n",
       "      <td>0.143460</td>\n",
       "      <td>-0.392937</td>\n",
       "      <td>0.068526</td>\n",
       "      <td>0.064099</td>\n",
       "      <td>0.024729</td>\n",
       "      <td>-0.068807</td>\n",
       "      <td>-0.377411</td>\n",
       "      <td>1.000000</td>\n",
       "      <td>0.286766</td>\n",
       "      <td>-0.256106</td>\n",
       "      <td>0.125377</td>\n",
       "      <td>0.205826</td>\n",
       "      <td>-0.435601</td>\n",
       "    </tr>\n",
       "    <tr>\n",
       "      <th>oldpeak</th>\n",
       "      <td>0.206040</td>\n",
       "      <td>0.098322</td>\n",
       "      <td>-0.146692</td>\n",
       "      <td>0.194600</td>\n",
       "      <td>0.050086</td>\n",
       "      <td>0.004514</td>\n",
       "      <td>-0.056251</td>\n",
       "      <td>-0.342201</td>\n",
       "      <td>0.286766</td>\n",
       "      <td>1.000000</td>\n",
       "      <td>-0.576314</td>\n",
       "      <td>0.236560</td>\n",
       "      <td>0.209090</td>\n",
       "      <td>-0.429146</td>\n",
       "    </tr>\n",
       "    <tr>\n",
       "      <th>slope</th>\n",
       "      <td>-0.164124</td>\n",
       "      <td>-0.032990</td>\n",
       "      <td>0.116854</td>\n",
       "      <td>-0.122873</td>\n",
       "      <td>0.000417</td>\n",
       "      <td>-0.058654</td>\n",
       "      <td>0.090402</td>\n",
       "      <td>0.384754</td>\n",
       "      <td>-0.256106</td>\n",
       "      <td>-0.576314</td>\n",
       "      <td>1.000000</td>\n",
       "      <td>-0.092236</td>\n",
       "      <td>-0.103314</td>\n",
       "      <td>0.343940</td>\n",
       "    </tr>\n",
       "    <tr>\n",
       "      <th>ca</th>\n",
       "      <td>0.302261</td>\n",
       "      <td>0.113060</td>\n",
       "      <td>-0.195356</td>\n",
       "      <td>0.099248</td>\n",
       "      <td>0.086878</td>\n",
       "      <td>0.144935</td>\n",
       "      <td>-0.083112</td>\n",
       "      <td>-0.228311</td>\n",
       "      <td>0.125377</td>\n",
       "      <td>0.236560</td>\n",
       "      <td>-0.092236</td>\n",
       "      <td>1.000000</td>\n",
       "      <td>0.160085</td>\n",
       "      <td>-0.408992</td>\n",
       "    </tr>\n",
       "    <tr>\n",
       "      <th>thal</th>\n",
       "      <td>0.065317</td>\n",
       "      <td>0.211452</td>\n",
       "      <td>-0.160370</td>\n",
       "      <td>0.062870</td>\n",
       "      <td>0.096810</td>\n",
       "      <td>-0.032752</td>\n",
       "      <td>-0.010473</td>\n",
       "      <td>-0.094910</td>\n",
       "      <td>0.205826</td>\n",
       "      <td>0.209090</td>\n",
       "      <td>-0.103314</td>\n",
       "      <td>0.160085</td>\n",
       "      <td>1.000000</td>\n",
       "      <td>-0.343101</td>\n",
       "    </tr>\n",
       "    <tr>\n",
       "      <th>target</th>\n",
       "      <td>-0.221476</td>\n",
       "      <td>-0.283609</td>\n",
       "      <td>0.432080</td>\n",
       "      <td>-0.146269</td>\n",
       "      <td>-0.081437</td>\n",
       "      <td>-0.026826</td>\n",
       "      <td>0.134874</td>\n",
       "      <td>0.419955</td>\n",
       "      <td>-0.435601</td>\n",
       "      <td>-0.429146</td>\n",
       "      <td>0.343940</td>\n",
       "      <td>-0.408992</td>\n",
       "      <td>-0.343101</td>\n",
       "      <td>1.000000</td>\n",
       "    </tr>\n",
       "  </tbody>\n",
       "</table>\n",
       "</div>"
      ],
      "text/plain": [
       "               age       sex        cp  trestbps      chol       fbs  \\\n",
       "age       1.000000 -0.094962 -0.063107  0.283121  0.207216  0.119492   \n",
       "sex      -0.094962  1.000000 -0.051740 -0.057647 -0.195571  0.046022   \n",
       "cp       -0.063107 -0.051740  1.000000  0.046486 -0.072682  0.096018   \n",
       "trestbps  0.283121 -0.057647  0.046486  1.000000  0.125256  0.178125   \n",
       "chol      0.207216 -0.195571 -0.072682  0.125256  1.000000  0.011428   \n",
       "fbs       0.119492  0.046022  0.096018  0.178125  0.011428  1.000000   \n",
       "restecg  -0.111590 -0.060351  0.041561 -0.115367 -0.147602 -0.083081   \n",
       "thalach  -0.395235 -0.046439  0.293367 -0.048023 -0.005308 -0.007169   \n",
       "exang     0.093216  0.143460 -0.392937  0.068526  0.064099  0.024729   \n",
       "oldpeak   0.206040  0.098322 -0.146692  0.194600  0.050086  0.004514   \n",
       "slope    -0.164124 -0.032990  0.116854 -0.122873  0.000417 -0.058654   \n",
       "ca        0.302261  0.113060 -0.195356  0.099248  0.086878  0.144935   \n",
       "thal      0.065317  0.211452 -0.160370  0.062870  0.096810 -0.032752   \n",
       "target   -0.221476 -0.283609  0.432080 -0.146269 -0.081437 -0.026826   \n",
       "\n",
       "           restecg   thalach     exang   oldpeak     slope        ca  \\\n",
       "age      -0.111590 -0.395235  0.093216  0.206040 -0.164124  0.302261   \n",
       "sex      -0.060351 -0.046439  0.143460  0.098322 -0.032990  0.113060   \n",
       "cp        0.041561  0.293367 -0.392937 -0.146692  0.116854 -0.195356   \n",
       "trestbps -0.115367 -0.048023  0.068526  0.194600 -0.122873  0.099248   \n",
       "chol     -0.147602 -0.005308  0.064099  0.050086  0.000417  0.086878   \n",
       "fbs      -0.083081 -0.007169  0.024729  0.004514 -0.058654  0.144935   \n",
       "restecg   1.000000  0.041210 -0.068807 -0.056251  0.090402 -0.083112   \n",
       "thalach   0.041210  1.000000 -0.377411 -0.342201  0.384754 -0.228311   \n",
       "exang    -0.068807 -0.377411  1.000000  0.286766 -0.256106  0.125377   \n",
       "oldpeak  -0.056251 -0.342201  0.286766  1.000000 -0.576314  0.236560   \n",
       "slope     0.090402  0.384754 -0.256106 -0.576314  1.000000 -0.092236   \n",
       "ca       -0.083112 -0.228311  0.125377  0.236560 -0.092236  1.000000   \n",
       "thal     -0.010473 -0.094910  0.205826  0.209090 -0.103314  0.160085   \n",
       "target    0.134874  0.419955 -0.435601 -0.429146  0.343940 -0.408992   \n",
       "\n",
       "              thal    target  \n",
       "age       0.065317 -0.221476  \n",
       "sex       0.211452 -0.283609  \n",
       "cp       -0.160370  0.432080  \n",
       "trestbps  0.062870 -0.146269  \n",
       "chol      0.096810 -0.081437  \n",
       "fbs      -0.032752 -0.026826  \n",
       "restecg  -0.010473  0.134874  \n",
       "thalach  -0.094910  0.419955  \n",
       "exang     0.205826 -0.435601  \n",
       "oldpeak   0.209090 -0.429146  \n",
       "slope    -0.103314  0.343940  \n",
       "ca        0.160085 -0.408992  \n",
       "thal      1.000000 -0.343101  \n",
       "target   -0.343101  1.000000  "
      ]
     },
     "execution_count": 13,
     "metadata": {},
     "output_type": "execute_result"
    }
   ],
   "source": [
    "df.corr()"
   ]
  },
  {
   "cell_type": "code",
   "execution_count": 35,
   "id": "b41e73b0",
   "metadata": {},
   "outputs": [
    {
     "data": {
      "image/png": "[encoded data removed]",
      "text/plain": [
       "<Figure size 1400x600 with 2 Axes>"
      ]
     },
     "metadata": {},
     "output_type": "display_data"
    }
   ],
   "source": [
    "plt.figure(figsize=(14,6))\n",
    "sns.heatmap(df.corr(), annot=True)\n",
    "plt.show()"
   ]
  },
  {
   "cell_type": "markdown",
   "id": "6c711781",
   "metadata": {},
   "source": [
    "### 9. How Many People Have Heart Disease, And How Many Don't Have Heart Disease In This Dataset?"
   ]
  },
  {
   "cell_type": "code",
   "execution_count": 16,
   "id": "b64dc8d2",
   "metadata": {},
   "outputs": [
    {
     "data": {
      "text/plain": [
       "Index(['age', 'sex', 'cp', 'trestbps', 'chol', 'fbs', 'restecg', 'thalach',\n",
       "       'exang', 'oldpeak', 'slope', 'ca', 'thal', 'target'],\n",
       "      dtype='object')"
      ]
     },
     "execution_count": 16,
     "metadata": {},
     "output_type": "execute_result"
    }
   ],
   "source": [
    "df.columns"
   ]
  },
  {
   "cell_type": "code",
   "execution_count": 17,
   "id": "8e2523e3",
   "metadata": {},
   "outputs": [
    {
     "data": {
      "text/plain": [
       "1    164\n",
       "0    138\n",
       "Name: target, dtype: int64"
      ]
     },
     "execution_count": 17,
     "metadata": {},
     "output_type": "execute_result"
    }
   ],
   "source": [
    "df['target'].value_counts()"
   ]
  },
  {
   "cell_type": "code",
   "execution_count": 18,
   "id": "6db2ead1",
   "metadata": {},
   "outputs": [
    {
     "data": {
      "image/png": "[encoded data removed]",
      "text/plain": [
       "<Figure size 640x480 with 1 Axes>"
      ]
     },
     "metadata": {},
     "output_type": "display_data"
    }
   ],
   "source": [
    "sns.countplot(x='target', data = df)\n",
    "plt.show()"
   ]
  },
  {
   "cell_type": "markdown",
   "id": "4abde4cb",
   "metadata": {},
   "source": [
    "### 10. Find Count of  Male & Female in this Dataset"
   ]
  },
  {
   "cell_type": "code",
   "execution_count": 19,
   "id": "ccd50647",
   "metadata": {},
   "outputs": [
    {
     "data": {
      "text/plain": [
       "Index(['age', 'sex', 'cp', 'trestbps', 'chol', 'fbs', 'restecg', 'thalach',\n",
       "       'exang', 'oldpeak', 'slope', 'ca', 'thal', 'target'],\n",
       "      dtype='object')"
      ]
     },
     "execution_count": 19,
     "metadata": {},
     "output_type": "execute_result"
    }
   ],
   "source": [
    "df.columns"
   ]
  },
  {
   "cell_type": "code",
   "execution_count": 21,
   "id": "760e61af",
   "metadata": {},
   "outputs": [
    {
     "data": {
      "text/plain": [
       "1    206\n",
       "0     96\n",
       "Name: sex, dtype: int64"
      ]
     },
     "execution_count": 21,
     "metadata": {},
     "output_type": "execute_result"
    }
   ],
   "source": [
    "df['sex'].value_counts()"
   ]
  },
  {
   "cell_type": "code",
   "execution_count": 22,
   "id": "bd8a7e4d",
   "metadata": {},
   "outputs": [
    {
     "data": {
      "image/png": "[encoded data removed]",
      "text/plain": [
       "<Figure size 640x480 with 1 Axes>"
      ]
     },
     "metadata": {},
     "output_type": "display_data"
    }
   ],
   "source": [
    "sns.countplot(x='sex', data=df)\n",
    "plt.show()"
   ]
  },
  {
   "cell_type": "markdown",
   "id": "a8672925",
   "metadata": {},
   "source": [
    "### 11. Find Gender Distribution According to The Target Variable"
   ]
  },
  {
   "cell_type": "code",
   "execution_count": 32,
   "id": "43939309",
   "metadata": {},
   "outputs": [
    {
     "data": {
      "image/png": "[encoded data removed]",
      "text/plain": [
       "<Figure size 640x480 with 1 Axes>"
      ]
     },
     "metadata": {},
     "output_type": "display_data"
    }
   ],
   "source": [
    "sns.countplot(x='sex', hue = 'target', data = df)\n",
    "plt.show()"
   ]
  },
  {
   "cell_type": "markdown",
   "id": "218dcf47",
   "metadata": {},
   "source": [
    "### 12. Check Age Distribution In The Dataset"
   ]
  },
  {
   "cell_type": "code",
   "execution_count": 23,
   "id": "0c81ff0b",
   "metadata": {},
   "outputs": [
    {
     "data": {
      "text/plain": [
       "Index(['age', 'sex', 'cp', 'trestbps', 'chol', 'fbs', 'restecg', 'thalach',\n",
       "       'exang', 'oldpeak', 'slope', 'ca', 'thal', 'target'],\n",
       "      dtype='object')"
      ]
     },
     "execution_count": 23,
     "metadata": {},
     "output_type": "execute_result"
    }
   ],
   "source": [
    "df.columns"
   ]
  },
  {
   "cell_type": "code",
   "execution_count": 27,
   "id": "a8db7e65",
   "metadata": {},
   "outputs": [
    {
     "data": {
      "image/png": "[encoded data removed]",
      "text/plain": [
       "<Figure size 640x480 with 1 Axes>"
      ]
     },
     "metadata": {},
     "output_type": "display_data"
    }
   ],
   "source": [
    "sns.histplot(df['age'], kde=True)\n",
    "plt.show()"
   ]
  },
  {
   "cell_type": "markdown",
   "id": "ee48e776",
   "metadata": {},
   "source": [
    "### 13. Check Chest Pain Type"
   ]
  },
  {
   "cell_type": "code",
   "execution_count": 28,
   "id": "a3a5db8c",
   "metadata": {},
   "outputs": [
    {
     "data": {
      "text/plain": [
       "Index(['age', 'sex', 'cp', 'trestbps', 'chol', 'fbs', 'restecg', 'thalach',\n",
       "       'exang', 'oldpeak', 'slope', 'ca', 'thal', 'target'],\n",
       "      dtype='object')"
      ]
     },
     "execution_count": 28,
     "metadata": {},
     "output_type": "execute_result"
    }
   ],
   "source": [
    "df.columns"
   ]
  },
  {
   "cell_type": "code",
   "execution_count": 29,
   "id": "80abce56",
   "metadata": {},
   "outputs": [
    {
     "data": {
      "text/plain": [
       "0      0\n",
       "1      0\n",
       "2      0\n",
       "3      0\n",
       "4      0\n",
       "      ..\n",
       "723    2\n",
       "733    2\n",
       "739    0\n",
       "843    3\n",
       "878    0\n",
       "Name: cp, Length: 302, dtype: int64"
      ]
     },
     "execution_count": 29,
     "metadata": {},
     "output_type": "execute_result"
    }
   ],
   "source": [
    "df['cp']"
   ]
  },
  {
   "cell_type": "markdown",
   "id": "0e3353db",
   "metadata": {},
   "source": [
    "### 14. Show The Chest Pain Distribution As Per Target Variable"
   ]
  },
  {
   "cell_type": "code",
   "execution_count": 33,
   "id": "32efdbab",
   "metadata": {},
   "outputs": [
    {
     "data": {
      "text/plain": [
       "Index(['age', 'sex', 'cp', 'trestbps', 'chol', 'fbs', 'restecg', 'thalach',\n",
       "       'exang', 'oldpeak', 'slope', 'ca', 'thal', 'target'],\n",
       "      dtype='object')"
      ]
     },
     "execution_count": 33,
     "metadata": {},
     "output_type": "execute_result"
    }
   ],
   "source": [
    "df.columns"
   ]
  },
  {
   "cell_type": "code",
   "execution_count": null,
   "id": "314f8421",
   "metadata": {},
   "outputs": [],
   "source": []
  },
  {
   "cell_type": "markdown",
   "id": "3b5c80bb",
   "metadata": {},
   "source": [
    "### 15. Show Fasting Blood Sugar Distribution According To Target Variable"
   ]
  },
  {
   "cell_type": "code",
   "execution_count": null,
   "id": "a15ac6dd",
   "metadata": {},
   "outputs": [],
   "source": []
  },
  {
   "cell_type": "markdown",
   "id": "62b77b2e",
   "metadata": {},
   "source": [
    "### 16.  Check Resting Blood Pressure Distribution"
   ]
  },
  {
   "cell_type": "code",
   "execution_count": null,
   "id": "dd702ddb",
   "metadata": {},
   "outputs": [],
   "source": []
  },
  {
   "cell_type": "markdown",
   "id": "d79e01c4",
   "metadata": {},
   "source": [
    "### 17. Compare Resting Blood Pressure As Per Sex Column"
   ]
  },
  {
   "cell_type": "code",
   "execution_count": null,
   "id": "1be23242",
   "metadata": {},
   "outputs": [],
   "source": []
  },
  {
   "cell_type": "markdown",
   "id": "4c41e86b",
   "metadata": {},
   "source": [
    "### 18. Show Distribution of Serum cholesterol"
   ]
  },
  {
   "cell_type": "code",
   "execution_count": null,
   "id": "ee4e5f93",
   "metadata": {},
   "outputs": [],
   "source": []
  },
  {
   "cell_type": "markdown",
   "id": "3fdbf80c",
   "metadata": {},
   "source": [
    "### 19. Plot Continuous Variables"
   ]
  },
  {
   "cell_type": "code",
   "execution_count": null,
   "id": "820e9a60",
   "metadata": {},
   "outputs": [],
   "source": []
  },
  {
   "cell_type": "code",
   "execution_count": null,
   "id": "c588b3b4",
   "metadata": {},
   "outputs": [],
   "source": []
  }
 ],
 "metadata": {
  "kernelspec": {
   "display_name": "Python 3 (ipykernel)",
   "language": "python",
   "name": "python3"
  },
  "language_info": {
   "codemirror_mode": {
    "name": "ipython",
    "version": 3
   },
   "file_extension": ".py",
   "mimetype": "text/x-python",
   "name": "python",
   "nbconvert_exporter": "python",
   "pygments_lexer": "ipython3",
   "version": "3.11.4"
  }
 },
 "nbformat": 4,
 "nbformat_minor": 5
}
