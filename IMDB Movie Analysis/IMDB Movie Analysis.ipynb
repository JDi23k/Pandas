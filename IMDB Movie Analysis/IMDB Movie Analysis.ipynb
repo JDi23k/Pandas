{
 "cells": [
  {
   "cell_type": "markdown",
   "id": "33bf55d6",
   "metadata": {},
   "source": [
    "### Dataset link: https://www.kaggle.com/datasets/PromptCloudHQ/imdb-data"
   ]
  },
  {
   "cell_type": "markdown",
   "id": "eae94723",
   "metadata": {},
   "source": [
    "### Import the library"
   ]
  },
  {
   "cell_type": "code",
   "execution_count": 1,
   "id": "818728ff",
   "metadata": {},
   "outputs": [],
   "source": [
    "import numpy as np\n",
    "import pandas as pd\n",
    "from matplotlib import pyplot as plt\n",
    "import seaborn as sns"
   ]
  },
  {
   "cell_type": "markdown",
   "id": "a66d355b",
   "metadata": {},
   "source": [
    "### Load the dataset"
   ]
  },
  {
   "cell_type": "code",
   "execution_count": 2,
   "id": "9cdbf6eb",
   "metadata": {},
   "outputs": [],
   "source": [
    "df = pd.read_csv('IMDB-Movie-Data.csv')"
   ]
  },
  {
   "cell_type": "markdown",
   "id": "e54142a2",
   "metadata": {},
   "source": [
    "### 1. Display Top 10 Rows of The Dataset"
   ]
  },
  {
   "cell_type": "code",
   "execution_count": 3,
   "id": "cc29cbc4",
   "metadata": {},
   "outputs": [
    {
     "data": {
      "text/html": [
       "<div>\n",
       "<style scoped>\n",
       "    .dataframe tbody tr th:only-of-type {\n",
       "        vertical-align: middle;\n",
       "    }\n",
       "\n",
       "    .dataframe tbody tr th {\n",
       "        vertical-align: top;\n",
       "    }\n",
       "\n",
       "    .dataframe thead th {\n",
       "        text-align: right;\n",
       "    }\n",
       "</style>\n",
       "<table border=\"1\" class=\"dataframe\">\n",
       "  <thead>\n",
       "    <tr style=\"text-align: right;\">\n",
       "      <th></th>\n",
       "      <th>Rank</th>\n",
       "      <th>Title</th>\n",
       "      <th>Genre</th>\n",
       "      <th>Description</th>\n",
       "      <th>Director</th>\n",
       "      <th>Actors</th>\n",
       "      <th>Year</th>\n",
       "      <th>Runtime (Minutes)</th>\n",
       "      <th>Rating</th>\n",
       "      <th>Votes</th>\n",
       "      <th>Revenue (Millions)</th>\n",
       "      <th>Metascore</th>\n",
       "    </tr>\n",
       "  </thead>\n",
       "  <tbody>\n",
       "    <tr>\n",
       "      <th>0</th>\n",
       "      <td>1</td>\n",
       "      <td>Guardians of the Galaxy</td>\n",
       "      <td>Action,Adventure,Sci-Fi</td>\n",
       "      <td>A group of intergalactic criminals are forced ...</td>\n",
       "      <td>James Gunn</td>\n",
       "      <td>Chris Pratt, Vin Diesel, Bradley Cooper, Zoe S...</td>\n",
       "      <td>2014</td>\n",
       "      <td>121</td>\n",
       "      <td>8.1</td>\n",
       "      <td>757074</td>\n",
       "      <td>333.13</td>\n",
       "      <td>76.0</td>\n",
       "    </tr>\n",
       "    <tr>\n",
       "      <th>1</th>\n",
       "      <td>2</td>\n",
       "      <td>Prometheus</td>\n",
       "      <td>Adventure,Mystery,Sci-Fi</td>\n",
       "      <td>Following clues to the origin of mankind, a te...</td>\n",
       "      <td>Ridley Scott</td>\n",
       "      <td>Noomi Rapace, Logan Marshall-Green, Michael Fa...</td>\n",
       "      <td>2012</td>\n",
       "      <td>124</td>\n",
       "      <td>7.0</td>\n",
       "      <td>485820</td>\n",
       "      <td>126.46</td>\n",
       "      <td>65.0</td>\n",
       "    </tr>\n",
       "    <tr>\n",
       "      <th>2</th>\n",
       "      <td>3</td>\n",
       "      <td>Split</td>\n",
       "      <td>Horror,Thriller</td>\n",
       "      <td>Three girls are kidnapped by a man with a diag...</td>\n",
       "      <td>M. Night Shyamalan</td>\n",
       "      <td>James McAvoy, Anya Taylor-Joy, Haley Lu Richar...</td>\n",
       "      <td>2016</td>\n",
       "      <td>117</td>\n",
       "      <td>7.3</td>\n",
       "      <td>157606</td>\n",
       "      <td>138.12</td>\n",
       "      <td>62.0</td>\n",
       "    </tr>\n",
       "    <tr>\n",
       "      <th>3</th>\n",
       "      <td>4</td>\n",
       "      <td>Sing</td>\n",
       "      <td>Animation,Comedy,Family</td>\n",
       "      <td>In a city of humanoid animals, a hustling thea...</td>\n",
       "      <td>Christophe Lourdelet</td>\n",
       "      <td>Matthew McConaughey,Reese Witherspoon, Seth Ma...</td>\n",
       "      <td>2016</td>\n",
       "      <td>108</td>\n",
       "      <td>7.2</td>\n",
       "      <td>60545</td>\n",
       "      <td>270.32</td>\n",
       "      <td>59.0</td>\n",
       "    </tr>\n",
       "    <tr>\n",
       "      <th>4</th>\n",
       "      <td>5</td>\n",
       "      <td>Suicide Squad</td>\n",
       "      <td>Action,Adventure,Fantasy</td>\n",
       "      <td>A secret government agency recruits some of th...</td>\n",
       "      <td>David Ayer</td>\n",
       "      <td>Will Smith, Jared Leto, Margot Robbie, Viola D...</td>\n",
       "      <td>2016</td>\n",
       "      <td>123</td>\n",
       "      <td>6.2</td>\n",
       "      <td>393727</td>\n",
       "      <td>325.02</td>\n",
       "      <td>40.0</td>\n",
       "    </tr>\n",
       "    <tr>\n",
       "      <th>5</th>\n",
       "      <td>6</td>\n",
       "      <td>The Great Wall</td>\n",
       "      <td>Action,Adventure,Fantasy</td>\n",
       "      <td>European mercenaries searching for black powde...</td>\n",
       "      <td>Yimou Zhang</td>\n",
       "      <td>Matt Damon, Tian Jing, Willem Dafoe, Andy Lau</td>\n",
       "      <td>2016</td>\n",
       "      <td>103</td>\n",
       "      <td>6.1</td>\n",
       "      <td>56036</td>\n",
       "      <td>45.13</td>\n",
       "      <td>42.0</td>\n",
       "    </tr>\n",
       "    <tr>\n",
       "      <th>6</th>\n",
       "      <td>7</td>\n",
       "      <td>La La Land</td>\n",
       "      <td>Comedy,Drama,Music</td>\n",
       "      <td>A jazz pianist falls for an aspiring actress i...</td>\n",
       "      <td>Damien Chazelle</td>\n",
       "      <td>Ryan Gosling, Emma Stone, Rosemarie DeWitt, J....</td>\n",
       "      <td>2016</td>\n",
       "      <td>128</td>\n",
       "      <td>8.3</td>\n",
       "      <td>258682</td>\n",
       "      <td>151.06</td>\n",
       "      <td>93.0</td>\n",
       "    </tr>\n",
       "    <tr>\n",
       "      <th>7</th>\n",
       "      <td>8</td>\n",
       "      <td>Mindhorn</td>\n",
       "      <td>Comedy</td>\n",
       "      <td>A has-been actor best known for playing the ti...</td>\n",
       "      <td>Sean Foley</td>\n",
       "      <td>Essie Davis, Andrea Riseborough, Julian Barrat...</td>\n",
       "      <td>2016</td>\n",
       "      <td>89</td>\n",
       "      <td>6.4</td>\n",
       "      <td>2490</td>\n",
       "      <td>NaN</td>\n",
       "      <td>71.0</td>\n",
       "    </tr>\n",
       "    <tr>\n",
       "      <th>8</th>\n",
       "      <td>9</td>\n",
       "      <td>The Lost City of Z</td>\n",
       "      <td>Action,Adventure,Biography</td>\n",
       "      <td>A true-life drama, centering on British explor...</td>\n",
       "      <td>James Gray</td>\n",
       "      <td>Charlie Hunnam, Robert Pattinson, Sienna Mille...</td>\n",
       "      <td>2016</td>\n",
       "      <td>141</td>\n",
       "      <td>7.1</td>\n",
       "      <td>7188</td>\n",
       "      <td>8.01</td>\n",
       "      <td>78.0</td>\n",
       "    </tr>\n",
       "    <tr>\n",
       "      <th>9</th>\n",
       "      <td>10</td>\n",
       "      <td>Passengers</td>\n",
       "      <td>Adventure,Drama,Romance</td>\n",
       "      <td>A spacecraft traveling to a distant colony pla...</td>\n",
       "      <td>Morten Tyldum</td>\n",
       "      <td>Jennifer Lawrence, Chris Pratt, Michael Sheen,...</td>\n",
       "      <td>2016</td>\n",
       "      <td>116</td>\n",
       "      <td>7.0</td>\n",
       "      <td>192177</td>\n",
       "      <td>100.01</td>\n",
       "      <td>41.0</td>\n",
       "    </tr>\n",
       "  </tbody>\n",
       "</table>\n",
       "</div>"
      ],
      "text/plain": [
       "   Rank                    Title                       Genre  \\\n",
       "0     1  Guardians of the Galaxy     Action,Adventure,Sci-Fi   \n",
       "1     2               Prometheus    Adventure,Mystery,Sci-Fi   \n",
       "2     3                    Split             Horror,Thriller   \n",
       "3     4                     Sing     Animation,Comedy,Family   \n",
       "4     5            Suicide Squad    Action,Adventure,Fantasy   \n",
       "5     6           The Great Wall    Action,Adventure,Fantasy   \n",
       "6     7               La La Land          Comedy,Drama,Music   \n",
       "7     8                 Mindhorn                      Comedy   \n",
       "8     9       The Lost City of Z  Action,Adventure,Biography   \n",
       "9    10               Passengers     Adventure,Drama,Romance   \n",
       "\n",
       "                                         Description              Director  \\\n",
       "0  A group of intergalactic criminals are forced ...            James Gunn   \n",
       "1  Following clues to the origin of mankind, a te...          Ridley Scott   \n",
       "2  Three girls are kidnapped by a man with a diag...    M. Night Shyamalan   \n",
       "3  In a city of humanoid animals, a hustling thea...  Christophe Lourdelet   \n",
       "4  A secret government agency recruits some of th...            David Ayer   \n",
       "5  European mercenaries searching for black powde...           Yimou Zhang   \n",
       "6  A jazz pianist falls for an aspiring actress i...       Damien Chazelle   \n",
       "7  A has-been actor best known for playing the ti...            Sean Foley   \n",
       "8  A true-life drama, centering on British explor...            James Gray   \n",
       "9  A spacecraft traveling to a distant colony pla...         Morten Tyldum   \n",
       "\n",
       "                                              Actors  Year  Runtime (Minutes)  \\\n",
       "0  Chris Pratt, Vin Diesel, Bradley Cooper, Zoe S...  2014                121   \n",
       "1  Noomi Rapace, Logan Marshall-Green, Michael Fa...  2012                124   \n",
       "2  James McAvoy, Anya Taylor-Joy, Haley Lu Richar...  2016                117   \n",
       "3  Matthew McConaughey,Reese Witherspoon, Seth Ma...  2016                108   \n",
       "4  Will Smith, Jared Leto, Margot Robbie, Viola D...  2016                123   \n",
       "5      Matt Damon, Tian Jing, Willem Dafoe, Andy Lau  2016                103   \n",
       "6  Ryan Gosling, Emma Stone, Rosemarie DeWitt, J....  2016                128   \n",
       "7  Essie Davis, Andrea Riseborough, Julian Barrat...  2016                 89   \n",
       "8  Charlie Hunnam, Robert Pattinson, Sienna Mille...  2016                141   \n",
       "9  Jennifer Lawrence, Chris Pratt, Michael Sheen,...  2016                116   \n",
       "\n",
       "   Rating   Votes  Revenue (Millions)  Metascore  \n",
       "0     8.1  757074              333.13       76.0  \n",
       "1     7.0  485820              126.46       65.0  \n",
       "2     7.3  157606              138.12       62.0  \n",
       "3     7.2   60545              270.32       59.0  \n",
       "4     6.2  393727              325.02       40.0  \n",
       "5     6.1   56036               45.13       42.0  \n",
       "6     8.3  258682              151.06       93.0  \n",
       "7     6.4    2490                 NaN       71.0  \n",
       "8     7.1    7188                8.01       78.0  \n",
       "9     7.0  192177              100.01       41.0  "
      ]
     },
     "execution_count": 3,
     "metadata": {},
     "output_type": "execute_result"
    }
   ],
   "source": [
    "df.head(10)"
   ]
  },
  {
   "cell_type": "markdown",
   "id": "32fa8954",
   "metadata": {},
   "source": [
    "### 2. Check Last 10 Rows of The Dataset"
   ]
  },
  {
   "cell_type": "code",
   "execution_count": 4,
   "id": "2d665573",
   "metadata": {},
   "outputs": [
    {
     "data": {
      "text/html": [
       "<div>\n",
       "<style scoped>\n",
       "    .dataframe tbody tr th:only-of-type {\n",
       "        vertical-align: middle;\n",
       "    }\n",
       "\n",
       "    .dataframe tbody tr th {\n",
       "        vertical-align: top;\n",
       "    }\n",
       "\n",
       "    .dataframe thead th {\n",
       "        text-align: right;\n",
       "    }\n",
       "</style>\n",
       "<table border=\"1\" class=\"dataframe\">\n",
       "  <thead>\n",
       "    <tr style=\"text-align: right;\">\n",
       "      <th></th>\n",
       "      <th>Rank</th>\n",
       "      <th>Title</th>\n",
       "      <th>Genre</th>\n",
       "      <th>Description</th>\n",
       "      <th>Director</th>\n",
       "      <th>Actors</th>\n",
       "      <th>Year</th>\n",
       "      <th>Runtime (Minutes)</th>\n",
       "      <th>Rating</th>\n",
       "      <th>Votes</th>\n",
       "      <th>Revenue (Millions)</th>\n",
       "      <th>Metascore</th>\n",
       "    </tr>\n",
       "  </thead>\n",
       "  <tbody>\n",
       "    <tr>\n",
       "      <th>990</th>\n",
       "      <td>991</td>\n",
       "      <td>Underworld: Rise of the Lycans</td>\n",
       "      <td>Action,Adventure,Fantasy</td>\n",
       "      <td>An origins story centered on the centuries-old...</td>\n",
       "      <td>Patrick Tatopoulos</td>\n",
       "      <td>Rhona Mitra, Michael Sheen, Bill Nighy, Steven...</td>\n",
       "      <td>2009</td>\n",
       "      <td>92</td>\n",
       "      <td>6.6</td>\n",
       "      <td>129708</td>\n",
       "      <td>45.80</td>\n",
       "      <td>44.0</td>\n",
       "    </tr>\n",
       "    <tr>\n",
       "      <th>991</th>\n",
       "      <td>992</td>\n",
       "      <td>Taare Zameen Par</td>\n",
       "      <td>Drama,Family,Music</td>\n",
       "      <td>An eight-year-old boy is thought to be a lazy ...</td>\n",
       "      <td>Aamir Khan</td>\n",
       "      <td>Darsheel Safary, Aamir Khan, Tanay Chheda, Sac...</td>\n",
       "      <td>2007</td>\n",
       "      <td>165</td>\n",
       "      <td>8.5</td>\n",
       "      <td>102697</td>\n",
       "      <td>1.20</td>\n",
       "      <td>42.0</td>\n",
       "    </tr>\n",
       "    <tr>\n",
       "      <th>992</th>\n",
       "      <td>993</td>\n",
       "      <td>Take Me Home Tonight</td>\n",
       "      <td>Comedy,Drama,Romance</td>\n",
       "      <td>Four years after graduation, an awkward high s...</td>\n",
       "      <td>Michael Dowse</td>\n",
       "      <td>Topher Grace, Anna Faris, Dan Fogler, Teresa P...</td>\n",
       "      <td>2011</td>\n",
       "      <td>97</td>\n",
       "      <td>6.3</td>\n",
       "      <td>45419</td>\n",
       "      <td>6.92</td>\n",
       "      <td>NaN</td>\n",
       "    </tr>\n",
       "    <tr>\n",
       "      <th>993</th>\n",
       "      <td>994</td>\n",
       "      <td>Resident Evil: Afterlife</td>\n",
       "      <td>Action,Adventure,Horror</td>\n",
       "      <td>While still out to destroy the evil Umbrella C...</td>\n",
       "      <td>Paul W.S. Anderson</td>\n",
       "      <td>Milla Jovovich, Ali Larter, Wentworth Miller,K...</td>\n",
       "      <td>2010</td>\n",
       "      <td>97</td>\n",
       "      <td>5.9</td>\n",
       "      <td>140900</td>\n",
       "      <td>60.13</td>\n",
       "      <td>37.0</td>\n",
       "    </tr>\n",
       "    <tr>\n",
       "      <th>994</th>\n",
       "      <td>995</td>\n",
       "      <td>Project X</td>\n",
       "      <td>Comedy</td>\n",
       "      <td>3 high school seniors throw a birthday party t...</td>\n",
       "      <td>Nima Nourizadeh</td>\n",
       "      <td>Thomas Mann, Oliver Cooper, Jonathan Daniel Br...</td>\n",
       "      <td>2012</td>\n",
       "      <td>88</td>\n",
       "      <td>6.7</td>\n",
       "      <td>164088</td>\n",
       "      <td>54.72</td>\n",
       "      <td>48.0</td>\n",
       "    </tr>\n",
       "    <tr>\n",
       "      <th>995</th>\n",
       "      <td>996</td>\n",
       "      <td>Secret in Their Eyes</td>\n",
       "      <td>Crime,Drama,Mystery</td>\n",
       "      <td>A tight-knit team of rising investigators, alo...</td>\n",
       "      <td>Billy Ray</td>\n",
       "      <td>Chiwetel Ejiofor, Nicole Kidman, Julia Roberts...</td>\n",
       "      <td>2015</td>\n",
       "      <td>111</td>\n",
       "      <td>6.2</td>\n",
       "      <td>27585</td>\n",
       "      <td>NaN</td>\n",
       "      <td>45.0</td>\n",
       "    </tr>\n",
       "    <tr>\n",
       "      <th>996</th>\n",
       "      <td>997</td>\n",
       "      <td>Hostel: Part II</td>\n",
       "      <td>Horror</td>\n",
       "      <td>Three American college students studying abroa...</td>\n",
       "      <td>Eli Roth</td>\n",
       "      <td>Lauren German, Heather Matarazzo, Bijou Philli...</td>\n",
       "      <td>2007</td>\n",
       "      <td>94</td>\n",
       "      <td>5.5</td>\n",
       "      <td>73152</td>\n",
       "      <td>17.54</td>\n",
       "      <td>46.0</td>\n",
       "    </tr>\n",
       "    <tr>\n",
       "      <th>997</th>\n",
       "      <td>998</td>\n",
       "      <td>Step Up 2: The Streets</td>\n",
       "      <td>Drama,Music,Romance</td>\n",
       "      <td>Romantic sparks occur between two dance studen...</td>\n",
       "      <td>Jon M. Chu</td>\n",
       "      <td>Robert Hoffman, Briana Evigan, Cassie Ventura,...</td>\n",
       "      <td>2008</td>\n",
       "      <td>98</td>\n",
       "      <td>6.2</td>\n",
       "      <td>70699</td>\n",
       "      <td>58.01</td>\n",
       "      <td>50.0</td>\n",
       "    </tr>\n",
       "    <tr>\n",
       "      <th>998</th>\n",
       "      <td>999</td>\n",
       "      <td>Search Party</td>\n",
       "      <td>Adventure,Comedy</td>\n",
       "      <td>A pair of friends embark on a mission to reuni...</td>\n",
       "      <td>Scot Armstrong</td>\n",
       "      <td>Adam Pally, T.J. Miller, Thomas Middleditch,Sh...</td>\n",
       "      <td>2014</td>\n",
       "      <td>93</td>\n",
       "      <td>5.6</td>\n",
       "      <td>4881</td>\n",
       "      <td>NaN</td>\n",
       "      <td>22.0</td>\n",
       "    </tr>\n",
       "    <tr>\n",
       "      <th>999</th>\n",
       "      <td>1000</td>\n",
       "      <td>Nine Lives</td>\n",
       "      <td>Comedy,Family,Fantasy</td>\n",
       "      <td>A stuffy businessman finds himself trapped ins...</td>\n",
       "      <td>Barry Sonnenfeld</td>\n",
       "      <td>Kevin Spacey, Jennifer Garner, Robbie Amell,Ch...</td>\n",
       "      <td>2016</td>\n",
       "      <td>87</td>\n",
       "      <td>5.3</td>\n",
       "      <td>12435</td>\n",
       "      <td>19.64</td>\n",
       "      <td>11.0</td>\n",
       "    </tr>\n",
       "  </tbody>\n",
       "</table>\n",
       "</div>"
      ],
      "text/plain": [
       "     Rank                           Title                     Genre  \\\n",
       "990   991  Underworld: Rise of the Lycans  Action,Adventure,Fantasy   \n",
       "991   992                Taare Zameen Par        Drama,Family,Music   \n",
       "992   993            Take Me Home Tonight      Comedy,Drama,Romance   \n",
       "993   994        Resident Evil: Afterlife   Action,Adventure,Horror   \n",
       "994   995                       Project X                    Comedy   \n",
       "995   996            Secret in Their Eyes       Crime,Drama,Mystery   \n",
       "996   997                 Hostel: Part II                    Horror   \n",
       "997   998          Step Up 2: The Streets       Drama,Music,Romance   \n",
       "998   999                    Search Party          Adventure,Comedy   \n",
       "999  1000                      Nine Lives     Comedy,Family,Fantasy   \n",
       "\n",
       "                                           Description            Director  \\\n",
       "990  An origins story centered on the centuries-old...  Patrick Tatopoulos   \n",
       "991  An eight-year-old boy is thought to be a lazy ...          Aamir Khan   \n",
       "992  Four years after graduation, an awkward high s...       Michael Dowse   \n",
       "993  While still out to destroy the evil Umbrella C...  Paul W.S. Anderson   \n",
       "994  3 high school seniors throw a birthday party t...     Nima Nourizadeh   \n",
       "995  A tight-knit team of rising investigators, alo...           Billy Ray   \n",
       "996  Three American college students studying abroa...            Eli Roth   \n",
       "997  Romantic sparks occur between two dance studen...          Jon M. Chu   \n",
       "998  A pair of friends embark on a mission to reuni...      Scot Armstrong   \n",
       "999  A stuffy businessman finds himself trapped ins...    Barry Sonnenfeld   \n",
       "\n",
       "                                                Actors  Year  \\\n",
       "990  Rhona Mitra, Michael Sheen, Bill Nighy, Steven...  2009   \n",
       "991  Darsheel Safary, Aamir Khan, Tanay Chheda, Sac...  2007   \n",
       "992  Topher Grace, Anna Faris, Dan Fogler, Teresa P...  2011   \n",
       "993  Milla Jovovich, Ali Larter, Wentworth Miller,K...  2010   \n",
       "994  Thomas Mann, Oliver Cooper, Jonathan Daniel Br...  2012   \n",
       "995  Chiwetel Ejiofor, Nicole Kidman, Julia Roberts...  2015   \n",
       "996  Lauren German, Heather Matarazzo, Bijou Philli...  2007   \n",
       "997  Robert Hoffman, Briana Evigan, Cassie Ventura,...  2008   \n",
       "998  Adam Pally, T.J. Miller, Thomas Middleditch,Sh...  2014   \n",
       "999  Kevin Spacey, Jennifer Garner, Robbie Amell,Ch...  2016   \n",
       "\n",
       "     Runtime (Minutes)  Rating   Votes  Revenue (Millions)  Metascore  \n",
       "990                 92     6.6  129708               45.80       44.0  \n",
       "991                165     8.5  102697                1.20       42.0  \n",
       "992                 97     6.3   45419                6.92        NaN  \n",
       "993                 97     5.9  140900               60.13       37.0  \n",
       "994                 88     6.7  164088               54.72       48.0  \n",
       "995                111     6.2   27585                 NaN       45.0  \n",
       "996                 94     5.5   73152               17.54       46.0  \n",
       "997                 98     6.2   70699               58.01       50.0  \n",
       "998                 93     5.6    4881                 NaN       22.0  \n",
       "999                 87     5.3   12435               19.64       11.0  "
      ]
     },
     "execution_count": 4,
     "metadata": {},
     "output_type": "execute_result"
    }
   ],
   "source": [
    "df.tail(10)"
   ]
  },
  {
   "cell_type": "markdown",
   "id": "3a8669e1",
   "metadata": {},
   "source": [
    "### 3. Find Shape of Our Dataset (Number of Rows And Number of Columns)"
   ]
  },
  {
   "cell_type": "code",
   "execution_count": 5,
   "id": "af6fc2c7",
   "metadata": {},
   "outputs": [
    {
     "name": "stdout",
     "output_type": "stream",
     "text": [
      "Shape of the dataset (1000, 12)\n",
      "Number of rows 1000\n",
      "Number of columns 12\n"
     ]
    }
   ],
   "source": [
    "print(\"Shape of the dataset\", df.shape)\n",
    "print(\"Number of rows\", df.shape[0])\n",
    "print(\"Number of columns\", df.shape[1])"
   ]
  },
  {
   "cell_type": "markdown",
   "id": "4d8d8bc0",
   "metadata": {},
   "source": [
    "### 4. Getting Information About Our Dataset Like Total Number Rows, Total Number of Columns, Datatypes of Each Column And Memory Requirement"
   ]
  },
  {
   "cell_type": "code",
   "execution_count": 6,
   "id": "bda0e415",
   "metadata": {},
   "outputs": [
    {
     "name": "stdout",
     "output_type": "stream",
     "text": [
      "<class 'pandas.core.frame.DataFrame'>\n",
      "RangeIndex: 1000 entries, 0 to 999\n",
      "Data columns (total 12 columns):\n",
      " #   Column              Non-Null Count  Dtype  \n",
      "---  ------              --------------  -----  \n",
      " 0   Rank                1000 non-null   int64  \n",
      " 1   Title               1000 non-null   object \n",
      " 2   Genre               1000 non-null   object \n",
      " 3   Description         1000 non-null   object \n",
      " 4   Director            1000 non-null   object \n",
      " 5   Actors              1000 non-null   object \n",
      " 6   Year                1000 non-null   int64  \n",
      " 7   Runtime (Minutes)   1000 non-null   int64  \n",
      " 8   Rating              1000 non-null   float64\n",
      " 9   Votes               1000 non-null   int64  \n",
      " 10  Revenue (Millions)  872 non-null    float64\n",
      " 11  Metascore           936 non-null    float64\n",
      "dtypes: float64(3), int64(4), object(5)\n",
      "memory usage: 93.9+ KB\n"
     ]
    }
   ],
   "source": [
    "df.info()"
   ]
  },
  {
   "cell_type": "markdown",
   "id": "6a9d87dc",
   "metadata": {},
   "source": [
    "### 5. Check Missing Values In The Dataset"
   ]
  },
  {
   "cell_type": "code",
   "execution_count": 7,
   "id": "1cb8c29e",
   "metadata": {},
   "outputs": [
    {
     "data": {
      "text/plain": [
       "Rank                    0\n",
       "Title                   0\n",
       "Genre                   0\n",
       "Description             0\n",
       "Director                0\n",
       "Actors                  0\n",
       "Year                    0\n",
       "Runtime (Minutes)       0\n",
       "Rating                  0\n",
       "Votes                   0\n",
       "Revenue (Millions)    128\n",
       "Metascore              64\n",
       "dtype: int64"
      ]
     },
     "execution_count": 7,
     "metadata": {},
     "output_type": "execute_result"
    }
   ],
   "source": [
    "df.isnull().sum()"
   ]
  },
  {
   "cell_type": "code",
   "execution_count": 8,
   "id": "c6057e6e",
   "metadata": {},
   "outputs": [
    {
     "data": {
      "image/png": "[encoded data removed]",
      "text/plain": [
       "<Figure size 640x480 with 2 Axes>"
      ]
     },
     "metadata": {},
     "output_type": "display_data"
    }
   ],
   "source": [
    "sns.heatmap(df.isnull())\n",
    "plt.show()"
   ]
  },
  {
   "cell_type": "markdown",
   "id": "3a28765e",
   "metadata": {},
   "source": [
    "### 6. Drop All The  Missing Values"
   ]
  },
  {
   "cell_type": "code",
   "execution_count": 9,
   "id": "225f5879",
   "metadata": {},
   "outputs": [],
   "source": [
    "df = df.dropna(axis=0)"
   ]
  },
  {
   "cell_type": "code",
   "execution_count": 10,
   "id": "82875e63",
   "metadata": {},
   "outputs": [
    {
     "data": {
      "image/png": "[encoded data removed]",
      "text/plain": [
       "<Figure size 640x480 with 2 Axes>"
      ]
     },
     "metadata": {},
     "output_type": "display_data"
    }
   ],
   "source": [
    "sns.heatmap(df.isnull())\n",
    "plt.show()"
   ]
  },
  {
   "cell_type": "markdown",
   "id": "7073bf92",
   "metadata": {},
   "source": [
    "### 7. Check For Duplicate Data"
   ]
  },
  {
   "cell_type": "code",
   "execution_count": 11,
   "id": "96b4e9c4",
   "metadata": {},
   "outputs": [
    {
     "data": {
      "text/plain": [
       "0"
      ]
     },
     "execution_count": 11,
     "metadata": {},
     "output_type": "execute_result"
    }
   ],
   "source": [
    "df.duplicated().sum()"
   ]
  },
  {
   "cell_type": "markdown",
   "id": "6635ef62",
   "metadata": {},
   "source": [
    "### 8. Get Overall Statistics About The DataFrame"
   ]
  },
  {
   "cell_type": "code",
   "execution_count": 12,
   "id": "942482c6",
   "metadata": {},
   "outputs": [
    {
     "data": {
      "text/html": [
       "<div>\n",
       "<style scoped>\n",
       "    .dataframe tbody tr th:only-of-type {\n",
       "        vertical-align: middle;\n",
       "    }\n",
       "\n",
       "    .dataframe tbody tr th {\n",
       "        vertical-align: top;\n",
       "    }\n",
       "\n",
       "    .dataframe thead th {\n",
       "        text-align: right;\n",
       "    }\n",
       "</style>\n",
       "<table border=\"1\" class=\"dataframe\">\n",
       "  <thead>\n",
       "    <tr style=\"text-align: right;\">\n",
       "      <th></th>\n",
       "      <th>Rank</th>\n",
       "      <th>Year</th>\n",
       "      <th>Runtime (Minutes)</th>\n",
       "      <th>Rating</th>\n",
       "      <th>Votes</th>\n",
       "      <th>Revenue (Millions)</th>\n",
       "      <th>Metascore</th>\n",
       "    </tr>\n",
       "  </thead>\n",
       "  <tbody>\n",
       "    <tr>\n",
       "      <th>count</th>\n",
       "      <td>838.000000</td>\n",
       "      <td>838.00000</td>\n",
       "      <td>838.000000</td>\n",
       "      <td>838.000000</td>\n",
       "      <td>8.380000e+02</td>\n",
       "      <td>838.000000</td>\n",
       "      <td>838.000000</td>\n",
       "    </tr>\n",
       "    <tr>\n",
       "      <th>mean</th>\n",
       "      <td>485.247017</td>\n",
       "      <td>2012.50716</td>\n",
       "      <td>114.638425</td>\n",
       "      <td>6.814320</td>\n",
       "      <td>1.932303e+05</td>\n",
       "      <td>84.564558</td>\n",
       "      <td>59.575179</td>\n",
       "    </tr>\n",
       "    <tr>\n",
       "      <th>std</th>\n",
       "      <td>286.572065</td>\n",
       "      <td>3.17236</td>\n",
       "      <td>18.470922</td>\n",
       "      <td>0.877754</td>\n",
       "      <td>1.930990e+05</td>\n",
       "      <td>104.520227</td>\n",
       "      <td>16.952416</td>\n",
       "    </tr>\n",
       "    <tr>\n",
       "      <th>min</th>\n",
       "      <td>1.000000</td>\n",
       "      <td>2006.00000</td>\n",
       "      <td>66.000000</td>\n",
       "      <td>1.900000</td>\n",
       "      <td>1.780000e+02</td>\n",
       "      <td>0.000000</td>\n",
       "      <td>11.000000</td>\n",
       "    </tr>\n",
       "    <tr>\n",
       "      <th>25%</th>\n",
       "      <td>238.250000</td>\n",
       "      <td>2010.00000</td>\n",
       "      <td>101.000000</td>\n",
       "      <td>6.300000</td>\n",
       "      <td>6.127650e+04</td>\n",
       "      <td>13.967500</td>\n",
       "      <td>47.000000</td>\n",
       "    </tr>\n",
       "    <tr>\n",
       "      <th>50%</th>\n",
       "      <td>475.500000</td>\n",
       "      <td>2013.00000</td>\n",
       "      <td>112.000000</td>\n",
       "      <td>6.900000</td>\n",
       "      <td>1.368795e+05</td>\n",
       "      <td>48.150000</td>\n",
       "      <td>60.000000</td>\n",
       "    </tr>\n",
       "    <tr>\n",
       "      <th>75%</th>\n",
       "      <td>729.750000</td>\n",
       "      <td>2015.00000</td>\n",
       "      <td>124.000000</td>\n",
       "      <td>7.500000</td>\n",
       "      <td>2.710830e+05</td>\n",
       "      <td>116.800000</td>\n",
       "      <td>72.000000</td>\n",
       "    </tr>\n",
       "    <tr>\n",
       "      <th>max</th>\n",
       "      <td>1000.000000</td>\n",
       "      <td>2016.00000</td>\n",
       "      <td>187.000000</td>\n",
       "      <td>9.000000</td>\n",
       "      <td>1.791916e+06</td>\n",
       "      <td>936.630000</td>\n",
       "      <td>100.000000</td>\n",
       "    </tr>\n",
       "  </tbody>\n",
       "</table>\n",
       "</div>"
      ],
      "text/plain": [
       "              Rank        Year  Runtime (Minutes)      Rating         Votes  \\\n",
       "count   838.000000   838.00000         838.000000  838.000000  8.380000e+02   \n",
       "mean    485.247017  2012.50716         114.638425    6.814320  1.932303e+05   \n",
       "std     286.572065     3.17236          18.470922    0.877754  1.930990e+05   \n",
       "min       1.000000  2006.00000          66.000000    1.900000  1.780000e+02   \n",
       "25%     238.250000  2010.00000         101.000000    6.300000  6.127650e+04   \n",
       "50%     475.500000  2013.00000         112.000000    6.900000  1.368795e+05   \n",
       "75%     729.750000  2015.00000         124.000000    7.500000  2.710830e+05   \n",
       "max    1000.000000  2016.00000         187.000000    9.000000  1.791916e+06   \n",
       "\n",
       "       Revenue (Millions)   Metascore  \n",
       "count          838.000000  838.000000  \n",
       "mean            84.564558   59.575179  \n",
       "std            104.520227   16.952416  \n",
       "min              0.000000   11.000000  \n",
       "25%             13.967500   47.000000  \n",
       "50%             48.150000   60.000000  \n",
       "75%            116.800000   72.000000  \n",
       "max            936.630000  100.000000  "
      ]
     },
     "execution_count": 12,
     "metadata": {},
     "output_type": "execute_result"
    }
   ],
   "source": [
    "df.describe()"
   ]
  },
  {
   "cell_type": "code",
   "execution_count": 13,
   "id": "73b28623",
   "metadata": {},
   "outputs": [
    {
     "data": {
      "text/html": [
       "<div>\n",
       "<style scoped>\n",
       "    .dataframe tbody tr th:only-of-type {\n",
       "        vertical-align: middle;\n",
       "    }\n",
       "\n",
       "    .dataframe tbody tr th {\n",
       "        vertical-align: top;\n",
       "    }\n",
       "\n",
       "    .dataframe thead th {\n",
       "        text-align: right;\n",
       "    }\n",
       "</style>\n",
       "<table border=\"1\" class=\"dataframe\">\n",
       "  <thead>\n",
       "    <tr style=\"text-align: right;\">\n",
       "      <th></th>\n",
       "      <th>Rank</th>\n",
       "      <th>Title</th>\n",
       "      <th>Genre</th>\n",
       "      <th>Description</th>\n",
       "      <th>Director</th>\n",
       "      <th>Actors</th>\n",
       "      <th>Year</th>\n",
       "      <th>Runtime (Minutes)</th>\n",
       "      <th>Rating</th>\n",
       "      <th>Votes</th>\n",
       "      <th>Revenue (Millions)</th>\n",
       "      <th>Metascore</th>\n",
       "    </tr>\n",
       "  </thead>\n",
       "  <tbody>\n",
       "    <tr>\n",
       "      <th>count</th>\n",
       "      <td>838.000000</td>\n",
       "      <td>838</td>\n",
       "      <td>838</td>\n",
       "      <td>838</td>\n",
       "      <td>838</td>\n",
       "      <td>838</td>\n",
       "      <td>838.00000</td>\n",
       "      <td>838.000000</td>\n",
       "      <td>838.000000</td>\n",
       "      <td>8.380000e+02</td>\n",
       "      <td>838.000000</td>\n",
       "      <td>838.000000</td>\n",
       "    </tr>\n",
       "    <tr>\n",
       "      <th>unique</th>\n",
       "      <td>NaN</td>\n",
       "      <td>837</td>\n",
       "      <td>189</td>\n",
       "      <td>838</td>\n",
       "      <td>524</td>\n",
       "      <td>834</td>\n",
       "      <td>NaN</td>\n",
       "      <td>NaN</td>\n",
       "      <td>NaN</td>\n",
       "      <td>NaN</td>\n",
       "      <td>NaN</td>\n",
       "      <td>NaN</td>\n",
       "    </tr>\n",
       "    <tr>\n",
       "      <th>top</th>\n",
       "      <td>NaN</td>\n",
       "      <td>The Host</td>\n",
       "      <td>Action,Adventure,Sci-Fi</td>\n",
       "      <td>A group of intergalactic criminals are forced ...</td>\n",
       "      <td>Ridley Scott</td>\n",
       "      <td>Jennifer Lawrence, Josh Hutcherson, Liam Hemsw...</td>\n",
       "      <td>NaN</td>\n",
       "      <td>NaN</td>\n",
       "      <td>NaN</td>\n",
       "      <td>NaN</td>\n",
       "      <td>NaN</td>\n",
       "      <td>NaN</td>\n",
       "    </tr>\n",
       "    <tr>\n",
       "      <th>freq</th>\n",
       "      <td>NaN</td>\n",
       "      <td>2</td>\n",
       "      <td>50</td>\n",
       "      <td>1</td>\n",
       "      <td>8</td>\n",
       "      <td>2</td>\n",
       "      <td>NaN</td>\n",
       "      <td>NaN</td>\n",
       "      <td>NaN</td>\n",
       "      <td>NaN</td>\n",
       "      <td>NaN</td>\n",
       "      <td>NaN</td>\n",
       "    </tr>\n",
       "    <tr>\n",
       "      <th>mean</th>\n",
       "      <td>485.247017</td>\n",
       "      <td>NaN</td>\n",
       "      <td>NaN</td>\n",
       "      <td>NaN</td>\n",
       "      <td>NaN</td>\n",
       "      <td>NaN</td>\n",
       "      <td>2012.50716</td>\n",
       "      <td>114.638425</td>\n",
       "      <td>6.814320</td>\n",
       "      <td>1.932303e+05</td>\n",
       "      <td>84.564558</td>\n",
       "      <td>59.575179</td>\n",
       "    </tr>\n",
       "    <tr>\n",
       "      <th>std</th>\n",
       "      <td>286.572065</td>\n",
       "      <td>NaN</td>\n",
       "      <td>NaN</td>\n",
       "      <td>NaN</td>\n",
       "      <td>NaN</td>\n",
       "      <td>NaN</td>\n",
       "      <td>3.17236</td>\n",
       "      <td>18.470922</td>\n",
       "      <td>0.877754</td>\n",
       "      <td>1.930990e+05</td>\n",
       "      <td>104.520227</td>\n",
       "      <td>16.952416</td>\n",
       "    </tr>\n",
       "    <tr>\n",
       "      <th>min</th>\n",
       "      <td>1.000000</td>\n",
       "      <td>NaN</td>\n",
       "      <td>NaN</td>\n",
       "      <td>NaN</td>\n",
       "      <td>NaN</td>\n",
       "      <td>NaN</td>\n",
       "      <td>2006.00000</td>\n",
       "      <td>66.000000</td>\n",
       "      <td>1.900000</td>\n",
       "      <td>1.780000e+02</td>\n",
       "      <td>0.000000</td>\n",
       "      <td>11.000000</td>\n",
       "    </tr>\n",
       "    <tr>\n",
       "      <th>25%</th>\n",
       "      <td>238.250000</td>\n",
       "      <td>NaN</td>\n",
       "      <td>NaN</td>\n",
       "      <td>NaN</td>\n",
       "      <td>NaN</td>\n",
       "      <td>NaN</td>\n",
       "      <td>2010.00000</td>\n",
       "      <td>101.000000</td>\n",
       "      <td>6.300000</td>\n",
       "      <td>6.127650e+04</td>\n",
       "      <td>13.967500</td>\n",
       "      <td>47.000000</td>\n",
       "    </tr>\n",
       "    <tr>\n",
       "      <th>50%</th>\n",
       "      <td>475.500000</td>\n",
       "      <td>NaN</td>\n",
       "      <td>NaN</td>\n",
       "      <td>NaN</td>\n",
       "      <td>NaN</td>\n",
       "      <td>NaN</td>\n",
       "      <td>2013.00000</td>\n",
       "      <td>112.000000</td>\n",
       "      <td>6.900000</td>\n",
       "      <td>1.368795e+05</td>\n",
       "      <td>48.150000</td>\n",
       "      <td>60.000000</td>\n",
       "    </tr>\n",
       "    <tr>\n",
       "      <th>75%</th>\n",
       "      <td>729.750000</td>\n",
       "      <td>NaN</td>\n",
       "      <td>NaN</td>\n",
       "      <td>NaN</td>\n",
       "      <td>NaN</td>\n",
       "      <td>NaN</td>\n",
       "      <td>2015.00000</td>\n",
       "      <td>124.000000</td>\n",
       "      <td>7.500000</td>\n",
       "      <td>2.710830e+05</td>\n",
       "      <td>116.800000</td>\n",
       "      <td>72.000000</td>\n",
       "    </tr>\n",
       "    <tr>\n",
       "      <th>max</th>\n",
       "      <td>1000.000000</td>\n",
       "      <td>NaN</td>\n",
       "      <td>NaN</td>\n",
       "      <td>NaN</td>\n",
       "      <td>NaN</td>\n",
       "      <td>NaN</td>\n",
       "      <td>2016.00000</td>\n",
       "      <td>187.000000</td>\n",
       "      <td>9.000000</td>\n",
       "      <td>1.791916e+06</td>\n",
       "      <td>936.630000</td>\n",
       "      <td>100.000000</td>\n",
       "    </tr>\n",
       "  </tbody>\n",
       "</table>\n",
       "</div>"
      ],
      "text/plain": [
       "               Rank     Title                    Genre  \\\n",
       "count    838.000000       838                      838   \n",
       "unique          NaN       837                      189   \n",
       "top             NaN  The Host  Action,Adventure,Sci-Fi   \n",
       "freq            NaN         2                       50   \n",
       "mean     485.247017       NaN                      NaN   \n",
       "std      286.572065       NaN                      NaN   \n",
       "min        1.000000       NaN                      NaN   \n",
       "25%      238.250000       NaN                      NaN   \n",
       "50%      475.500000       NaN                      NaN   \n",
       "75%      729.750000       NaN                      NaN   \n",
       "max     1000.000000       NaN                      NaN   \n",
       "\n",
       "                                              Description      Director  \\\n",
       "count                                                 838           838   \n",
       "unique                                                838           524   \n",
       "top     A group of intergalactic criminals are forced ...  Ridley Scott   \n",
       "freq                                                    1             8   \n",
       "mean                                                  NaN           NaN   \n",
       "std                                                   NaN           NaN   \n",
       "min                                                   NaN           NaN   \n",
       "25%                                                   NaN           NaN   \n",
       "50%                                                   NaN           NaN   \n",
       "75%                                                   NaN           NaN   \n",
       "max                                                   NaN           NaN   \n",
       "\n",
       "                                                   Actors        Year  \\\n",
       "count                                                 838   838.00000   \n",
       "unique                                                834         NaN   \n",
       "top     Jennifer Lawrence, Josh Hutcherson, Liam Hemsw...         NaN   \n",
       "freq                                                    2         NaN   \n",
       "mean                                                  NaN  2012.50716   \n",
       "std                                                   NaN     3.17236   \n",
       "min                                                   NaN  2006.00000   \n",
       "25%                                                   NaN  2010.00000   \n",
       "50%                                                   NaN  2013.00000   \n",
       "75%                                                   NaN  2015.00000   \n",
       "max                                                   NaN  2016.00000   \n",
       "\n",
       "        Runtime (Minutes)      Rating         Votes  Revenue (Millions)  \\\n",
       "count          838.000000  838.000000  8.380000e+02          838.000000   \n",
       "unique                NaN         NaN           NaN                 NaN   \n",
       "top                   NaN         NaN           NaN                 NaN   \n",
       "freq                  NaN         NaN           NaN                 NaN   \n",
       "mean           114.638425    6.814320  1.932303e+05           84.564558   \n",
       "std             18.470922    0.877754  1.930990e+05          104.520227   \n",
       "min             66.000000    1.900000  1.780000e+02            0.000000   \n",
       "25%            101.000000    6.300000  6.127650e+04           13.967500   \n",
       "50%            112.000000    6.900000  1.368795e+05           48.150000   \n",
       "75%            124.000000    7.500000  2.710830e+05          116.800000   \n",
       "max            187.000000    9.000000  1.791916e+06          936.630000   \n",
       "\n",
       "         Metascore  \n",
       "count   838.000000  \n",
       "unique         NaN  \n",
       "top            NaN  \n",
       "freq           NaN  \n",
       "mean     59.575179  \n",
       "std      16.952416  \n",
       "min      11.000000  \n",
       "25%      47.000000  \n",
       "50%      60.000000  \n",
       "75%      72.000000  \n",
       "max     100.000000  "
      ]
     },
     "execution_count": 13,
     "metadata": {},
     "output_type": "execute_result"
    }
   ],
   "source": [
    "df.describe(include='all')"
   ]
  },
  {
   "cell_type": "markdown",
   "id": "b3f9dd08",
   "metadata": {},
   "source": [
    "### 9. Display Title of The Movie Having Runtime Greater Than or equal to 180 Minutes"
   ]
  },
  {
   "cell_type": "code",
   "execution_count": 14,
   "id": "4bd7e634",
   "metadata": {},
   "outputs": [
    {
     "data": {
      "text/plain": [
       "Index(['Rank', 'Title', 'Genre', 'Description', 'Director', 'Actors', 'Year',\n",
       "       'Runtime (Minutes)', 'Rating', 'Votes', 'Revenue (Millions)',\n",
       "       'Metascore'],\n",
       "      dtype='object')"
      ]
     },
     "execution_count": 14,
     "metadata": {},
     "output_type": "execute_result"
    }
   ],
   "source": [
    "df.columns"
   ]
  },
  {
   "cell_type": "code",
   "execution_count": 15,
   "id": "7c7e757e",
   "metadata": {},
   "outputs": [
    {
     "data": {
      "text/plain": [
       "82     The Wolf of Wall Street\n",
       "88           The Hateful Eight\n",
       "311             La vie d'Adèle\n",
       "Name: Title, dtype: object"
      ]
     },
     "execution_count": 15,
     "metadata": {},
     "output_type": "execute_result"
    }
   ],
   "source": [
    "df[df['Runtime (Minutes)'] >= 180]['Title']"
   ]
  },
  {
   "cell_type": "markdown",
   "id": "fb5d5934",
   "metadata": {},
   "source": [
    "### 10. In Which Year There Was The Highest Average Voting?"
   ]
  },
  {
   "cell_type": "code",
   "execution_count": 16,
   "id": "35458437",
   "metadata": {},
   "outputs": [
    {
     "data": {
      "text/plain": [
       "Index(['Rank', 'Title', 'Genre', 'Description', 'Director', 'Actors', 'Year',\n",
       "       'Runtime (Minutes)', 'Rating', 'Votes', 'Revenue (Millions)',\n",
       "       'Metascore'],\n",
       "      dtype='object')"
      ]
     },
     "execution_count": 16,
     "metadata": {},
     "output_type": "execute_result"
    }
   ],
   "source": [
    "df.columns"
   ]
  },
  {
   "cell_type": "code",
   "execution_count": 17,
   "id": "75661eec",
   "metadata": {},
   "outputs": [
    {
     "data": {
      "text/html": [
       "<div>\n",
       "<style scoped>\n",
       "    .dataframe tbody tr th:only-of-type {\n",
       "        vertical-align: middle;\n",
       "    }\n",
       "\n",
       "    .dataframe tbody tr th {\n",
       "        vertical-align: top;\n",
       "    }\n",
       "\n",
       "    .dataframe thead th {\n",
       "        text-align: right;\n",
       "    }\n",
       "</style>\n",
       "<table border=\"1\" class=\"dataframe\">\n",
       "  <thead>\n",
       "    <tr style=\"text-align: right;\">\n",
       "      <th></th>\n",
       "      <th>Year</th>\n",
       "      <th>Votes</th>\n",
       "    </tr>\n",
       "  </thead>\n",
       "  <tbody>\n",
       "    <tr>\n",
       "      <th>0</th>\n",
       "      <td>2012</td>\n",
       "      <td>290861.483871</td>\n",
       "    </tr>\n",
       "    <tr>\n",
       "      <th>1</th>\n",
       "      <td>2006</td>\n",
       "      <td>277232.219512</td>\n",
       "    </tr>\n",
       "    <tr>\n",
       "      <th>2</th>\n",
       "      <td>2009</td>\n",
       "      <td>267180.577778</td>\n",
       "    </tr>\n",
       "    <tr>\n",
       "      <th>3</th>\n",
       "      <td>2008</td>\n",
       "      <td>266580.145833</td>\n",
       "    </tr>\n",
       "    <tr>\n",
       "      <th>4</th>\n",
       "      <td>2007</td>\n",
       "      <td>266530.704545</td>\n",
       "    </tr>\n",
       "    <tr>\n",
       "      <th>5</th>\n",
       "      <td>2010</td>\n",
       "      <td>261082.929825</td>\n",
       "    </tr>\n",
       "    <tr>\n",
       "      <th>6</th>\n",
       "      <td>2011</td>\n",
       "      <td>259254.736842</td>\n",
       "    </tr>\n",
       "    <tr>\n",
       "      <th>7</th>\n",
       "      <td>2013</td>\n",
       "      <td>225531.892857</td>\n",
       "    </tr>\n",
       "    <tr>\n",
       "      <th>8</th>\n",
       "      <td>2014</td>\n",
       "      <td>211926.881720</td>\n",
       "    </tr>\n",
       "    <tr>\n",
       "      <th>9</th>\n",
       "      <td>2015</td>\n",
       "      <td>129512.651376</td>\n",
       "    </tr>\n",
       "    <tr>\n",
       "      <th>10</th>\n",
       "      <td>2016</td>\n",
       "      <td>68437.823232</td>\n",
       "    </tr>\n",
       "  </tbody>\n",
       "</table>\n",
       "</div>"
      ],
      "text/plain": [
       "    Year          Votes\n",
       "0   2012  290861.483871\n",
       "1   2006  277232.219512\n",
       "2   2009  267180.577778\n",
       "3   2008  266580.145833\n",
       "4   2007  266530.704545\n",
       "5   2010  261082.929825\n",
       "6   2011  259254.736842\n",
       "7   2013  225531.892857\n",
       "8   2014  211926.881720\n",
       "9   2015  129512.651376\n",
       "10  2016   68437.823232"
      ]
     },
     "execution_count": 17,
     "metadata": {},
     "output_type": "execute_result"
    }
   ],
   "source": [
    "df1 = df.groupby('Year')['Votes'].mean().sort_values(ascending=False).reset_index()\n",
    "df1"
   ]
  },
  {
   "cell_type": "code",
   "execution_count": 18,
   "id": "688341d3",
   "metadata": {},
   "outputs": [
    {
     "data": {
      "image/png": "[encoded data removed]",
      "text/plain": [
       "<Figure size 640x480 with 1 Axes>"
      ]
     },
     "metadata": {},
     "output_type": "display_data"
    }
   ],
   "source": [
    "sns.barplot(x='Year', y='Votes', data=df1)\n",
    "plt.title(\"Votes By Year\")\n",
    "plt.show()"
   ]
  },
  {
   "cell_type": "markdown",
   "id": "1d675fe7",
   "metadata": {},
   "source": [
    "### 11. In Which Year There Was The Highest Average Revenue?"
   ]
  },
  {
   "cell_type": "code",
   "execution_count": 19,
   "id": "1de7448c",
   "metadata": {},
   "outputs": [
    {
     "data": {
      "text/plain": [
       "Index(['Rank', 'Title', 'Genre', 'Description', 'Director', 'Actors', 'Year',\n",
       "       'Runtime (Minutes)', 'Rating', 'Votes', 'Revenue (Millions)',\n",
       "       'Metascore'],\n",
       "      dtype='object')"
      ]
     },
     "execution_count": 19,
     "metadata": {},
     "output_type": "execute_result"
    }
   ],
   "source": [
    "df.columns"
   ]
  },
  {
   "cell_type": "code",
   "execution_count": 20,
   "id": "a59a8f9d",
   "metadata": {},
   "outputs": [
    {
     "data": {
      "text/html": [
       "<div>\n",
       "<style scoped>\n",
       "    .dataframe tbody tr th:only-of-type {\n",
       "        vertical-align: middle;\n",
       "    }\n",
       "\n",
       "    .dataframe tbody tr th {\n",
       "        vertical-align: top;\n",
       "    }\n",
       "\n",
       "    .dataframe thead th {\n",
       "        text-align: right;\n",
       "    }\n",
       "</style>\n",
       "<table border=\"1\" class=\"dataframe\">\n",
       "  <thead>\n",
       "    <tr style=\"text-align: right;\">\n",
       "      <th></th>\n",
       "      <th>Year</th>\n",
       "      <th>Revenue (Millions)</th>\n",
       "    </tr>\n",
       "  </thead>\n",
       "  <tbody>\n",
       "    <tr>\n",
       "      <th>0</th>\n",
       "      <td>2009</td>\n",
       "      <td>115.742000</td>\n",
       "    </tr>\n",
       "    <tr>\n",
       "      <th>1</th>\n",
       "      <td>2012</td>\n",
       "      <td>110.103065</td>\n",
       "    </tr>\n",
       "    <tr>\n",
       "      <th>2</th>\n",
       "      <td>2010</td>\n",
       "      <td>105.081579</td>\n",
       "    </tr>\n",
       "    <tr>\n",
       "      <th>3</th>\n",
       "      <td>2008</td>\n",
       "      <td>97.525417</td>\n",
       "    </tr>\n",
       "    <tr>\n",
       "      <th>4</th>\n",
       "      <td>2011</td>\n",
       "      <td>93.703333</td>\n",
       "    </tr>\n",
       "    <tr>\n",
       "      <th>5</th>\n",
       "      <td>2007</td>\n",
       "      <td>93.074091</td>\n",
       "    </tr>\n",
       "    <tr>\n",
       "      <th>6</th>\n",
       "      <td>2013</td>\n",
       "      <td>88.084643</td>\n",
       "    </tr>\n",
       "    <tr>\n",
       "      <th>7</th>\n",
       "      <td>2006</td>\n",
       "      <td>87.255610</td>\n",
       "    </tr>\n",
       "    <tr>\n",
       "      <th>8</th>\n",
       "      <td>2014</td>\n",
       "      <td>85.433656</td>\n",
       "    </tr>\n",
       "    <tr>\n",
       "      <th>9</th>\n",
       "      <td>2015</td>\n",
       "      <td>80.725596</td>\n",
       "    </tr>\n",
       "    <tr>\n",
       "      <th>10</th>\n",
       "      <td>2016</td>\n",
       "      <td>55.566111</td>\n",
       "    </tr>\n",
       "  </tbody>\n",
       "</table>\n",
       "</div>"
      ],
      "text/plain": [
       "    Year  Revenue (Millions)\n",
       "0   2009          115.742000\n",
       "1   2012          110.103065\n",
       "2   2010          105.081579\n",
       "3   2008           97.525417\n",
       "4   2011           93.703333\n",
       "5   2007           93.074091\n",
       "6   2013           88.084643\n",
       "7   2006           87.255610\n",
       "8   2014           85.433656\n",
       "9   2015           80.725596\n",
       "10  2016           55.566111"
      ]
     },
     "execution_count": 20,
     "metadata": {},
     "output_type": "execute_result"
    }
   ],
   "source": [
    "df2 = df.groupby('Year')['Revenue (Millions)'].mean().sort_values(ascending=False).reset_index()\n",
    "df2"
   ]
  },
  {
   "cell_type": "code",
   "execution_count": 21,
   "id": "ba4a6633",
   "metadata": {},
   "outputs": [
    {
     "data": {
      "image/png": "[encoded data removed]",
      "text/plain": [
       "<Figure size 640x480 with 1 Axes>"
      ]
     },
     "metadata": {},
     "output_type": "display_data"
    }
   ],
   "source": [
    "sns.barplot(x='Year', y='Revenue (Millions)', data=df2)\n",
    "plt.title(\"Revenue By Year\")\n",
    "plt.show()"
   ]
  },
  {
   "cell_type": "markdown",
   "id": "ac005699",
   "metadata": {},
   "source": [
    "### 12. Find The Average Rating For Each Director"
   ]
  },
  {
   "cell_type": "code",
   "execution_count": 22,
   "id": "f4663eec",
   "metadata": {},
   "outputs": [
    {
     "data": {
      "text/plain": [
       "Index(['Rank', 'Title', 'Genre', 'Description', 'Director', 'Actors', 'Year',\n",
       "       'Runtime (Minutes)', 'Rating', 'Votes', 'Revenue (Millions)',\n",
       "       'Metascore'],\n",
       "      dtype='object')"
      ]
     },
     "execution_count": 22,
     "metadata": {},
     "output_type": "execute_result"
    }
   ],
   "source": [
    "df.columns"
   ]
  },
  {
   "cell_type": "code",
   "execution_count": 23,
   "id": "a464ad15",
   "metadata": {},
   "outputs": [
    {
     "data": {
      "text/html": [
       "<div>\n",
       "<style scoped>\n",
       "    .dataframe tbody tr th:only-of-type {\n",
       "        vertical-align: middle;\n",
       "    }\n",
       "\n",
       "    .dataframe tbody tr th {\n",
       "        vertical-align: top;\n",
       "    }\n",
       "\n",
       "    .dataframe thead th {\n",
       "        text-align: right;\n",
       "    }\n",
       "</style>\n",
       "<table border=\"1\" class=\"dataframe\">\n",
       "  <thead>\n",
       "    <tr style=\"text-align: right;\">\n",
       "      <th></th>\n",
       "      <th>Director</th>\n",
       "      <th>Rating</th>\n",
       "    </tr>\n",
       "  </thead>\n",
       "  <tbody>\n",
       "    <tr>\n",
       "      <th>0</th>\n",
       "      <td>Christopher Nolan</td>\n",
       "      <td>8.68</td>\n",
       "    </tr>\n",
       "    <tr>\n",
       "      <th>1</th>\n",
       "      <td>Olivier Nakache</td>\n",
       "      <td>8.60</td>\n",
       "    </tr>\n",
       "    <tr>\n",
       "      <th>2</th>\n",
       "      <td>Makoto Shinkai</td>\n",
       "      <td>8.60</td>\n",
       "    </tr>\n",
       "    <tr>\n",
       "      <th>3</th>\n",
       "      <td>Florian Henckel von Donnersmarck</td>\n",
       "      <td>8.50</td>\n",
       "    </tr>\n",
       "    <tr>\n",
       "      <th>4</th>\n",
       "      <td>Aamir Khan</td>\n",
       "      <td>8.50</td>\n",
       "    </tr>\n",
       "    <tr>\n",
       "      <th>...</th>\n",
       "      <td>...</td>\n",
       "      <td>...</td>\n",
       "    </tr>\n",
       "    <tr>\n",
       "      <th>519</th>\n",
       "      <td>Sam Taylor-Johnson</td>\n",
       "      <td>4.10</td>\n",
       "    </tr>\n",
       "    <tr>\n",
       "      <th>520</th>\n",
       "      <td>Joey Curtis</td>\n",
       "      <td>4.00</td>\n",
       "    </tr>\n",
       "    <tr>\n",
       "      <th>521</th>\n",
       "      <td>George Nolfi</td>\n",
       "      <td>3.90</td>\n",
       "    </tr>\n",
       "    <tr>\n",
       "      <th>522</th>\n",
       "      <td>James Wong</td>\n",
       "      <td>2.70</td>\n",
       "    </tr>\n",
       "    <tr>\n",
       "      <th>523</th>\n",
       "      <td>Jason Friedberg</td>\n",
       "      <td>1.90</td>\n",
       "    </tr>\n",
       "  </tbody>\n",
       "</table>\n",
       "<p>524 rows × 2 columns</p>\n",
       "</div>"
      ],
      "text/plain": [
       "                             Director  Rating\n",
       "0                   Christopher Nolan    8.68\n",
       "1                     Olivier Nakache    8.60\n",
       "2                      Makoto Shinkai    8.60\n",
       "3    Florian Henckel von Donnersmarck    8.50\n",
       "4                          Aamir Khan    8.50\n",
       "..                                ...     ...\n",
       "519                Sam Taylor-Johnson    4.10\n",
       "520                       Joey Curtis    4.00\n",
       "521                      George Nolfi    3.90\n",
       "522                        James Wong    2.70\n",
       "523                   Jason Friedberg    1.90\n",
       "\n",
       "[524 rows x 2 columns]"
      ]
     },
     "execution_count": 23,
     "metadata": {},
     "output_type": "execute_result"
    }
   ],
   "source": [
    "df.groupby('Director')['Rating'].mean().sort_values(ascending=False).reset_index()"
   ]
  },
  {
   "cell_type": "markdown",
   "id": "b5fe697f",
   "metadata": {},
   "source": [
    "### 13. Display Top 10 Lengthy Movies Title and Runtime"
   ]
  },
  {
   "cell_type": "code",
   "execution_count": 24,
   "id": "53e91def",
   "metadata": {},
   "outputs": [
    {
     "data": {
      "text/plain": [
       "Index(['Rank', 'Title', 'Genre', 'Description', 'Director', 'Actors', 'Year',\n",
       "       'Runtime (Minutes)', 'Rating', 'Votes', 'Revenue (Millions)',\n",
       "       'Metascore'],\n",
       "      dtype='object')"
      ]
     },
     "execution_count": 24,
     "metadata": {},
     "output_type": "execute_result"
    }
   ],
   "source": [
    "df.columns"
   ]
  },
  {
   "cell_type": "code",
   "execution_count": 25,
   "id": "c41e3cb4",
   "metadata": {},
   "outputs": [],
   "source": [
    "movie_len_top10 = df.nlargest(10,'Runtime (Minutes)')[['Title','Runtime (Minutes)']].set_index('Title')"
   ]
  },
  {
   "cell_type": "code",
   "execution_count": 26,
   "id": "8c4bbf1a",
   "metadata": {},
   "outputs": [
    {
     "data": {
      "text/html": [
       "<div>\n",
       "<style scoped>\n",
       "    .dataframe tbody tr th:only-of-type {\n",
       "        vertical-align: middle;\n",
       "    }\n",
       "\n",
       "    .dataframe tbody tr th {\n",
       "        vertical-align: top;\n",
       "    }\n",
       "\n",
       "    .dataframe thead th {\n",
       "        text-align: right;\n",
       "    }\n",
       "</style>\n",
       "<table border=\"1\" class=\"dataframe\">\n",
       "  <thead>\n",
       "    <tr style=\"text-align: right;\">\n",
       "      <th></th>\n",
       "      <th>Runtime (Minutes)</th>\n",
       "    </tr>\n",
       "    <tr>\n",
       "      <th>Title</th>\n",
       "      <th></th>\n",
       "    </tr>\n",
       "  </thead>\n",
       "  <tbody>\n",
       "    <tr>\n",
       "      <th>The Hateful Eight</th>\n",
       "      <td>187</td>\n",
       "    </tr>\n",
       "    <tr>\n",
       "      <th>The Wolf of Wall Street</th>\n",
       "      <td>180</td>\n",
       "    </tr>\n",
       "    <tr>\n",
       "      <th>La vie d'Adèle</th>\n",
       "      <td>180</td>\n",
       "    </tr>\n",
       "    <tr>\n",
       "      <th>Cloud Atlas</th>\n",
       "      <td>172</td>\n",
       "    </tr>\n",
       "    <tr>\n",
       "      <th>3 Idiots</th>\n",
       "      <td>170</td>\n",
       "    </tr>\n",
       "    <tr>\n",
       "      <th>Interstellar</th>\n",
       "      <td>169</td>\n",
       "    </tr>\n",
       "    <tr>\n",
       "      <th>Pirates of the Caribbean: At World's End</th>\n",
       "      <td>169</td>\n",
       "    </tr>\n",
       "    <tr>\n",
       "      <th>The Hobbit: An Unexpected Journey</th>\n",
       "      <td>169</td>\n",
       "    </tr>\n",
       "    <tr>\n",
       "      <th>The Curious Case of Benjamin Button</th>\n",
       "      <td>166</td>\n",
       "    </tr>\n",
       "    <tr>\n",
       "      <th>Transformers: Age of Extinction</th>\n",
       "      <td>165</td>\n",
       "    </tr>\n",
       "  </tbody>\n",
       "</table>\n",
       "</div>"
      ],
      "text/plain": [
       "                                          Runtime (Minutes)\n",
       "Title                                                      \n",
       "The Hateful Eight                                       187\n",
       "The Wolf of Wall Street                                 180\n",
       "La vie d'Adèle                                          180\n",
       "Cloud Atlas                                             172\n",
       "3 Idiots                                                170\n",
       "Interstellar                                            169\n",
       "Pirates of the Caribbean: At World's End                169\n",
       "The Hobbit: An Unexpected Journey                       169\n",
       "The Curious Case of Benjamin Button                     166\n",
       "Transformers: Age of Extinction                         165"
      ]
     },
     "execution_count": 26,
     "metadata": {},
     "output_type": "execute_result"
    }
   ],
   "source": [
    "movie_len_top10"
   ]
  },
  {
   "cell_type": "code",
   "execution_count": 27,
   "id": "7950e12f",
   "metadata": {},
   "outputs": [
    {
     "data": {
      "image/png": "[encoded data removed]",
      "text/plain": [
       "<Figure size 640x480 with 1 Axes>"
      ]
     },
     "metadata": {},
     "output_type": "display_data"
    }
   ],
   "source": [
    "sns.barplot(x=movie_len_top10['Runtime (Minutes)'],y=movie_len_top10.index)\n",
    "plt.title('Top 5 Lengtly Movies')\n",
    "plt.show()"
   ]
  },
  {
   "cell_type": "markdown",
   "id": "115fc549",
   "metadata": {},
   "source": [
    "### 14. Display Number of Movies Per Year"
   ]
  },
  {
   "cell_type": "code",
   "execution_count": 28,
   "id": "2785d723",
   "metadata": {},
   "outputs": [
    {
     "data": {
      "text/plain": [
       "Index(['Rank', 'Title', 'Genre', 'Description', 'Director', 'Actors', 'Year',\n",
       "       'Runtime (Minutes)', 'Rating', 'Votes', 'Revenue (Millions)',\n",
       "       'Metascore'],\n",
       "      dtype='object')"
      ]
     },
     "execution_count": 28,
     "metadata": {},
     "output_type": "execute_result"
    }
   ],
   "source": [
    "df.columns"
   ]
  },
  {
   "cell_type": "code",
   "execution_count": 29,
   "id": "cf82fc0f",
   "metadata": {},
   "outputs": [
    {
     "data": {
      "image/png": "[encoded data removed]",
      "text/plain": [
       "<Figure size 640x480 with 1 Axes>"
      ]
     },
     "metadata": {},
     "output_type": "display_data"
    }
   ],
   "source": [
    "sns.countplot(x='Year',data=df)\n",
    "plt.title(\"Number of Movies Per Year\")\n",
    "plt.show()"
   ]
  },
  {
   "cell_type": "markdown",
   "id": "ba872b7a",
   "metadata": {},
   "source": [
    "### 15. Find Most Popular Movie Title (Highest Revenue)"
   ]
  },
  {
   "cell_type": "code",
   "execution_count": 30,
   "id": "ddcbf630",
   "metadata": {},
   "outputs": [
    {
     "data": {
      "text/plain": [
       "Index(['Rank', 'Title', 'Genre', 'Description', 'Director', 'Actors', 'Year',\n",
       "       'Runtime (Minutes)', 'Rating', 'Votes', 'Revenue (Millions)',\n",
       "       'Metascore'],\n",
       "      dtype='object')"
      ]
     },
     "execution_count": 30,
     "metadata": {},
     "output_type": "execute_result"
    }
   ],
   "source": [
    "df.columns"
   ]
  },
  {
   "cell_type": "code",
   "execution_count": 31,
   "id": "6ed44e74",
   "metadata": {},
   "outputs": [
    {
     "data": {
      "text/plain": [
       "50    Star Wars: Episode VII - The Force Awakens\n",
       "Name: Title, dtype: object"
      ]
     },
     "execution_count": 31,
     "metadata": {},
     "output_type": "execute_result"
    }
   ],
   "source": [
    "df[df['Revenue (Millions)'].max() == df['Revenue (Millions)']]['Title']"
   ]
  },
  {
   "cell_type": "markdown",
   "id": "f4ae7c45",
   "metadata": {},
   "source": [
    "### 16. Display Top 10 Highest Rated Movie Titles And its Directors"
   ]
  },
  {
   "cell_type": "code",
   "execution_count": 32,
   "id": "eeb58281",
   "metadata": {},
   "outputs": [
    {
     "data": {
      "text/plain": [
       "Index(['Rank', 'Title', 'Genre', 'Description', 'Director', 'Actors', 'Year',\n",
       "       'Runtime (Minutes)', 'Rating', 'Votes', 'Revenue (Millions)',\n",
       "       'Metascore'],\n",
       "      dtype='object')"
      ]
     },
     "execution_count": 32,
     "metadata": {},
     "output_type": "execute_result"
    }
   ],
   "source": [
    "df.columns"
   ]
  },
  {
   "cell_type": "code",
   "execution_count": 33,
   "id": "c8249203",
   "metadata": {},
   "outputs": [],
   "source": [
    "movie_rating_top10=df.nlargest(10,'Rating')[['Title','Rating','Director']].set_index('Title')"
   ]
  },
  {
   "cell_type": "code",
   "execution_count": 34,
   "id": "edbdf6f2",
   "metadata": {},
   "outputs": [
    {
     "data": {
      "text/html": [
       "<div>\n",
       "<style scoped>\n",
       "    .dataframe tbody tr th:only-of-type {\n",
       "        vertical-align: middle;\n",
       "    }\n",
       "\n",
       "    .dataframe tbody tr th {\n",
       "        vertical-align: top;\n",
       "    }\n",
       "\n",
       "    .dataframe thead th {\n",
       "        text-align: right;\n",
       "    }\n",
       "</style>\n",
       "<table border=\"1\" class=\"dataframe\">\n",
       "  <thead>\n",
       "    <tr style=\"text-align: right;\">\n",
       "      <th></th>\n",
       "      <th>Rating</th>\n",
       "      <th>Director</th>\n",
       "    </tr>\n",
       "    <tr>\n",
       "      <th>Title</th>\n",
       "      <th></th>\n",
       "      <th></th>\n",
       "    </tr>\n",
       "  </thead>\n",
       "  <tbody>\n",
       "    <tr>\n",
       "      <th>The Dark Knight</th>\n",
       "      <td>9.0</td>\n",
       "      <td>Christopher Nolan</td>\n",
       "    </tr>\n",
       "    <tr>\n",
       "      <th>Inception</th>\n",
       "      <td>8.8</td>\n",
       "      <td>Christopher Nolan</td>\n",
       "    </tr>\n",
       "    <tr>\n",
       "      <th>Interstellar</th>\n",
       "      <td>8.6</td>\n",
       "      <td>Christopher Nolan</td>\n",
       "    </tr>\n",
       "    <tr>\n",
       "      <th>Kimi no na wa</th>\n",
       "      <td>8.6</td>\n",
       "      <td>Makoto Shinkai</td>\n",
       "    </tr>\n",
       "    <tr>\n",
       "      <th>The Intouchables</th>\n",
       "      <td>8.6</td>\n",
       "      <td>Olivier Nakache</td>\n",
       "    </tr>\n",
       "    <tr>\n",
       "      <th>The Prestige</th>\n",
       "      <td>8.5</td>\n",
       "      <td>Christopher Nolan</td>\n",
       "    </tr>\n",
       "    <tr>\n",
       "      <th>The Departed</th>\n",
       "      <td>8.5</td>\n",
       "      <td>Martin Scorsese</td>\n",
       "    </tr>\n",
       "    <tr>\n",
       "      <th>The Dark Knight Rises</th>\n",
       "      <td>8.5</td>\n",
       "      <td>Christopher Nolan</td>\n",
       "    </tr>\n",
       "    <tr>\n",
       "      <th>Whiplash</th>\n",
       "      <td>8.5</td>\n",
       "      <td>Damien Chazelle</td>\n",
       "    </tr>\n",
       "    <tr>\n",
       "      <th>The Lives of Others</th>\n",
       "      <td>8.5</td>\n",
       "      <td>Florian Henckel von Donnersmarck</td>\n",
       "    </tr>\n",
       "  </tbody>\n",
       "</table>\n",
       "</div>"
      ],
      "text/plain": [
       "                       Rating                          Director\n",
       "Title                                                          \n",
       "The Dark Knight           9.0                 Christopher Nolan\n",
       "Inception                 8.8                 Christopher Nolan\n",
       "Interstellar              8.6                 Christopher Nolan\n",
       "Kimi no na wa             8.6                    Makoto Shinkai\n",
       "The Intouchables          8.6                   Olivier Nakache\n",
       "The Prestige              8.5                 Christopher Nolan\n",
       "The Departed              8.5                   Martin Scorsese\n",
       "The Dark Knight Rises     8.5                 Christopher Nolan\n",
       "Whiplash                  8.5                   Damien Chazelle\n",
       "The Lives of Others       8.5  Florian Henckel von Donnersmarck"
      ]
     },
     "execution_count": 34,
     "metadata": {},
     "output_type": "execute_result"
    }
   ],
   "source": [
    "movie_rating_top10"
   ]
  },
  {
   "cell_type": "code",
   "execution_count": 35,
   "id": "bcf54ac6",
   "metadata": {},
   "outputs": [
    {
     "data": {
      "image/png": "[encoded data removed]",
      "text/plain": [
       "<Figure size 640x480 with 1 Axes>"
      ]
     },
     "metadata": {},
     "output_type": "display_data"
    }
   ],
   "source": [
    "sns.barplot(x=movie_rating_top10['Rating'],y=movie_rating_top10.index)\n",
    "plt.title(\"Display Top 10 Highest Rated Movie Titles\")\n",
    "plt.show()"
   ]
  },
  {
   "cell_type": "markdown",
   "id": "002c24b7",
   "metadata": {},
   "source": [
    "### 17. Display Top 10 Highest Revenue Movie Titles"
   ]
  },
  {
   "cell_type": "code",
   "execution_count": 36,
   "id": "6a1fe007",
   "metadata": {},
   "outputs": [
    {
     "data": {
      "text/plain": [
       "Index(['Rank', 'Title', 'Genre', 'Description', 'Director', 'Actors', 'Year',\n",
       "       'Runtime (Minutes)', 'Rating', 'Votes', 'Revenue (Millions)',\n",
       "       'Metascore'],\n",
       "      dtype='object')"
      ]
     },
     "execution_count": 36,
     "metadata": {},
     "output_type": "execute_result"
    }
   ],
   "source": [
    "df.columns"
   ]
  },
  {
   "cell_type": "code",
   "execution_count": 37,
   "id": "5694232e",
   "metadata": {},
   "outputs": [],
   "source": [
    "top_10 = df.nlargest(10,'Revenue (Millions)')[['Title','Director','Revenue (Millions)']].set_index('Title')"
   ]
  },
  {
   "cell_type": "code",
   "execution_count": 38,
   "id": "c72ab4e5",
   "metadata": {},
   "outputs": [
    {
     "data": {
      "text/html": [
       "<div>\n",
       "<style scoped>\n",
       "    .dataframe tbody tr th:only-of-type {\n",
       "        vertical-align: middle;\n",
       "    }\n",
       "\n",
       "    .dataframe tbody tr th {\n",
       "        vertical-align: top;\n",
       "    }\n",
       "\n",
       "    .dataframe thead th {\n",
       "        text-align: right;\n",
       "    }\n",
       "</style>\n",
       "<table border=\"1\" class=\"dataframe\">\n",
       "  <thead>\n",
       "    <tr style=\"text-align: right;\">\n",
       "      <th></th>\n",
       "      <th>Director</th>\n",
       "      <th>Revenue (Millions)</th>\n",
       "    </tr>\n",
       "    <tr>\n",
       "      <th>Title</th>\n",
       "      <th></th>\n",
       "      <th></th>\n",
       "    </tr>\n",
       "  </thead>\n",
       "  <tbody>\n",
       "    <tr>\n",
       "      <th>Star Wars: Episode VII - The Force Awakens</th>\n",
       "      <td>J.J. Abrams</td>\n",
       "      <td>936.63</td>\n",
       "    </tr>\n",
       "    <tr>\n",
       "      <th>Avatar</th>\n",
       "      <td>James Cameron</td>\n",
       "      <td>760.51</td>\n",
       "    </tr>\n",
       "    <tr>\n",
       "      <th>Jurassic World</th>\n",
       "      <td>Colin Trevorrow</td>\n",
       "      <td>652.18</td>\n",
       "    </tr>\n",
       "    <tr>\n",
       "      <th>The Avengers</th>\n",
       "      <td>Joss Whedon</td>\n",
       "      <td>623.28</td>\n",
       "    </tr>\n",
       "    <tr>\n",
       "      <th>The Dark Knight</th>\n",
       "      <td>Christopher Nolan</td>\n",
       "      <td>533.32</td>\n",
       "    </tr>\n",
       "    <tr>\n",
       "      <th>Rogue One</th>\n",
       "      <td>Gareth Edwards</td>\n",
       "      <td>532.17</td>\n",
       "    </tr>\n",
       "    <tr>\n",
       "      <th>Finding Dory</th>\n",
       "      <td>Andrew Stanton</td>\n",
       "      <td>486.29</td>\n",
       "    </tr>\n",
       "    <tr>\n",
       "      <th>Avengers: Age of Ultron</th>\n",
       "      <td>Joss Whedon</td>\n",
       "      <td>458.99</td>\n",
       "    </tr>\n",
       "    <tr>\n",
       "      <th>The Dark Knight Rises</th>\n",
       "      <td>Christopher Nolan</td>\n",
       "      <td>448.13</td>\n",
       "    </tr>\n",
       "    <tr>\n",
       "      <th>The Hunger Games: Catching Fire</th>\n",
       "      <td>Francis Lawrence</td>\n",
       "      <td>424.65</td>\n",
       "    </tr>\n",
       "  </tbody>\n",
       "</table>\n",
       "</div>"
      ],
      "text/plain": [
       "                                                     Director  \\\n",
       "Title                                                           \n",
       "Star Wars: Episode VII - The Force Awakens        J.J. Abrams   \n",
       "Avatar                                          James Cameron   \n",
       "Jurassic World                                Colin Trevorrow   \n",
       "The Avengers                                      Joss Whedon   \n",
       "The Dark Knight                             Christopher Nolan   \n",
       "Rogue One                                      Gareth Edwards   \n",
       "Finding Dory                                   Andrew Stanton   \n",
       "Avengers: Age of Ultron                           Joss Whedon   \n",
       "The Dark Knight Rises                       Christopher Nolan   \n",
       "The Hunger Games: Catching Fire              Francis Lawrence   \n",
       "\n",
       "                                            Revenue (Millions)  \n",
       "Title                                                           \n",
       "Star Wars: Episode VII - The Force Awakens              936.63  \n",
       "Avatar                                                  760.51  \n",
       "Jurassic World                                          652.18  \n",
       "The Avengers                                            623.28  \n",
       "The Dark Knight                                         533.32  \n",
       "Rogue One                                               532.17  \n",
       "Finding Dory                                            486.29  \n",
       "Avengers: Age of Ultron                                 458.99  \n",
       "The Dark Knight Rises                                   448.13  \n",
       "The Hunger Games: Catching Fire                         424.65  "
      ]
     },
     "execution_count": 38,
     "metadata": {},
     "output_type": "execute_result"
    }
   ],
   "source": [
    "top_10"
   ]
  },
  {
   "cell_type": "code",
   "execution_count": 39,
   "id": "b684a8a1",
   "metadata": {},
   "outputs": [
    {
     "data": {
      "image/png": "[encoded data removed]",
      "text/plain": [
       "<Figure size 640x480 with 1 Axes>"
      ]
     },
     "metadata": {},
     "output_type": "display_data"
    }
   ],
   "source": [
    "sns.barplot(x=top_10['Revenue (Millions)'],y=top_10.index)\n",
    "plt.title(\"Display Top 10 Highest Revenue Movie Titles\")\n",
    "plt.show()"
   ]
  },
  {
   "cell_type": "markdown",
   "id": "316e319f",
   "metadata": {},
   "source": [
    "### 18.  Find Average Rating of Movies Year Wise"
   ]
  },
  {
   "cell_type": "code",
   "execution_count": 40,
   "id": "54fb65f0",
   "metadata": {},
   "outputs": [
    {
     "data": {
      "text/plain": [
       "Index(['Rank', 'Title', 'Genre', 'Description', 'Director', 'Actors', 'Year',\n",
       "       'Runtime (Minutes)', 'Rating', 'Votes', 'Revenue (Millions)',\n",
       "       'Metascore'],\n",
       "      dtype='object')"
      ]
     },
     "execution_count": 40,
     "metadata": {},
     "output_type": "execute_result"
    }
   ],
   "source": [
    "df.columns"
   ]
  },
  {
   "cell_type": "code",
   "execution_count": 41,
   "id": "be403368",
   "metadata": {},
   "outputs": [],
   "source": [
    "df1=df.groupby('Year')['Rating'].mean().sort_values(ascending=False).reset_index()"
   ]
  },
  {
   "cell_type": "code",
   "execution_count": 42,
   "id": "fe4c7e48",
   "metadata": {},
   "outputs": [
    {
     "data": {
      "text/html": [
       "<div>\n",
       "<style scoped>\n",
       "    .dataframe tbody tr th:only-of-type {\n",
       "        vertical-align: middle;\n",
       "    }\n",
       "\n",
       "    .dataframe tbody tr th {\n",
       "        vertical-align: top;\n",
       "    }\n",
       "\n",
       "    .dataframe thead th {\n",
       "        text-align: right;\n",
       "    }\n",
       "</style>\n",
       "<table border=\"1\" class=\"dataframe\">\n",
       "  <thead>\n",
       "    <tr style=\"text-align: right;\">\n",
       "      <th></th>\n",
       "      <th>Year</th>\n",
       "      <th>Rating</th>\n",
       "    </tr>\n",
       "  </thead>\n",
       "  <tbody>\n",
       "    <tr>\n",
       "      <th>0</th>\n",
       "      <td>2006</td>\n",
       "      <td>7.143902</td>\n",
       "    </tr>\n",
       "    <tr>\n",
       "      <th>1</th>\n",
       "      <td>2007</td>\n",
       "      <td>7.140909</td>\n",
       "    </tr>\n",
       "    <tr>\n",
       "      <th>2</th>\n",
       "      <td>2011</td>\n",
       "      <td>6.945614</td>\n",
       "    </tr>\n",
       "    <tr>\n",
       "      <th>3</th>\n",
       "      <td>2012</td>\n",
       "      <td>6.933871</td>\n",
       "    </tr>\n",
       "    <tr>\n",
       "      <th>4</th>\n",
       "      <td>2009</td>\n",
       "      <td>6.911111</td>\n",
       "    </tr>\n",
       "    <tr>\n",
       "      <th>5</th>\n",
       "      <td>2010</td>\n",
       "      <td>6.894737</td>\n",
       "    </tr>\n",
       "    <tr>\n",
       "      <th>6</th>\n",
       "      <td>2013</td>\n",
       "      <td>6.832143</td>\n",
       "    </tr>\n",
       "    <tr>\n",
       "      <th>7</th>\n",
       "      <td>2014</td>\n",
       "      <td>6.822581</td>\n",
       "    </tr>\n",
       "    <tr>\n",
       "      <th>8</th>\n",
       "      <td>2008</td>\n",
       "      <td>6.708333</td>\n",
       "    </tr>\n",
       "    <tr>\n",
       "      <th>9</th>\n",
       "      <td>2015</td>\n",
       "      <td>6.674312</td>\n",
       "    </tr>\n",
       "    <tr>\n",
       "      <th>10</th>\n",
       "      <td>2016</td>\n",
       "      <td>6.644444</td>\n",
       "    </tr>\n",
       "  </tbody>\n",
       "</table>\n",
       "</div>"
      ],
      "text/plain": [
       "    Year    Rating\n",
       "0   2006  7.143902\n",
       "1   2007  7.140909\n",
       "2   2011  6.945614\n",
       "3   2012  6.933871\n",
       "4   2009  6.911111\n",
       "5   2010  6.894737\n",
       "6   2013  6.832143\n",
       "7   2014  6.822581\n",
       "8   2008  6.708333\n",
       "9   2015  6.674312\n",
       "10  2016  6.644444"
      ]
     },
     "execution_count": 42,
     "metadata": {},
     "output_type": "execute_result"
    }
   ],
   "source": [
    "df1"
   ]
  },
  {
   "cell_type": "code",
   "execution_count": 43,
   "id": "bd390e3c",
   "metadata": {},
   "outputs": [
    {
     "data": {
      "image/png": "[encoded data removed]",
      "text/plain": [
       "<Figure size 1000x500 with 1 Axes>"
      ]
     },
     "metadata": {},
     "output_type": "display_data"
    }
   ],
   "source": [
    "plt.figure(figsize=(10,5))\n",
    "sns.barplot(x=df1['Year'],y=df1['Rating'])\n",
    "plt.show()"
   ]
  },
  {
   "cell_type": "markdown",
   "id": "1be97b40",
   "metadata": {},
   "source": [
    "### 19. Does Rating Affect The Revenue?"
   ]
  },
  {
   "cell_type": "code",
   "execution_count": 44,
   "id": "df3cc6cb",
   "metadata": {},
   "outputs": [
    {
     "data": {
      "text/plain": [
       "Index(['Rank', 'Title', 'Genre', 'Description', 'Director', 'Actors', 'Year',\n",
       "       'Runtime (Minutes)', 'Rating', 'Votes', 'Revenue (Millions)',\n",
       "       'Metascore'],\n",
       "      dtype='object')"
      ]
     },
     "execution_count": 44,
     "metadata": {},
     "output_type": "execute_result"
    }
   ],
   "source": [
    "df.columns"
   ]
  },
  {
   "cell_type": "code",
   "execution_count": 45,
   "id": "3295fd10",
   "metadata": {},
   "outputs": [
    {
     "data": {
      "image/png": "[encoded data removed]",
      "text/plain": [
       "<Figure size 640x480 with 1 Axes>"
      ]
     },
     "metadata": {},
     "output_type": "display_data"
    }
   ],
   "source": [
    "sns.scatterplot(x='Rating',y='Revenue (Millions)',data=df)\n",
    "plt.show()"
   ]
  },
  {
   "cell_type": "markdown",
   "id": "b867d521",
   "metadata": {},
   "source": [
    "- Yes, ratings affect the revenue"
   ]
  },
  {
   "cell_type": "markdown",
   "id": "959abaa0",
   "metadata": {},
   "source": [
    "### 20. Classify Movies Based on Ratings [Excellent, Good, and Average]"
   ]
  },
  {
   "cell_type": "code",
   "execution_count": 46,
   "id": "7513eabf",
   "metadata": {},
   "outputs": [
    {
     "data": {
      "text/plain": [
       "Index(['Rank', 'Title', 'Genre', 'Description', 'Director', 'Actors', 'Year',\n",
       "       'Runtime (Minutes)', 'Rating', 'Votes', 'Revenue (Millions)',\n",
       "       'Metascore'],\n",
       "      dtype='object')"
      ]
     },
     "execution_count": 46,
     "metadata": {},
     "output_type": "execute_result"
    }
   ],
   "source": [
    "df.columns"
   ]
  },
  {
   "cell_type": "code",
   "execution_count": 47,
   "id": "f75ccab1",
   "metadata": {},
   "outputs": [],
   "source": [
    "def rating(rating):\n",
    "    if rating>=7.0:\n",
    "        return 'Excellent'\n",
    "    elif rating>=6.0:\n",
    "        return 'Good'\n",
    "    else:\n",
    "        return 'Average'"
   ]
  },
  {
   "cell_type": "code",
   "execution_count": 48,
   "id": "efa67cee",
   "metadata": {},
   "outputs": [],
   "source": [
    "df['rating_cat'] = df['Rating'].apply(rating)"
   ]
  },
  {
   "cell_type": "code",
   "execution_count": 49,
   "id": "3d77c5aa",
   "metadata": {},
   "outputs": [
    {
     "data": {
      "text/html": [
       "<div>\n",
       "<style scoped>\n",
       "    .dataframe tbody tr th:only-of-type {\n",
       "        vertical-align: middle;\n",
       "    }\n",
       "\n",
       "    .dataframe tbody tr th {\n",
       "        vertical-align: top;\n",
       "    }\n",
       "\n",
       "    .dataframe thead th {\n",
       "        text-align: right;\n",
       "    }\n",
       "</style>\n",
       "<table border=\"1\" class=\"dataframe\">\n",
       "  <thead>\n",
       "    <tr style=\"text-align: right;\">\n",
       "      <th></th>\n",
       "      <th>Rank</th>\n",
       "      <th>Title</th>\n",
       "      <th>Genre</th>\n",
       "      <th>Description</th>\n",
       "      <th>Director</th>\n",
       "      <th>Actors</th>\n",
       "      <th>Year</th>\n",
       "      <th>Runtime (Minutes)</th>\n",
       "      <th>Rating</th>\n",
       "      <th>Votes</th>\n",
       "      <th>Revenue (Millions)</th>\n",
       "      <th>Metascore</th>\n",
       "      <th>rating_cat</th>\n",
       "    </tr>\n",
       "  </thead>\n",
       "  <tbody>\n",
       "    <tr>\n",
       "      <th>0</th>\n",
       "      <td>1</td>\n",
       "      <td>Guardians of the Galaxy</td>\n",
       "      <td>Action,Adventure,Sci-Fi</td>\n",
       "      <td>A group of intergalactic criminals are forced ...</td>\n",
       "      <td>James Gunn</td>\n",
       "      <td>Chris Pratt, Vin Diesel, Bradley Cooper, Zoe S...</td>\n",
       "      <td>2014</td>\n",
       "      <td>121</td>\n",
       "      <td>8.1</td>\n",
       "      <td>757074</td>\n",
       "      <td>333.13</td>\n",
       "      <td>76.0</td>\n",
       "      <td>Excellent</td>\n",
       "    </tr>\n",
       "    <tr>\n",
       "      <th>1</th>\n",
       "      <td>2</td>\n",
       "      <td>Prometheus</td>\n",
       "      <td>Adventure,Mystery,Sci-Fi</td>\n",
       "      <td>Following clues to the origin of mankind, a te...</td>\n",
       "      <td>Ridley Scott</td>\n",
       "      <td>Noomi Rapace, Logan Marshall-Green, Michael Fa...</td>\n",
       "      <td>2012</td>\n",
       "      <td>124</td>\n",
       "      <td>7.0</td>\n",
       "      <td>485820</td>\n",
       "      <td>126.46</td>\n",
       "      <td>65.0</td>\n",
       "      <td>Excellent</td>\n",
       "    </tr>\n",
       "    <tr>\n",
       "      <th>2</th>\n",
       "      <td>3</td>\n",
       "      <td>Split</td>\n",
       "      <td>Horror,Thriller</td>\n",
       "      <td>Three girls are kidnapped by a man with a diag...</td>\n",
       "      <td>M. Night Shyamalan</td>\n",
       "      <td>James McAvoy, Anya Taylor-Joy, Haley Lu Richar...</td>\n",
       "      <td>2016</td>\n",
       "      <td>117</td>\n",
       "      <td>7.3</td>\n",
       "      <td>157606</td>\n",
       "      <td>138.12</td>\n",
       "      <td>62.0</td>\n",
       "      <td>Excellent</td>\n",
       "    </tr>\n",
       "    <tr>\n",
       "      <th>3</th>\n",
       "      <td>4</td>\n",
       "      <td>Sing</td>\n",
       "      <td>Animation,Comedy,Family</td>\n",
       "      <td>In a city of humanoid animals, a hustling thea...</td>\n",
       "      <td>Christophe Lourdelet</td>\n",
       "      <td>Matthew McConaughey,Reese Witherspoon, Seth Ma...</td>\n",
       "      <td>2016</td>\n",
       "      <td>108</td>\n",
       "      <td>7.2</td>\n",
       "      <td>60545</td>\n",
       "      <td>270.32</td>\n",
       "      <td>59.0</td>\n",
       "      <td>Excellent</td>\n",
       "    </tr>\n",
       "    <tr>\n",
       "      <th>4</th>\n",
       "      <td>5</td>\n",
       "      <td>Suicide Squad</td>\n",
       "      <td>Action,Adventure,Fantasy</td>\n",
       "      <td>A secret government agency recruits some of th...</td>\n",
       "      <td>David Ayer</td>\n",
       "      <td>Will Smith, Jared Leto, Margot Robbie, Viola D...</td>\n",
       "      <td>2016</td>\n",
       "      <td>123</td>\n",
       "      <td>6.2</td>\n",
       "      <td>393727</td>\n",
       "      <td>325.02</td>\n",
       "      <td>40.0</td>\n",
       "      <td>Good</td>\n",
       "    </tr>\n",
       "  </tbody>\n",
       "</table>\n",
       "</div>"
      ],
      "text/plain": [
       "   Rank                    Title                     Genre  \\\n",
       "0     1  Guardians of the Galaxy   Action,Adventure,Sci-Fi   \n",
       "1     2               Prometheus  Adventure,Mystery,Sci-Fi   \n",
       "2     3                    Split           Horror,Thriller   \n",
       "3     4                     Sing   Animation,Comedy,Family   \n",
       "4     5            Suicide Squad  Action,Adventure,Fantasy   \n",
       "\n",
       "                                         Description              Director  \\\n",
       "0  A group of intergalactic criminals are forced ...            James Gunn   \n",
       "1  Following clues to the origin of mankind, a te...          Ridley Scott   \n",
       "2  Three girls are kidnapped by a man with a diag...    M. Night Shyamalan   \n",
       "3  In a city of humanoid animals, a hustling thea...  Christophe Lourdelet   \n",
       "4  A secret government agency recruits some of th...            David Ayer   \n",
       "\n",
       "                                              Actors  Year  Runtime (Minutes)  \\\n",
       "0  Chris Pratt, Vin Diesel, Bradley Cooper, Zoe S...  2014                121   \n",
       "1  Noomi Rapace, Logan Marshall-Green, Michael Fa...  2012                124   \n",
       "2  James McAvoy, Anya Taylor-Joy, Haley Lu Richar...  2016                117   \n",
       "3  Matthew McConaughey,Reese Witherspoon, Seth Ma...  2016                108   \n",
       "4  Will Smith, Jared Leto, Margot Robbie, Viola D...  2016                123   \n",
       "\n",
       "   Rating   Votes  Revenue (Millions)  Metascore rating_cat  \n",
       "0     8.1  757074              333.13       76.0  Excellent  \n",
       "1     7.0  485820              126.46       65.0  Excellent  \n",
       "2     7.3  157606              138.12       62.0  Excellent  \n",
       "3     7.2   60545              270.32       59.0  Excellent  \n",
       "4     6.2  393727              325.02       40.0       Good  "
      ]
     },
     "execution_count": 49,
     "metadata": {},
     "output_type": "execute_result"
    }
   ],
   "source": [
    "df.head()"
   ]
  },
  {
   "cell_type": "markdown",
   "id": "6f51b553",
   "metadata": {},
   "source": [
    "### 21. Count Number of Action Movies"
   ]
  },
  {
   "cell_type": "code",
   "execution_count": 50,
   "id": "8a11a8b1",
   "metadata": {},
   "outputs": [
    {
     "data": {
      "text/plain": [
       "Index(['Rank', 'Title', 'Genre', 'Description', 'Director', 'Actors', 'Year',\n",
       "       'Runtime (Minutes)', 'Rating', 'Votes', 'Revenue (Millions)',\n",
       "       'Metascore', 'rating_cat'],\n",
       "      dtype='object')"
      ]
     },
     "execution_count": 50,
     "metadata": {},
     "output_type": "execute_result"
    }
   ],
   "source": [
    "df.columns"
   ]
  },
  {
   "cell_type": "code",
   "execution_count": 51,
   "id": "ed362317",
   "metadata": {},
   "outputs": [
    {
     "data": {
      "text/plain": [
       "277"
      ]
     },
     "execution_count": 51,
     "metadata": {},
     "output_type": "execute_result"
    }
   ],
   "source": [
    "len(df[df['Genre'].str.contains('Action', case=False)])"
   ]
  },
  {
   "cell_type": "markdown",
   "id": "e71e3222",
   "metadata": {},
   "source": [
    "### 22. Find Unique Values From Genre "
   ]
  },
  {
   "cell_type": "code",
   "execution_count": 52,
   "id": "41454b62",
   "metadata": {},
   "outputs": [
    {
     "data": {
      "text/plain": [
       "Index(['Rank', 'Title', 'Genre', 'Description', 'Director', 'Actors', 'Year',\n",
       "       'Runtime (Minutes)', 'Rating', 'Votes', 'Revenue (Millions)',\n",
       "       'Metascore', 'rating_cat'],\n",
       "      dtype='object')"
      ]
     },
     "execution_count": 52,
     "metadata": {},
     "output_type": "execute_result"
    }
   ],
   "source": [
    "df.columns"
   ]
  },
  {
   "cell_type": "code",
   "execution_count": 53,
   "id": "73bd93b8",
   "metadata": {},
   "outputs": [
    {
     "data": {
      "text/plain": [
       "0       Action,Adventure,Sci-Fi\n",
       "1      Adventure,Mystery,Sci-Fi\n",
       "2               Horror,Thriller\n",
       "3       Animation,Comedy,Family\n",
       "4      Action,Adventure,Fantasy\n",
       "                 ...           \n",
       "993     Action,Adventure,Horror\n",
       "994                      Comedy\n",
       "996                      Horror\n",
       "997         Drama,Music,Romance\n",
       "999       Comedy,Family,Fantasy\n",
       "Name: Genre, Length: 838, dtype: object"
      ]
     },
     "execution_count": 53,
     "metadata": {},
     "output_type": "execute_result"
    }
   ],
   "source": [
    "df['Genre']"
   ]
  },
  {
   "cell_type": "code",
   "execution_count": 54,
   "id": "15fd5641",
   "metadata": {},
   "outputs": [
    {
     "name": "stdout",
     "output_type": "stream",
     "text": [
      "[['Action', 'Adventure', 'Sci-Fi'], ['Adventure', 'Mystery', 'Sci-Fi'], ['Horror', 'Thriller'], ['Animation', 'Comedy', 'Family'], ['Action', 'Adventure', 'Fantasy'], ['Action', 'Adventure', 'Fantasy'], ['Comedy', 'Drama', 'Music'], ['Action', 'Adventure', 'Biography'], ['Adventure', 'Drama', 'Romance'], ['Adventure', 'Family', 'Fantasy'], ['Biography', 'Drama', 'History'], ['Action', 'Adventure', 'Sci-Fi'], ['Animation', 'Adventure', 'Comedy'], ['Action', 'Comedy', 'Drama'], ['Animation', 'Adventure', 'Comedy'], ['Biography', 'Drama', 'History'], ['Action', 'Thriller'], ['Biography', 'Drama'], ['Drama', 'Mystery', 'Sci-Fi'], ['Adventure', 'Drama', 'Thriller'], ['Drama'], ['Animation', 'Adventure', 'Comedy'], ['Action', 'Adventure', 'Sci-Fi'], ['Comedy'], ['Action', 'Adventure', 'Drama'], ['Comedy'], ['Drama', 'Thriller'], ['Action', 'Adventure', 'Sci-Fi'], ['Action', 'Adventure', 'Comedy'], ['Action', 'Horror', 'Sci-Fi'], ['Action', 'Adventure', 'Sci-Fi'], ['Adventure', 'Drama', 'Sci-Fi'], ['Action', 'Adventure', 'Fantasy'], ['Action', 'Adventure', 'Western'], ['Animation', 'Adventure', 'Comedy'], ['Drama'], ['Biography', 'Drama', 'History'], ['Drama'], ['Action', 'Adventure', 'Fantasy'], ['Drama', 'Thriller'], ['Action', 'Adventure', 'Sci-Fi'], ['Action', 'Adventure', 'Fantasy'], ['Action', 'Adventure', 'Fantasy'], ['Comedy', 'Drama'], ['Action', 'Crime', 'Thriller'], ['Action', 'Crime', 'Drama'], ['Adventure', 'Drama', 'History'], ['Crime', 'Horror', 'Thriller'], ['Drama', 'Romance'], ['Comedy', 'Drama', 'Romance'], ['Biography', 'Drama'], ['Action', 'Adventure', 'Sci-Fi'], ['Crime', 'Drama', 'Mystery'], ['Drama', 'Romance', 'Thriller'], ['Drama', 'Mystery', 'Sci-Fi'], ['Action', 'Adventure', 'Comedy'], ['Drama', 'History', 'Thriller'], ['Action', 'Adventure', 'Sci-Fi'], ['Drama'], ['Action', 'Drama', 'Thriller'], ['Action', 'Drama', 'Romance'], ['Drama', 'Fantasy'], ['Drama', 'Romance'], ['Animation', 'Adventure', 'Comedy'], ['Action', 'Adventure', 'Fantasy'], ['Action', 'Sci-Fi'], ['Adventure', 'Drama', 'War'], ['Action', 'Adventure', 'Fantasy'], ['Action', 'Comedy', 'Fantasy'], ['Action', 'Adventure', 'Sci-Fi'], ['Comedy', 'Drama'], ['Biography', 'Comedy', 'Crime'], ['Crime', 'Drama', 'Mystery'], ['Action', 'Crime', 'Thriller'], ['Action', 'Adventure', 'Sci-Fi'], ['Crime', 'Drama'], ['Action', 'Adventure', 'Fantasy'], ['Crime', 'Drama', 'Mystery'], ['Action', 'Crime', 'Drama'], ['Crime', 'Drama', 'Mystery'], ['Action', 'Adventure', 'Fantasy'], ['Drama'], ['Comedy', 'Crime', 'Drama'], ['Action', 'Adventure', 'Sci-Fi'], ['Action', 'Comedy', 'Crime'], ['Animation', 'Drama', 'Fantasy'], ['Horror', 'Mystery', 'Sci-Fi'], ['Drama', 'Mystery', 'Thriller'], ['Crime', 'Drama', 'Thriller'], ['Biography', 'Crime', 'Drama'], ['Action', 'Adventure', 'Fantasy'], ['Adventure', 'Drama', 'Sci-Fi'], ['Action', 'Adventure', 'Comedy'], ['Crime', 'Drama', 'Thriller'], ['Comedy'], ['Action', 'Adventure', 'Drama'], ['Drama', 'Mystery', 'Sci-Fi'], ['Action', 'Horror', 'Thriller'], ['Biography', 'Drama', 'History'], ['Action', 'Fantasy', 'War'], ['Adventure', 'Drama', 'Fantasy'], ['Comedy'], ['Horror', 'Thriller'], ['Drama', 'Horror', 'Mystery'], ['Animation', 'Adventure', 'Comedy'], ['Adventure', 'Drama', 'Family'], ['Adventure', 'Mystery', 'Sci-Fi'], ['Adventure', 'Comedy', 'Romance'], ['Action', 'Thriller'], ['Adventure', 'Drama', 'Family'], ['Action', 'Adventure', 'Sci-Fi'], ['Adventure', 'Crime', 'Mystery'], ['Comedy', 'Family', 'Musical'], ['Adventure', 'Drama', 'Thriller'], ['Drama'], ['Adventure', 'Comedy', 'Drama'], ['Drama', 'Horror', 'Thriller'], ['Drama', 'Music'], ['Action', 'Crime', 'Thriller'], ['Crime', 'Drama', 'Thriller'], ['Crime', 'Drama', 'Thriller'], ['Drama', 'Romance'], ['Mystery', 'Thriller'], ['Action', 'Adventure', 'Sci-Fi'], ['Comedy', 'Family'], ['Biography', 'Comedy', 'Drama'], ['Drama'], ['Drama', 'Western'], ['Drama', 'Mystery', 'Romance'], ['Comedy', 'Drama'], ['Action', 'Drama', 'Mystery'], ['Comedy'], ['Action', 'Adventure', 'Crime'], ['Adventure', 'Family', 'Fantasy'], ['Adventure', 'Sci-Fi', 'Thriller'], ['Drama'], ['Action', 'Crime', 'Drama'], ['Action', 'Horror', 'Sci-Fi'], ['Action', 'Adventure', 'Sci-Fi'], ['Comedy', 'Drama', 'Romance'], ['Action', 'Comedy', 'Fantasy'], ['Action', 'Comedy', 'Mystery'], ['Action', 'Comedy', 'Crime'], ['Action', 'Adventure', 'Sci-Fi'], ['Action', 'Adventure', 'Crime'], ['Action', 'Adventure', 'Thriller'], ['Drama', 'Fantasy', 'Romance'], ['Action', 'Adventure', 'Comedy'], ['Biography', 'Drama', 'History'], ['Action', 'Drama', 'History'], ['Action', 'Adventure', 'Thriller'], ['Crime', 'Drama', 'Thriller'], ['Animation', 'Adventure', 'Family'], ['Drama', 'Romance', 'Sci-Fi'], ['Animation', 'Adventure', 'Comedy'], ['Action', 'Adventure', 'Family'], ['Action', 'Adventure', 'Drama'], ['Action', 'Comedy'], ['Horror', 'Mystery', 'Thriller'], ['Action', 'Adventure', 'Comedy'], ['Comedy', 'Romance'], ['Horror', 'Mystery'], ['Drama', 'Family', 'Fantasy'], ['Drama', 'Thriller'], ['Drama', 'War'], ['Drama', 'Fantasy', 'Horror'], ['Crime', 'Drama'], ['Comedy', 'Drama', 'Romance'], ['Drama', 'Romance'], ['Crime', 'Drama', 'History'], ['Horror', 'Sci-Fi', 'Thriller'], ['Action', 'Drama', 'Sport'], ['Action', 'Adventure', 'Sci-Fi'], ['Adventure', 'Biography', 'Drama'], ['Biography', 'Drama', 'Thriller'], ['Action', 'Comedy', 'Crime'], ['Action', 'Adventure', 'Sci-Fi'], ['Drama', 'Fantasy', 'Horror'], ['Biography', 'Drama', 'Thriller'], ['Action', 'Adventure', 'Sci-Fi'], ['Action', 'Adventure', 'Mystery'], ['Action', 'Adventure', 'Sci-Fi'], ['Drama', 'Horror'], ['Comedy', 'Drama', 'Romance'], ['Comedy', 'Romance'], ['Action', 'Adventure', 'Drama'], ['Drama'], ['Action', 'Adventure', 'Sci-Fi'], ['Action', 'Adventure', 'Fantasy'], ['Action', 'Adventure', 'Fantasy'], ['Action', 'Adventure', 'Sci-Fi'], ['Action', 'Adventure', 'Comedy'], ['Action', 'Comedy'], ['Action', 'Adventure', 'Sci-Fi'], ['Animation', 'Adventure', 'Comedy'], ['Horror', 'Mystery'], ['Crime', 'Drama', 'Mystery'], ['Comedy', 'Crime'], ['Drama'], ['Comedy', 'Drama', 'Romance'], ['Action', 'Adventure', 'Sci-Fi'], ['Action', 'Adventure', 'Family'], ['Drama', 'Fantasy', 'War'], ['Crime', 'Drama', 'Thriller'], ['Action', 'Adventure', 'Drama'], ['Action', 'Adventure', 'Thriller'], ['Action', 'Adventure', 'Drama'], ['Drama', 'Romance'], ['Biography', 'Drama', 'History'], ['Drama', 'Horror', 'Thriller'], ['Adventure', 'Comedy', 'Drama'], ['Action', 'Adventure', 'Romance'], ['Action', 'Drama', 'War'], ['Animation', 'Adventure', 'Comedy'], ['Animation', 'Adventure', 'Comedy'], ['Action', 'Adventure', 'Sci-Fi'], ['Adventure', 'Family', 'Fantasy'], ['Drama', 'Musical', 'Romance'], ['Drama', 'Sci-Fi', 'Thriller'], ['Comedy', 'Drama'], ['Action', 'Comedy', 'Crime'], ['Biography', 'Comedy', 'Drama'], ['Comedy', 'Drama', 'Romance'], ['Drama', 'Thriller'], ['Biography', 'Drama', 'History'], ['Action', 'Adventure', 'Sci-Fi'], ['Horror', 'Mystery', 'Thriller'], ['Comedy'], ['Action', 'Adventure', 'Sci-Fi'], ['Action', 'Drama', 'Sci-Fi'], ['Horror'], ['Drama', 'Thriller'], ['Comedy', 'Drama', 'Romance'], ['Drama', 'Thriller'], ['Comedy', 'Drama'], ['Drama'], ['Action', 'Adventure', 'Comedy'], ['Drama', 'Horror', 'Thriller'], ['Comedy'], ['Drama', 'Sci-Fi'], ['Action', 'Adventure', 'Sci-Fi'], ['Action', 'Adventure', 'Thriller'], ['Adventure', 'Fantasy'], ['Action', 'Comedy', 'Crime'], ['Comedy', 'Drama', 'Music'], ['Action', 'Adventure', 'Mystery'], ['Action', 'Comedy', 'Crime'], ['Crime', 'Drama', 'History'], ['Comedy'], ['Action', 'Adventure', 'Sci-Fi'], ['Crime', 'Mystery', 'Thriller'], ['Action', 'Adventure', 'Crime'], ['Biography', 'Drama', 'Romance'], ['Action', 'Adventure'], ['Action', 'Fantasy'], ['Action', 'Comedy'], ['Action', 'Adventure', 'Sci-Fi'], ['Action', 'Comedy', 'Crime'], ['Action', 'Drama', 'Horror'], ['Comedy', 'Music', 'Romance'], ['Comedy'], ['Action', 'Adventure', 'Fantasy'], ['Drama', 'Romance'], ['Animation', 'Adventure', 'Comedy'], ['Comedy', 'Drama'], ['Biography', 'Crime', 'Drama'], ['Drama', 'History'], ['Action', 'Crime', 'Thriller'], ['Action', 'Biography', 'Drama'], ['Horror'], ['Comedy', 'Romance'], ['Comedy', 'Romance'], ['Comedy', 'Crime', 'Drama'], ['Adventure', 'Family', 'Fantasy'], ['Action', 'Crime', 'Thriller'], ['Comedy', 'Romance'], ['Biography', 'Drama', 'Sport'], ['Drama', 'Romance'], ['Drama', 'Horror'], ['Adventure', 'Fantasy'], ['Adventure', 'Family', 'Fantasy'], ['Action', 'Drama', 'Sci-Fi'], ['Action', 'Adventure', 'Sci-Fi'], ['Comedy', 'Horror', 'Thriller'], ['Action', 'Crime', 'Thriller'], ['Crime', 'Drama', 'Music'], ['Drama'], ['Action', 'Crime', 'Thriller'], ['Action', 'Sci-Fi', 'Thriller'], ['Biography', 'Drama'], ['Action', 'Adventure', 'Fantasy'], ['Drama', 'Horror', 'Sci-Fi'], ['Biography', 'Comedy', 'Drama'], ['Crime', 'Horror', 'Thriller'], ['Crime', 'Drama', 'Mystery'], ['Animation', 'Adventure', 'Comedy'], ['Action', 'Biography', 'Drama'], ['Biography', 'Drama'], ['Biography', 'Drama', 'History'], ['Action', 'Biography', 'Drama'], ['Comedy', 'Drama', 'Romance'], ['Drama', 'Romance'], ['Comedy', 'Romance'], ['Action', 'Crime', 'Thriller'], ['Action', 'Crime', 'Drama'], ['Action', 'Drama', 'Thriller'], ['Adventure', 'Family', 'Fantasy'], ['Action', 'Adventure'], ['Action', 'Adventure', 'Romance'], ['Adventure', 'Family', 'Fantasy'], ['Crime', 'Drama'], ['Comedy', 'Horror'], ['Comedy', 'Fantasy', 'Romance'], ['Drama'], ['Comedy', 'Drama'], ['Comedy', 'Drama', 'Romance'], ['Adventure', 'Sci-Fi', 'Thriller'], ['Action', 'Adventure', 'Fantasy'], ['Biography', 'Drama', 'Romance'], ['Comedy', 'Fantasy'], ['Comedy', 'Drama', 'Fantasy'], ['Comedy'], ['Horror', 'Thriller'], ['Action', 'Adventure', 'Sci-Fi'], ['Adventure', 'Comedy', 'Horror'], ['Comedy', 'Mystery'], ['Drama'], ['Adventure', 'Drama', 'Fantasy'], ['Action', 'Adventure'], ['Action', 'Adventure', 'Drama'], ['Action', 'Drama', 'Sci-Fi'], ['Action', 'Mystery', 'Sci-Fi'], ['Action', 'Crime', 'Drama'], ['Action', 'Crime', 'Fantasy'], ['Biography', 'Comedy', 'Drama'], ['Action', 'Crime', 'Thriller'], ['Biography', 'Crime', 'Drama'], ['Drama', 'Sport'], ['Adventure', 'Comedy', 'Drama'], ['Action', 'Adventure', 'Thriller'], ['Comedy', 'Fantasy', 'Horror'], ['Drama', 'Sport'], ['Drama', 'History', 'Thriller'], ['Animation', 'Action', 'Adventure'], ['Action', 'Adventure', 'Drama'], ['Action', 'Comedy', 'Family'], ['Action', 'Adventure', 'Drama'], ['Action', 'Adventure', 'Sci-Fi'], ['Action', 'Adventure', 'Sci-Fi'], ['Action', 'Comedy'], ['Action', 'Crime', 'Drama'], ['Biography', 'Drama'], ['Comedy'], ['Drama', 'Fantasy', 'Romance'], ['Action', 'Adventure', 'Sci-Fi'], ['Comedy'], ['Comedy', 'Drama'], ['Animation', 'Action', 'Adventure'], ['Animation', 'Adventure', 'Comedy'], ['Drama', 'Romance'], ['Drama', 'Mystery', 'Thriller'], ['Drama', 'History', 'Thriller'], ['Animation', 'Adventure', 'Comedy'], ['Action', 'Adventure', 'Sci-Fi'], ['Adventure', 'Comedy'], ['Action', 'Thriller'], ['Comedy', 'Music'], ['Animation', 'Adventure', 'Comedy'], ['Action', 'Adventure', 'Crime'], ['Comedy', 'Drama', 'Horror'], ['Adventure', 'Family', 'Fantasy'], ['Drama'], ['Action', 'Drama', 'Thriller'], ['Drama'], ['Action', 'Horror', 'Romance'], ['Action', 'Drama', 'Fantasy'], ['Action', 'Crime', 'Drama'], ['Drama', 'Fantasy', 'Romance'], ['Action', 'Crime', 'Thriller'], ['Action', 'Mystery', 'Thriller'], ['Comedy', 'Drama'], ['Comedy'], ['Action', 'Adventure', 'Horror'], ['Action', 'Adventure', 'Thriller'], ['Drama', 'Romance'], ['Drama', 'Thriller'], ['Action', 'Comedy', 'Crime'], ['Adventure', 'Family', 'Fantasy'], ['Drama', 'Romance'], ['Animation', 'Family', 'Fantasy'], ['Drama', 'Romance'], ['Action', 'Sci-Fi'], ['Adventure', 'Comedy', 'Drama'], ['Animation', 'Action', 'Adventure'], ['Drama', 'Horror'], ['Action', 'Adventure', 'Sci-Fi'], ['Comedy', 'Drama'], ['Action', 'Horror', 'Mystery'], ['Action', 'Thriller'], ['Action', 'Adventure', 'Sci-Fi'], ['Drama'], ['Comedy', 'Drama', 'Romance'], ['Comedy', 'Crime'], ['Comedy', 'Romance'], ['Drama', 'Romance'], ['Crime', 'Drama', 'Thriller'], ['Horror', 'Mystery', 'Thriller'], ['Biography', 'Drama'], ['Adventure', 'Comedy', 'Family'], ['Action', 'Adventure', 'Crime'], ['Action', 'Crime', 'Mystery'], ['Mystery', 'Thriller'], ['Action', 'Sci-Fi', 'Thriller'], ['Action', 'Comedy', 'Crime'], ['Biography', 'Crime', 'Drama'], ['Biography', 'Drama', 'History'], ['Action', 'Adventure', 'Sci-Fi'], ['Adventure', 'Family', 'Fantasy'], ['Biography', 'Drama', 'History'], ['Biography', 'Comedy', 'Drama'], ['Drama', 'Thriller'], ['Comedy', 'Drama', 'Romance'], ['Drama', 'Romance', 'Sci-Fi'], ['Action', 'Crime', 'Drama'], ['Adventure', 'Comedy', 'Drama'], ['Comedy', 'Drama', 'Family'], ['Drama', 'Romance', 'Thriller'], ['Comedy', 'Crime', 'Drama'], ['Animation', 'Comedy', 'Family'], ['Drama', 'Horror', 'Sci-Fi'], ['Action', 'Adventure', 'Drama'], ['Action', 'Horror', 'Sci-Fi'], ['Action', 'Crime', 'Sport'], ['Drama', 'Horror', 'Sci-Fi'], ['Drama', 'Horror', 'Sci-Fi'], ['Action', 'Adventure', 'Comedy'], ['Mystery', 'Sci-Fi', 'Thriller'], ['Crime', 'Drama', 'Thriller'], ['Animation', 'Adventure', 'Comedy'], ['Action', 'Sci-Fi', 'Thriller'], ['Drama', 'Romance'], ['Comedy', 'Drama', 'Music'], ['Crime', 'Drama', 'Thriller'], ['Comedy', 'Drama', 'Romance'], ['Comedy', 'Romance'], ['Drama', 'Sci-Fi', 'Thriller'], ['Drama', 'War'], ['Action', 'Crime', 'Drama'], ['Sci-Fi', 'Thriller'], ['Adventure', 'Drama', 'Horror'], ['Comedy', 'Drama', 'Romance'], ['Action', 'Adventure', 'Drama'], ['Action', 'Crime', 'Drama'], ['Adventure', 'Fantasy'], ['Drama', 'Romance'], ['Biography', 'History', 'Thriller'], ['Crime', 'Drama', 'Thriller'], ['Action', 'Drama', 'History'], ['Crime', 'Drama', 'Thriller'], ['Action', 'Biography', 'Drama'], ['Adventure', 'Horror'], ['Action', 'Adventure', 'Sci-Fi'], ['Action', 'Adventure', 'Mystery'], ['Comedy', 'Drama', 'Romance'], ['Horror', 'Thriller'], ['Action', 'Sci-Fi', 'Thriller'], ['Biography', 'Drama'], ['Action', 'Crime', 'Drama'], ['Action', 'Crime', 'Mystery'], ['Action', 'Adventure', 'Comedy'], ['Mystery', 'Thriller'], ['Mystery', 'Sci-Fi', 'Thriller'], ['Drama', 'Mystery', 'Sci-Fi'], ['Comedy', 'Drama'], ['Adventure', 'Family', 'Fantasy'], ['Biography', 'Drama', 'Sport'], ['Comedy', 'Drama', 'Romance'], ['Biography', 'Drama', 'Romance'], ['Action', 'Adventure', 'Sci-Fi'], ['Mystery', 'Thriller'], ['Mystery', 'Thriller'], ['Action', 'Drama', 'Fantasy'], ['Action', 'Adventure', 'Biography'], ['Adventure', 'Comedy', 'Sci-Fi'], ['Action', 'Adventure', 'Thriller'], ['Fantasy', 'Horror'], ['Horror', 'Mystery'], ['Animation', 'Adventure', 'Comedy'], ['Action', 'Adventure', 'Drama'], ['Adventure', 'Family', 'Fantasy'], ['Action', 'Adventure', 'Sci-Fi'], ['Comedy', 'Drama'], ['Comedy', 'Drama'], ['Crime', 'Drama', 'Thriller'], ['Comedy', 'Romance'], ['Animation', 'Comedy', 'Family'], ['Comedy', 'Drama'], ['Comedy', 'Drama'], ['Biography', 'Drama', 'Sport'], ['Action', 'Adventure', 'Fantasy'], ['Action', 'Drama', 'History'], ['Action', 'Adventure', 'Sci-Fi'], ['Action', 'Adventure', 'Mystery'], ['Crime', 'Drama', 'Mystery'], ['Action'], ['Comedy', 'Romance'], ['Comedy', 'Drama', 'Romance'], ['Biography', 'Drama', 'Sport'], ['Action', 'Fantasy', 'Thriller'], ['Biography', 'Drama', 'Sport'], ['Action', 'Drama', 'Fantasy'], ['Adventure', 'Sci-Fi', 'Thriller'], ['Animation', 'Adventure', 'Comedy'], ['Drama', 'Mystery', 'Thriller'], ['Drama', 'Romance'], ['Crime', 'Drama', 'Mystery'], ['Comedy', 'Romance', 'Sport'], ['Comedy', 'Family'], ['Drama', 'Horror', 'Mystery'], ['Action', 'Drama', 'Sport'], ['Action', 'Adventure', 'Comedy'], ['Drama', 'Mystery', 'Sci-Fi'], ['Animation', 'Action', 'Comedy'], ['Action', 'Crime', 'Drama'], ['Action', 'Crime', 'Drama'], ['Animation', 'Action', 'Adventure'], ['Crime', 'Drama'], ['Comedy', 'Crime'], ['Drama'], ['Action', 'Adventure', 'Fantasy'], ['Drama', 'Fantasy', 'Romance'], ['Comedy', 'Drama'], ['Drama', 'Fantasy', 'Thriller'], ['Biography', 'Crime', 'Drama'], ['Comedy', 'Drama', 'Romance'], ['Action', 'Crime', 'Drama'], ['Sci-Fi'], ['Action', 'Comedy', 'Romance'], ['Adventure', 'Comedy', 'Drama'], ['Comedy', 'Crime', 'Drama'], ['Action', 'Fantasy', 'Horror'], ['Drama', 'Horror'], ['Horror'], ['Action', 'Thriller'], ['Action', 'Adventure', 'Mystery'], ['Action', 'Adventure', 'Fantasy'], ['Adventure', 'Comedy', 'Family'], ['Comedy', 'Drama', 'Romance'], ['Comedy'], ['Comedy', 'Drama', 'Horror'], ['Comedy', 'Romance'], ['Mystery', 'Romance', 'Sci-Fi'], ['Crime', 'Drama'], ['Drama', 'Horror', 'Mystery'], ['Comedy'], ['Biography', 'Drama'], ['Comedy', 'Drama', 'Thriller'], ['Drama', 'History', 'War'], ['Comedy', 'Drama'], ['Action', 'Comedy', 'Fantasy'], ['Drama', 'Horror', 'Musical'], ['Horror', 'Mystery', 'Thriller'], ['Comedy', 'Music'], ['Biography', 'Crime', 'Drama'], ['Drama'], ['Action', 'Adventure', 'Comedy'], ['Crime', 'Drama', 'Mystery'], ['Drama'], ['Action', 'Comedy', 'Crime'], ['Comedy', 'Drama', 'Romance'], ['Crime', 'Drama', 'Mystery'], ['Action', 'Comedy', 'Crime'], ['Drama'], ['Drama', 'Romance'], ['Crime', 'Drama', 'Mystery'], ['Adventure', 'Comedy', 'Romance'], ['Comedy', 'Crime', 'Drama'], ['Adventure', 'Drama', 'Thriller'], ['Crime', 'Drama', 'Thriller'], ['Drama', 'History', 'Thriller'], ['Action', 'Adventure', 'Sci-Fi'], ['Horror'], ['Action', 'Crime', 'Mystery'], ['Comedy', 'Romance'], ['Comedy'], ['Action', 'Drama', 'Thriller'], ['Action', 'Adventure', 'Sci-Fi'], ['Drama', 'Mystery', 'Thriller'], ['Comedy', 'Drama', 'Romance'], ['Action', 'Fantasy', 'Horror'], ['Drama', 'Romance'], ['Biography', 'Drama'], ['Biography', 'Drama'], ['Action', 'Adventure', 'Sci-Fi'], ['Animation', 'Adventure', 'Comedy'], ['Drama', 'Mystery', 'Thriller'], ['Action', 'Horror', 'Sci-Fi'], ['Drama', 'Romance'], ['Action', 'Adventure', 'Drama'], ['Adventure', 'Drama', 'Fantasy'], ['Drama', 'Romance', 'Sci-Fi'], ['Action', 'Adventure', 'Thriller'], ['Comedy', 'Fantasy'], ['Action', 'Comedy', 'Crime'], ['Adventure', 'Drama', 'Romance'], ['Action', 'Crime', 'Drama'], ['Comedy', 'Drama', 'Romance'], ['Crime', 'Drama'], ['Crime', 'Drama', 'Mystery'], ['Action', 'Adventure', 'Sci-Fi'], ['Animation', 'Fantasy'], ['Animation', 'Adventure', 'Comedy'], ['Drama', 'Mystery', 'War'], ['Comedy', 'Romance'], ['Animation', 'Comedy', 'Family'], ['Comedy'], ['Horror', 'Mystery', 'Thriller'], ['Action', 'Adventure', 'Drama'], ['Comedy'], ['Drama'], ['Adventure', 'Biography', 'Drama'], ['Comedy'], ['Horror', 'Thriller'], ['Action', 'Drama', 'Family'], ['Comedy', 'Fantasy', 'Horror'], ['Comedy', 'Romance'], ['Drama', 'Mystery', 'Romance'], ['Action', 'Adventure', 'Comedy'], ['Thriller'], ['Comedy'], ['Adventure', 'Comedy', 'Sci-Fi'], ['Mystery', 'Thriller'], ['Comedy', 'Drama'], ['Adventure', 'Drama', 'Family'], ['Horror', 'Thriller'], ['Action', 'Drama', 'Romance'], ['Drama', 'Romance'], ['Action', 'Adventure', 'Fantasy'], ['Comedy'], ['Action', 'Biography', 'Drama'], ['Drama', 'Mystery', 'Romance'], ['Adventure', 'Drama', 'Western'], ['Drama', 'Music', 'Romance'], ['Comedy', 'Romance', 'Western'], ['Horror', 'Thriller'], ['Adventure', 'Family', 'Fantasy'], ['Crime', 'Drama', 'Mystery'], ['Horror', 'Mystery'], ['Comedy', 'Crime', 'Drama'], ['Action', 'Comedy', 'Romance'], ['Action', 'Biography', 'Drama'], ['Drama', 'Music'], ['Comedy', 'Drama'], ['Drama', 'Thriller', 'War'], ['Action', 'Mystery', 'Thriller'], ['Horror', 'Sci-Fi', 'Thriller'], ['Comedy', 'Drama', 'Romance'], ['Action', 'Adventure', 'Fantasy'], ['Drama', 'Mystery', 'Romance'], ['Drama'], ['Action', 'Adventure', 'Thriller'], ['Animation', 'Action', 'Adventure'], ['Drama', 'Fantasy', 'Mystery'], ['Drama', 'Sci-Fi'], ['Animation', 'Adventure', 'Comedy'], ['Horror', 'Thriller'], ['Action', 'Mystery', 'Thriller'], ['Action', 'Mystery', 'Sci-Fi'], ['Crime', 'Drama', 'Thriller'], ['Comedy', 'Drama', 'Romance'], ['Biography', 'Drama', 'Thriller'], ['Action', 'Adventure', 'Family'], ['Animation', 'Comedy', 'Family'], ['Action', 'Crime', 'Drama'], ['Comedy'], ['Comedy', 'Crime', 'Thriller'], ['Comedy', 'Romance'], ['Animation', 'Comedy', 'Drama'], ['Action', 'Crime', 'Thriller'], ['Comedy', 'Romance'], ['Adventure', 'Biography', 'Drama'], ['Animation', 'Adventure', 'Comedy'], ['Crime', 'Drama', 'Mystery'], ['Action', 'Comedy', 'Sci-Fi'], ['Comedy', 'Crime'], ['Animation', 'Action', 'Adventure'], ['Action', 'Drama', 'Thriller'], ['Fantasy', 'Horror'], ['Crime', 'Drama', 'Thriller'], ['Action', 'Adventure', 'Fantasy'], ['Comedy', 'Drama', 'Romance'], ['Biography', 'Drama', 'Romance'], ['Action', 'Adventure', 'Comedy'], ['Horror', 'Thriller'], ['Horror', 'Mystery', 'Thriller'], ['Comedy', 'Romance'], ['Animation', 'Adventure', 'Comedy'], ['Crime', 'Drama', 'Mystery'], ['Adventure', 'Biography', 'Drama'], ['Horror', 'Mystery', 'Thriller'], ['Adventure', 'Fantasy', 'Mystery'], ['Action', 'Adventure', 'Sci-Fi'], ['Biography', 'Drama'], ['Comedy'], ['Drama', 'Sport'], ['Comedy', 'Family'], ['Drama', 'Romance'], ['Action', 'Adventure', 'Comedy'], ['Comedy'], ['Mystery', 'Romance', 'Thriller'], ['Crime', 'Drama'], ['Action', 'Comedy'], ['Comedy', 'Crime'], ['Drama', 'Thriller'], ['Drama'], ['Animation', 'Adventure', 'Comedy'], ['Action', 'Thriller'], ['Drama', 'Thriller'], ['Animation', 'Adventure', 'Comedy'], ['Crime', 'Drama', 'Mystery'], ['Biography', 'Drama', 'Sport'], ['Crime', 'Drama', 'Thriller'], ['Drama', 'Music'], ['Crime', 'Drama', 'Thriller'], ['Drama', 'Romance'], ['Animation', 'Action', 'Adventure'], ['Comedy', 'Drama'], ['Action', 'Adventure', 'Drama'], ['Biography', 'Crime', 'Drama'], ['Horror'], ['Biography', 'Drama', 'Mystery'], ['Drama', 'Romance'], ['Comedy', 'Family'], ['Drama'], ['Drama', 'Fantasy', 'Horror'], ['Drama', 'Romance'], ['Biography', 'Drama', 'History'], ['Comedy', 'Family'], ['Action', 'Adventure', 'Thriller'], ['Comedy', 'Drama'], ['Action', 'Adventure', 'Fantasy'], ['Action', 'Thriller'], ['Drama', 'Romance'], ['Comedy', 'Drama', 'Romance'], ['Drama', 'Horror', 'Sci-Fi'], ['Comedy', 'Horror', 'Romance'], ['Drama'], ['Action', 'Adventure', 'Sci-Fi'], ['Action', 'Adventure', 'Fantasy'], ['Action', 'Adventure', 'Drama'], ['Biography', 'Comedy', 'Drama'], ['Drama', 'Mystery', 'Romance'], ['Animation', 'Adventure', 'Comedy'], ['Drama', 'Romance', 'Sci-Fi'], ['Drama'], ['Drama', 'Fantasy'], ['Drama', 'Romance'], ['Comedy', 'Horror', 'Thriller'], ['Comedy', 'Drama', 'Romance'], ['Action', 'Drama', 'Family'], ['Comedy', 'Drama', 'Romance'], ['Action', 'Thriller', 'War'], ['Adventure', 'Comedy', 'Drama'], ['Comedy', 'Romance'], ['Comedy', 'Romance'], ['Comedy', 'Drama', 'Romance'], ['Action', 'Adventure', 'Crime'], ['Comedy', 'Romance'], ['Animation', 'Action', 'Adventure'], ['Action', 'Crime', 'Sci-Fi'], ['Comedy', 'Drama', 'Romance'], ['Crime', 'Thriller'], ['Comedy', 'Horror', 'Sci-Fi'], ['Drama', 'Thriller'], ['Drama', 'Fantasy', 'Horror'], ['Adventure', 'Drama', 'Family'], ['Mystery', 'Sci-Fi', 'Thriller'], ['Biography', 'Crime', 'Drama'], ['Drama', 'Fantasy', 'Horror'], ['Action', 'Adventure', 'Thriller'], ['Crime', 'Drama', 'Fantasy'], ['Adventure', 'Family', 'Fantasy'], ['Action', 'Adventure', 'Drama'], ['Action', 'Comedy', 'Horror'], ['Comedy', 'Drama', 'Family'], ['Action', 'Thriller'], ['Action', 'Adventure', 'Sci-Fi'], ['Adventure', 'Drama', 'Fantasy'], ['Drama'], ['Drama'], ['Comedy', 'Drama', 'Music'], ['Drama', 'Fantasy', 'Music'], ['Comedy', 'Horror'], ['Action', 'Comedy', 'Sport'], ['Horror'], ['Comedy', 'Drama'], ['Horror', 'Mystery'], ['Adventure', 'Drama', 'Fantasy'], ['Comedy', 'Romance'], ['Action', 'Sci-Fi', 'Thriller'], ['Crime', 'Drama'], ['Action', 'Adventure', 'Sci-Fi'], ['Adventure'], ['Comedy', 'Drama'], ['Comedy', 'Drama'], ['Comedy', 'Drama', 'Romance'], ['Adventure', 'Comedy', 'Drama'], ['Action', 'Sci-Fi', 'Thriller'], ['Comedy', 'Romance'], ['Action', 'Fantasy', 'Horror'], ['Crime', 'Drama', 'Thriller'], ['Action', 'Drama', 'Thriller'], ['Crime', 'Drama', 'Mystery'], ['Crime', 'Drama', 'Mystery'], ['Drama', 'Sci-Fi', 'Thriller'], ['Biography', 'Drama', 'History'], ['Crime', 'Horror', 'Thriller'], ['Horror', 'Thriller'], ['Comedy', 'Drama', 'Musical'], ['Horror', 'Mystery'], ['Biography', 'Drama', 'Sport'], ['Comedy', 'Family', 'Romance'], ['Drama', 'Thriller'], ['Biography', 'Drama', 'Family'], ['Comedy', 'Drama', 'Family'], ['Drama', 'Fantasy', 'Musical'], ['Comedy'], ['Adventure', 'Family'], ['Adventure', 'Comedy', 'Fantasy'], ['Horror', 'Thriller'], ['Drama', 'Romance'], ['Action', 'Adventure', 'Fantasy'], ['Drama', 'Family', 'Music'], ['Action', 'Adventure', 'Horror'], ['Comedy'], ['Horror'], ['Drama', 'Music', 'Romance'], ['Comedy', 'Family', 'Fantasy']]\n"
     ]
    }
   ],
   "source": [
    "uniq_genre_list = []\n",
    "for items in df['Genre']:\n",
    "    uniq_genre_list.append(items.split(','))\n",
    "    \n",
    "print(uniq_genre_list)"
   ]
  },
  {
   "cell_type": "code",
   "execution_count": 55,
   "id": "c2825bac",
   "metadata": {},
   "outputs": [
    {
     "name": "stdout",
     "output_type": "stream",
     "text": [
      "['Action', 'Adventure', 'Sci-Fi', 'Adventure', 'Mystery', 'Sci-Fi', 'Horror', 'Thriller', 'Animation', 'Comedy', 'Family', 'Action', 'Adventure', 'Fantasy', 'Action', 'Adventure', 'Fantasy', 'Comedy', 'Drama', 'Music', 'Action', 'Adventure', 'Biography', 'Adventure', 'Drama', 'Romance', 'Adventure', 'Family', 'Fantasy', 'Biography', 'Drama', 'History', 'Action', 'Adventure', 'Sci-Fi', 'Animation', 'Adventure', 'Comedy', 'Action', 'Comedy', 'Drama', 'Animation', 'Adventure', 'Comedy', 'Biography', 'Drama', 'History', 'Action', 'Thriller', 'Biography', 'Drama', 'Drama', 'Mystery', 'Sci-Fi', 'Adventure', 'Drama', 'Thriller', 'Drama', 'Animation', 'Adventure', 'Comedy', 'Action', 'Adventure', 'Sci-Fi', 'Comedy', 'Action', 'Adventure', 'Drama', 'Comedy', 'Drama', 'Thriller', 'Action', 'Adventure', 'Sci-Fi', 'Action', 'Adventure', 'Comedy', 'Action', 'Horror', 'Sci-Fi', 'Action', 'Adventure', 'Sci-Fi', 'Adventure', 'Drama', 'Sci-Fi', 'Action', 'Adventure', 'Fantasy', 'Action', 'Adventure', 'Western', 'Animation', 'Adventure', 'Comedy', 'Drama', 'Biography', 'Drama', 'History', 'Drama', 'Action', 'Adventure', 'Fantasy', 'Drama', 'Thriller', 'Action', 'Adventure', 'Sci-Fi', 'Action', 'Adventure', 'Fantasy', 'Action', 'Adventure', 'Fantasy', 'Comedy', 'Drama', 'Action', 'Crime', 'Thriller', 'Action', 'Crime', 'Drama', 'Adventure', 'Drama', 'History', 'Crime', 'Horror', 'Thriller', 'Drama', 'Romance', 'Comedy', 'Drama', 'Romance', 'Biography', 'Drama', 'Action', 'Adventure', 'Sci-Fi', 'Crime', 'Drama', 'Mystery', 'Drama', 'Romance', 'Thriller', 'Drama', 'Mystery', 'Sci-Fi', 'Action', 'Adventure', 'Comedy', 'Drama', 'History', 'Thriller', 'Action', 'Adventure', 'Sci-Fi', 'Drama', 'Action', 'Drama', 'Thriller', 'Action', 'Drama', 'Romance', 'Drama', 'Fantasy', 'Drama', 'Romance', 'Animation', 'Adventure', 'Comedy', 'Action', 'Adventure', 'Fantasy', 'Action', 'Sci-Fi', 'Adventure', 'Drama', 'War', 'Action', 'Adventure', 'Fantasy', 'Action', 'Comedy', 'Fantasy', 'Action', 'Adventure', 'Sci-Fi', 'Comedy', 'Drama', 'Biography', 'Comedy', 'Crime', 'Crime', 'Drama', 'Mystery', 'Action', 'Crime', 'Thriller', 'Action', 'Adventure', 'Sci-Fi', 'Crime', 'Drama', 'Action', 'Adventure', 'Fantasy', 'Crime', 'Drama', 'Mystery', 'Action', 'Crime', 'Drama', 'Crime', 'Drama', 'Mystery', 'Action', 'Adventure', 'Fantasy', 'Drama', 'Comedy', 'Crime', 'Drama', 'Action', 'Adventure', 'Sci-Fi', 'Action', 'Comedy', 'Crime', 'Animation', 'Drama', 'Fantasy', 'Horror', 'Mystery', 'Sci-Fi', 'Drama', 'Mystery', 'Thriller', 'Crime', 'Drama', 'Thriller', 'Biography', 'Crime', 'Drama', 'Action', 'Adventure', 'Fantasy', 'Adventure', 'Drama', 'Sci-Fi', 'Action', 'Adventure', 'Comedy', 'Crime', 'Drama', 'Thriller', 'Comedy', 'Action', 'Adventure', 'Drama', 'Drama', 'Mystery', 'Sci-Fi', 'Action', 'Horror', 'Thriller', 'Biography', 'Drama', 'History', 'Action', 'Fantasy', 'War', 'Adventure', 'Drama', 'Fantasy', 'Comedy', 'Horror', 'Thriller', 'Drama', 'Horror', 'Mystery', 'Animation', 'Adventure', 'Comedy', 'Adventure', 'Drama', 'Family', 'Adventure', 'Mystery', 'Sci-Fi', 'Adventure', 'Comedy', 'Romance', 'Action', 'Thriller', 'Adventure', 'Drama', 'Family', 'Action', 'Adventure', 'Sci-Fi', 'Adventure', 'Crime', 'Mystery', 'Comedy', 'Family', 'Musical', 'Adventure', 'Drama', 'Thriller', 'Drama', 'Adventure', 'Comedy', 'Drama', 'Drama', 'Horror', 'Thriller', 'Drama', 'Music', 'Action', 'Crime', 'Thriller', 'Crime', 'Drama', 'Thriller', 'Crime', 'Drama', 'Thriller', 'Drama', 'Romance', 'Mystery', 'Thriller', 'Action', 'Adventure', 'Sci-Fi', 'Comedy', 'Family', 'Biography', 'Comedy', 'Drama', 'Drama', 'Drama', 'Western', 'Drama', 'Mystery', 'Romance', 'Comedy', 'Drama', 'Action', 'Drama', 'Mystery', 'Comedy', 'Action', 'Adventure', 'Crime', 'Adventure', 'Family', 'Fantasy', 'Adventure', 'Sci-Fi', 'Thriller', 'Drama', 'Action', 'Crime', 'Drama', 'Action', 'Horror', 'Sci-Fi', 'Action', 'Adventure', 'Sci-Fi', 'Comedy', 'Drama', 'Romance', 'Action', 'Comedy', 'Fantasy', 'Action', 'Comedy', 'Mystery', 'Action', 'Comedy', 'Crime', 'Action', 'Adventure', 'Sci-Fi', 'Action', 'Adventure', 'Crime', 'Action', 'Adventure', 'Thriller', 'Drama', 'Fantasy', 'Romance', 'Action', 'Adventure', 'Comedy', 'Biography', 'Drama', 'History', 'Action', 'Drama', 'History', 'Action', 'Adventure', 'Thriller', 'Crime', 'Drama', 'Thriller', 'Animation', 'Adventure', 'Family', 'Drama', 'Romance', 'Sci-Fi', 'Animation', 'Adventure', 'Comedy', 'Action', 'Adventure', 'Family', 'Action', 'Adventure', 'Drama', 'Action', 'Comedy', 'Horror', 'Mystery', 'Thriller', 'Action', 'Adventure', 'Comedy', 'Comedy', 'Romance', 'Horror', 'Mystery', 'Drama', 'Family', 'Fantasy', 'Drama', 'Thriller', 'Drama', 'War', 'Drama', 'Fantasy', 'Horror', 'Crime', 'Drama', 'Comedy', 'Drama', 'Romance', 'Drama', 'Romance', 'Crime', 'Drama', 'History', 'Horror', 'Sci-Fi', 'Thriller', 'Action', 'Drama', 'Sport', 'Action', 'Adventure', 'Sci-Fi', 'Adventure', 'Biography', 'Drama', 'Biography', 'Drama', 'Thriller', 'Action', 'Comedy', 'Crime', 'Action', 'Adventure', 'Sci-Fi', 'Drama', 'Fantasy', 'Horror', 'Biography', 'Drama', 'Thriller', 'Action', 'Adventure', 'Sci-Fi', 'Action', 'Adventure', 'Mystery', 'Action', 'Adventure', 'Sci-Fi', 'Drama', 'Horror', 'Comedy', 'Drama', 'Romance', 'Comedy', 'Romance', 'Action', 'Adventure', 'Drama', 'Drama', 'Action', 'Adventure', 'Sci-Fi', 'Action', 'Adventure', 'Fantasy', 'Action', 'Adventure', 'Fantasy', 'Action', 'Adventure', 'Sci-Fi', 'Action', 'Adventure', 'Comedy', 'Action', 'Comedy', 'Action', 'Adventure', 'Sci-Fi', 'Animation', 'Adventure', 'Comedy', 'Horror', 'Mystery', 'Crime', 'Drama', 'Mystery', 'Comedy', 'Crime', 'Drama', 'Comedy', 'Drama', 'Romance', 'Action', 'Adventure', 'Sci-Fi', 'Action', 'Adventure', 'Family', 'Drama', 'Fantasy', 'War', 'Crime', 'Drama', 'Thriller', 'Action', 'Adventure', 'Drama', 'Action', 'Adventure', 'Thriller', 'Action', 'Adventure', 'Drama', 'Drama', 'Romance', 'Biography', 'Drama', 'History', 'Drama', 'Horror', 'Thriller', 'Adventure', 'Comedy', 'Drama', 'Action', 'Adventure', 'Romance', 'Action', 'Drama', 'War', 'Animation', 'Adventure', 'Comedy', 'Animation', 'Adventure', 'Comedy', 'Action', 'Adventure', 'Sci-Fi', 'Adventure', 'Family', 'Fantasy', 'Drama', 'Musical', 'Romance', 'Drama', 'Sci-Fi', 'Thriller', 'Comedy', 'Drama', 'Action', 'Comedy', 'Crime', 'Biography', 'Comedy', 'Drama', 'Comedy', 'Drama', 'Romance', 'Drama', 'Thriller', 'Biography', 'Drama', 'History', 'Action', 'Adventure', 'Sci-Fi', 'Horror', 'Mystery', 'Thriller', 'Comedy', 'Action', 'Adventure', 'Sci-Fi', 'Action', 'Drama', 'Sci-Fi', 'Horror', 'Drama', 'Thriller', 'Comedy', 'Drama', 'Romance', 'Drama', 'Thriller', 'Comedy', 'Drama', 'Drama', 'Action', 'Adventure', 'Comedy', 'Drama', 'Horror', 'Thriller', 'Comedy', 'Drama', 'Sci-Fi', 'Action', 'Adventure', 'Sci-Fi', 'Action', 'Adventure', 'Thriller', 'Adventure', 'Fantasy', 'Action', 'Comedy', 'Crime', 'Comedy', 'Drama', 'Music', 'Action', 'Adventure', 'Mystery', 'Action', 'Comedy', 'Crime', 'Crime', 'Drama', 'History', 'Comedy', 'Action', 'Adventure', 'Sci-Fi', 'Crime', 'Mystery', 'Thriller', 'Action', 'Adventure', 'Crime', 'Biography', 'Drama', 'Romance', 'Action', 'Adventure', 'Action', 'Fantasy', 'Action', 'Comedy', 'Action', 'Adventure', 'Sci-Fi', 'Action', 'Comedy', 'Crime', 'Action', 'Drama', 'Horror', 'Comedy', 'Music', 'Romance', 'Comedy', 'Action', 'Adventure', 'Fantasy', 'Drama', 'Romance', 'Animation', 'Adventure', 'Comedy', 'Comedy', 'Drama', 'Biography', 'Crime', 'Drama', 'Drama', 'History', 'Action', 'Crime', 'Thriller', 'Action', 'Biography', 'Drama', 'Horror', 'Comedy', 'Romance', 'Comedy', 'Romance', 'Comedy', 'Crime', 'Drama', 'Adventure', 'Family', 'Fantasy', 'Action', 'Crime', 'Thriller', 'Comedy', 'Romance', 'Biography', 'Drama', 'Sport', 'Drama', 'Romance', 'Drama', 'Horror', 'Adventure', 'Fantasy', 'Adventure', 'Family', 'Fantasy', 'Action', 'Drama', 'Sci-Fi', 'Action', 'Adventure', 'Sci-Fi', 'Comedy', 'Horror', 'Thriller', 'Action', 'Crime', 'Thriller', 'Crime', 'Drama', 'Music', 'Drama', 'Action', 'Crime', 'Thriller', 'Action', 'Sci-Fi', 'Thriller', 'Biography', 'Drama', 'Action', 'Adventure', 'Fantasy', 'Drama', 'Horror', 'Sci-Fi', 'Biography', 'Comedy', 'Drama', 'Crime', 'Horror', 'Thriller', 'Crime', 'Drama', 'Mystery', 'Animation', 'Adventure', 'Comedy', 'Action', 'Biography', 'Drama', 'Biography', 'Drama', 'Biography', 'Drama', 'History', 'Action', 'Biography', 'Drama', 'Comedy', 'Drama', 'Romance', 'Drama', 'Romance', 'Comedy', 'Romance', 'Action', 'Crime', 'Thriller', 'Action', 'Crime', 'Drama', 'Action', 'Drama', 'Thriller', 'Adventure', 'Family', 'Fantasy', 'Action', 'Adventure', 'Action', 'Adventure', 'Romance', 'Adventure', 'Family', 'Fantasy', 'Crime', 'Drama', 'Comedy', 'Horror', 'Comedy', 'Fantasy', 'Romance', 'Drama', 'Comedy', 'Drama', 'Comedy', 'Drama', 'Romance', 'Adventure', 'Sci-Fi', 'Thriller', 'Action', 'Adventure', 'Fantasy', 'Biography', 'Drama', 'Romance', 'Comedy', 'Fantasy', 'Comedy', 'Drama', 'Fantasy', 'Comedy', 'Horror', 'Thriller', 'Action', 'Adventure', 'Sci-Fi', 'Adventure', 'Comedy', 'Horror', 'Comedy', 'Mystery', 'Drama', 'Adventure', 'Drama', 'Fantasy', 'Action', 'Adventure', 'Action', 'Adventure', 'Drama', 'Action', 'Drama', 'Sci-Fi', 'Action', 'Mystery', 'Sci-Fi', 'Action', 'Crime', 'Drama', 'Action', 'Crime', 'Fantasy', 'Biography', 'Comedy', 'Drama', 'Action', 'Crime', 'Thriller', 'Biography', 'Crime', 'Drama', 'Drama', 'Sport', 'Adventure', 'Comedy', 'Drama', 'Action', 'Adventure', 'Thriller', 'Comedy', 'Fantasy', 'Horror', 'Drama', 'Sport', 'Drama', 'History', 'Thriller', 'Animation', 'Action', 'Adventure', 'Action', 'Adventure', 'Drama', 'Action', 'Comedy', 'Family', 'Action', 'Adventure', 'Drama', 'Action', 'Adventure', 'Sci-Fi', 'Action', 'Adventure', 'Sci-Fi', 'Action', 'Comedy', 'Action', 'Crime', 'Drama', 'Biography', 'Drama', 'Comedy', 'Drama', 'Fantasy', 'Romance', 'Action', 'Adventure', 'Sci-Fi', 'Comedy', 'Comedy', 'Drama', 'Animation', 'Action', 'Adventure', 'Animation', 'Adventure', 'Comedy', 'Drama', 'Romance', 'Drama', 'Mystery', 'Thriller', 'Drama', 'History', 'Thriller', 'Animation', 'Adventure', 'Comedy', 'Action', 'Adventure', 'Sci-Fi', 'Adventure', 'Comedy', 'Action', 'Thriller', 'Comedy', 'Music', 'Animation', 'Adventure', 'Comedy', 'Action', 'Adventure', 'Crime', 'Comedy', 'Drama', 'Horror', 'Adventure', 'Family', 'Fantasy', 'Drama', 'Action', 'Drama', 'Thriller', 'Drama', 'Action', 'Horror', 'Romance', 'Action', 'Drama', 'Fantasy', 'Action', 'Crime', 'Drama', 'Drama', 'Fantasy', 'Romance', 'Action', 'Crime', 'Thriller', 'Action', 'Mystery', 'Thriller', 'Comedy', 'Drama', 'Comedy', 'Action', 'Adventure', 'Horror', 'Action', 'Adventure', 'Thriller', 'Drama', 'Romance', 'Drama', 'Thriller', 'Action', 'Comedy', 'Crime', 'Adventure', 'Family', 'Fantasy', 'Drama', 'Romance', 'Animation', 'Family', 'Fantasy', 'Drama', 'Romance', 'Action', 'Sci-Fi', 'Adventure', 'Comedy', 'Drama', 'Animation', 'Action', 'Adventure', 'Drama', 'Horror', 'Action', 'Adventure', 'Sci-Fi', 'Comedy', 'Drama', 'Action', 'Horror', 'Mystery', 'Action', 'Thriller', 'Action', 'Adventure', 'Sci-Fi', 'Drama', 'Comedy', 'Drama', 'Romance', 'Comedy', 'Crime', 'Comedy', 'Romance', 'Drama', 'Romance', 'Crime', 'Drama', 'Thriller', 'Horror', 'Mystery', 'Thriller', 'Biography', 'Drama', 'Adventure', 'Comedy', 'Family', 'Action', 'Adventure', 'Crime', 'Action', 'Crime', 'Mystery', 'Mystery', 'Thriller', 'Action', 'Sci-Fi', 'Thriller', 'Action', 'Comedy', 'Crime', 'Biography', 'Crime', 'Drama', 'Biography', 'Drama', 'History', 'Action', 'Adventure', 'Sci-Fi', 'Adventure', 'Family', 'Fantasy', 'Biography', 'Drama', 'History', 'Biography', 'Comedy', 'Drama', 'Drama', 'Thriller', 'Comedy', 'Drama', 'Romance', 'Drama', 'Romance', 'Sci-Fi', 'Action', 'Crime', 'Drama', 'Adventure', 'Comedy', 'Drama', 'Comedy', 'Drama', 'Family', 'Drama', 'Romance', 'Thriller', 'Comedy', 'Crime', 'Drama', 'Animation', 'Comedy', 'Family', 'Drama', 'Horror', 'Sci-Fi', 'Action', 'Adventure', 'Drama', 'Action', 'Horror', 'Sci-Fi', 'Action', 'Crime', 'Sport', 'Drama', 'Horror', 'Sci-Fi', 'Drama', 'Horror', 'Sci-Fi', 'Action', 'Adventure', 'Comedy', 'Mystery', 'Sci-Fi', 'Thriller', 'Crime', 'Drama', 'Thriller', 'Animation', 'Adventure', 'Comedy', 'Action', 'Sci-Fi', 'Thriller', 'Drama', 'Romance', 'Comedy', 'Drama', 'Music', 'Crime', 'Drama', 'Thriller', 'Comedy', 'Drama', 'Romance', 'Comedy', 'Romance', 'Drama', 'Sci-Fi', 'Thriller', 'Drama', 'War', 'Action', 'Crime', 'Drama', 'Sci-Fi', 'Thriller', 'Adventure', 'Drama', 'Horror', 'Comedy', 'Drama', 'Romance', 'Action', 'Adventure', 'Drama', 'Action', 'Crime', 'Drama', 'Adventure', 'Fantasy', 'Drama', 'Romance', 'Biography', 'History', 'Thriller', 'Crime', 'Drama', 'Thriller', 'Action', 'Drama', 'History', 'Crime', 'Drama', 'Thriller', 'Action', 'Biography', 'Drama', 'Adventure', 'Horror', 'Action', 'Adventure', 'Sci-Fi', 'Action', 'Adventure', 'Mystery', 'Comedy', 'Drama', 'Romance', 'Horror', 'Thriller', 'Action', 'Sci-Fi', 'Thriller', 'Biography', 'Drama', 'Action', 'Crime', 'Drama', 'Action', 'Crime', 'Mystery', 'Action', 'Adventure', 'Comedy', 'Mystery', 'Thriller', 'Mystery', 'Sci-Fi', 'Thriller', 'Drama', 'Mystery', 'Sci-Fi', 'Comedy', 'Drama', 'Adventure', 'Family', 'Fantasy', 'Biography', 'Drama', 'Sport', 'Comedy', 'Drama', 'Romance', 'Biography', 'Drama', 'Romance', 'Action', 'Adventure', 'Sci-Fi', 'Mystery', 'Thriller', 'Mystery', 'Thriller', 'Action', 'Drama', 'Fantasy', 'Action', 'Adventure', 'Biography', 'Adventure', 'Comedy', 'Sci-Fi', 'Action', 'Adventure', 'Thriller', 'Fantasy', 'Horror', 'Horror', 'Mystery', 'Animation', 'Adventure', 'Comedy', 'Action', 'Adventure', 'Drama', 'Adventure', 'Family', 'Fantasy', 'Action', 'Adventure', 'Sci-Fi', 'Comedy', 'Drama', 'Comedy', 'Drama', 'Crime', 'Drama', 'Thriller', 'Comedy', 'Romance', 'Animation', 'Comedy', 'Family', 'Comedy', 'Drama', 'Comedy', 'Drama', 'Biography', 'Drama', 'Sport', 'Action', 'Adventure', 'Fantasy', 'Action', 'Drama', 'History', 'Action', 'Adventure', 'Sci-Fi', 'Action', 'Adventure', 'Mystery', 'Crime', 'Drama', 'Mystery', 'Action', 'Comedy', 'Romance', 'Comedy', 'Drama', 'Romance', 'Biography', 'Drama', 'Sport', 'Action', 'Fantasy', 'Thriller', 'Biography', 'Drama', 'Sport', 'Action', 'Drama', 'Fantasy', 'Adventure', 'Sci-Fi', 'Thriller', 'Animation', 'Adventure', 'Comedy', 'Drama', 'Mystery', 'Thriller', 'Drama', 'Romance', 'Crime', 'Drama', 'Mystery', 'Comedy', 'Romance', 'Sport', 'Comedy', 'Family', 'Drama', 'Horror', 'Mystery', 'Action', 'Drama', 'Sport', 'Action', 'Adventure', 'Comedy', 'Drama', 'Mystery', 'Sci-Fi', 'Animation', 'Action', 'Comedy', 'Action', 'Crime', 'Drama', 'Action', 'Crime', 'Drama', 'Animation', 'Action', 'Adventure', 'Crime', 'Drama', 'Comedy', 'Crime', 'Drama', 'Action', 'Adventure', 'Fantasy', 'Drama', 'Fantasy', 'Romance', 'Comedy', 'Drama', 'Drama', 'Fantasy', 'Thriller', 'Biography', 'Crime', 'Drama', 'Comedy', 'Drama', 'Romance', 'Action', 'Crime', 'Drama', 'Sci-Fi', 'Action', 'Comedy', 'Romance', 'Adventure', 'Comedy', 'Drama', 'Comedy', 'Crime', 'Drama', 'Action', 'Fantasy', 'Horror', 'Drama', 'Horror', 'Horror', 'Action', 'Thriller', 'Action', 'Adventure', 'Mystery', 'Action', 'Adventure', 'Fantasy', 'Adventure', 'Comedy', 'Family', 'Comedy', 'Drama', 'Romance', 'Comedy', 'Comedy', 'Drama', 'Horror', 'Comedy', 'Romance', 'Mystery', 'Romance', 'Sci-Fi', 'Crime', 'Drama', 'Drama', 'Horror', 'Mystery', 'Comedy', 'Biography', 'Drama', 'Comedy', 'Drama', 'Thriller', 'Drama', 'History', 'War', 'Comedy', 'Drama', 'Action', 'Comedy', 'Fantasy', 'Drama', 'Horror', 'Musical', 'Horror', 'Mystery', 'Thriller', 'Comedy', 'Music', 'Biography', 'Crime', 'Drama', 'Drama', 'Action', 'Adventure', 'Comedy', 'Crime', 'Drama', 'Mystery', 'Drama', 'Action', 'Comedy', 'Crime', 'Comedy', 'Drama', 'Romance', 'Crime', 'Drama', 'Mystery', 'Action', 'Comedy', 'Crime', 'Drama', 'Drama', 'Romance', 'Crime', 'Drama', 'Mystery', 'Adventure', 'Comedy', 'Romance', 'Comedy', 'Crime', 'Drama', 'Adventure', 'Drama', 'Thriller', 'Crime', 'Drama', 'Thriller', 'Drama', 'History', 'Thriller', 'Action', 'Adventure', 'Sci-Fi', 'Horror', 'Action', 'Crime', 'Mystery', 'Comedy', 'Romance', 'Comedy', 'Action', 'Drama', 'Thriller', 'Action', 'Adventure', 'Sci-Fi', 'Drama', 'Mystery', 'Thriller', 'Comedy', 'Drama', 'Romance', 'Action', 'Fantasy', 'Horror', 'Drama', 'Romance', 'Biography', 'Drama', 'Biography', 'Drama', 'Action', 'Adventure', 'Sci-Fi', 'Animation', 'Adventure', 'Comedy', 'Drama', 'Mystery', 'Thriller', 'Action', 'Horror', 'Sci-Fi', 'Drama', 'Romance', 'Action', 'Adventure', 'Drama', 'Adventure', 'Drama', 'Fantasy', 'Drama', 'Romance', 'Sci-Fi', 'Action', 'Adventure', 'Thriller', 'Comedy', 'Fantasy', 'Action', 'Comedy', 'Crime', 'Adventure', 'Drama', 'Romance', 'Action', 'Crime', 'Drama', 'Comedy', 'Drama', 'Romance', 'Crime', 'Drama', 'Crime', 'Drama', 'Mystery', 'Action', 'Adventure', 'Sci-Fi', 'Animation', 'Fantasy', 'Animation', 'Adventure', 'Comedy', 'Drama', 'Mystery', 'War', 'Comedy', 'Romance', 'Animation', 'Comedy', 'Family', 'Comedy', 'Horror', 'Mystery', 'Thriller', 'Action', 'Adventure', 'Drama', 'Comedy', 'Drama', 'Adventure', 'Biography', 'Drama', 'Comedy', 'Horror', 'Thriller', 'Action', 'Drama', 'Family', 'Comedy', 'Fantasy', 'Horror', 'Comedy', 'Romance', 'Drama', 'Mystery', 'Romance', 'Action', 'Adventure', 'Comedy', 'Thriller', 'Comedy', 'Adventure', 'Comedy', 'Sci-Fi', 'Mystery', 'Thriller', 'Comedy', 'Drama', 'Adventure', 'Drama', 'Family', 'Horror', 'Thriller', 'Action', 'Drama', 'Romance', 'Drama', 'Romance', 'Action', 'Adventure', 'Fantasy', 'Comedy', 'Action', 'Biography', 'Drama', 'Drama', 'Mystery', 'Romance', 'Adventure', 'Drama', 'Western', 'Drama', 'Music', 'Romance', 'Comedy', 'Romance', 'Western', 'Horror', 'Thriller', 'Adventure', 'Family', 'Fantasy', 'Crime', 'Drama', 'Mystery', 'Horror', 'Mystery', 'Comedy', 'Crime', 'Drama', 'Action', 'Comedy', 'Romance', 'Action', 'Biography', 'Drama', 'Drama', 'Music', 'Comedy', 'Drama', 'Drama', 'Thriller', 'War', 'Action', 'Mystery', 'Thriller', 'Horror', 'Sci-Fi', 'Thriller', 'Comedy', 'Drama', 'Romance', 'Action', 'Adventure', 'Fantasy', 'Drama', 'Mystery', 'Romance', 'Drama', 'Action', 'Adventure', 'Thriller', 'Animation', 'Action', 'Adventure', 'Drama', 'Fantasy', 'Mystery', 'Drama', 'Sci-Fi', 'Animation', 'Adventure', 'Comedy', 'Horror', 'Thriller', 'Action', 'Mystery', 'Thriller', 'Action', 'Mystery', 'Sci-Fi', 'Crime', 'Drama', 'Thriller', 'Comedy', 'Drama', 'Romance', 'Biography', 'Drama', 'Thriller', 'Action', 'Adventure', 'Family', 'Animation', 'Comedy', 'Family', 'Action', 'Crime', 'Drama', 'Comedy', 'Comedy', 'Crime', 'Thriller', 'Comedy', 'Romance', 'Animation', 'Comedy', 'Drama', 'Action', 'Crime', 'Thriller', 'Comedy', 'Romance', 'Adventure', 'Biography', 'Drama', 'Animation', 'Adventure', 'Comedy', 'Crime', 'Drama', 'Mystery', 'Action', 'Comedy', 'Sci-Fi', 'Comedy', 'Crime', 'Animation', 'Action', 'Adventure', 'Action', 'Drama', 'Thriller', 'Fantasy', 'Horror', 'Crime', 'Drama', 'Thriller', 'Action', 'Adventure', 'Fantasy', 'Comedy', 'Drama', 'Romance', 'Biography', 'Drama', 'Romance', 'Action', 'Adventure', 'Comedy', 'Horror', 'Thriller', 'Horror', 'Mystery', 'Thriller', 'Comedy', 'Romance', 'Animation', 'Adventure', 'Comedy', 'Crime', 'Drama', 'Mystery', 'Adventure', 'Biography', 'Drama', 'Horror', 'Mystery', 'Thriller', 'Adventure', 'Fantasy', 'Mystery', 'Action', 'Adventure', 'Sci-Fi', 'Biography', 'Drama', 'Comedy', 'Drama', 'Sport', 'Comedy', 'Family', 'Drama', 'Romance', 'Action', 'Adventure', 'Comedy', 'Comedy', 'Mystery', 'Romance', 'Thriller', 'Crime', 'Drama', 'Action', 'Comedy', 'Comedy', 'Crime', 'Drama', 'Thriller', 'Drama', 'Animation', 'Adventure', 'Comedy', 'Action', 'Thriller', 'Drama', 'Thriller', 'Animation', 'Adventure', 'Comedy', 'Crime', 'Drama', 'Mystery', 'Biography', 'Drama', 'Sport', 'Crime', 'Drama', 'Thriller', 'Drama', 'Music', 'Crime', 'Drama', 'Thriller', 'Drama', 'Romance', 'Animation', 'Action', 'Adventure', 'Comedy', 'Drama', 'Action', 'Adventure', 'Drama', 'Biography', 'Crime', 'Drama', 'Horror', 'Biography', 'Drama', 'Mystery', 'Drama', 'Romance', 'Comedy', 'Family', 'Drama', 'Drama', 'Fantasy', 'Horror', 'Drama', 'Romance', 'Biography', 'Drama', 'History', 'Comedy', 'Family', 'Action', 'Adventure', 'Thriller', 'Comedy', 'Drama', 'Action', 'Adventure', 'Fantasy', 'Action', 'Thriller', 'Drama', 'Romance', 'Comedy', 'Drama', 'Romance', 'Drama', 'Horror', 'Sci-Fi', 'Comedy', 'Horror', 'Romance', 'Drama', 'Action', 'Adventure', 'Sci-Fi', 'Action', 'Adventure', 'Fantasy', 'Action', 'Adventure', 'Drama', 'Biography', 'Comedy', 'Drama', 'Drama', 'Mystery', 'Romance', 'Animation', 'Adventure', 'Comedy', 'Drama', 'Romance', 'Sci-Fi', 'Drama', 'Drama', 'Fantasy', 'Drama', 'Romance', 'Comedy', 'Horror', 'Thriller', 'Comedy', 'Drama', 'Romance', 'Action', 'Drama', 'Family', 'Comedy', 'Drama', 'Romance', 'Action', 'Thriller', 'War', 'Adventure', 'Comedy', 'Drama', 'Comedy', 'Romance', 'Comedy', 'Romance', 'Comedy', 'Drama', 'Romance', 'Action', 'Adventure', 'Crime', 'Comedy', 'Romance', 'Animation', 'Action', 'Adventure', 'Action', 'Crime', 'Sci-Fi', 'Comedy', 'Drama', 'Romance', 'Crime', 'Thriller', 'Comedy', 'Horror', 'Sci-Fi', 'Drama', 'Thriller', 'Drama', 'Fantasy', 'Horror', 'Adventure', 'Drama', 'Family', 'Mystery', 'Sci-Fi', 'Thriller', 'Biography', 'Crime', 'Drama', 'Drama', 'Fantasy', 'Horror', 'Action', 'Adventure', 'Thriller', 'Crime', 'Drama', 'Fantasy', 'Adventure', 'Family', 'Fantasy', 'Action', 'Adventure', 'Drama', 'Action', 'Comedy', 'Horror', 'Comedy', 'Drama', 'Family', 'Action', 'Thriller', 'Action', 'Adventure', 'Sci-Fi', 'Adventure', 'Drama', 'Fantasy', 'Drama', 'Drama', 'Comedy', 'Drama', 'Music', 'Drama', 'Fantasy', 'Music', 'Comedy', 'Horror', 'Action', 'Comedy', 'Sport', 'Horror', 'Comedy', 'Drama', 'Horror', 'Mystery', 'Adventure', 'Drama', 'Fantasy', 'Comedy', 'Romance', 'Action', 'Sci-Fi', 'Thriller', 'Crime', 'Drama', 'Action', 'Adventure', 'Sci-Fi', 'Adventure', 'Comedy', 'Drama', 'Comedy', 'Drama', 'Comedy', 'Drama', 'Romance', 'Adventure', 'Comedy', 'Drama', 'Action', 'Sci-Fi', 'Thriller', 'Comedy', 'Romance', 'Action', 'Fantasy', 'Horror', 'Crime', 'Drama', 'Thriller', 'Action', 'Drama', 'Thriller', 'Crime', 'Drama', 'Mystery', 'Crime', 'Drama', 'Mystery', 'Drama', 'Sci-Fi', 'Thriller', 'Biography', 'Drama', 'History', 'Crime', 'Horror', 'Thriller', 'Horror', 'Thriller', 'Comedy', 'Drama', 'Musical', 'Horror', 'Mystery', 'Biography', 'Drama', 'Sport', 'Comedy', 'Family', 'Romance', 'Drama', 'Thriller', 'Biography', 'Drama', 'Family', 'Comedy', 'Drama', 'Family', 'Drama', 'Fantasy', 'Musical', 'Comedy', 'Adventure', 'Family', 'Adventure', 'Comedy', 'Fantasy', 'Horror', 'Thriller', 'Drama', 'Romance', 'Action', 'Adventure', 'Fantasy', 'Drama', 'Family', 'Music', 'Action', 'Adventure', 'Horror', 'Comedy', 'Horror', 'Drama', 'Music', 'Romance', 'Comedy', 'Family', 'Fantasy']\n"
     ]
    }
   ],
   "source": [
    "uniq_genre = []\n",
    "for item in uniq_genre_list:\n",
    "    for item1 in item:\n",
    "        uniq_genre.append(item1)\n",
    "\n",
    "print(uniq_genre)"
   ]
  },
  {
   "cell_type": "code",
   "execution_count": 56,
   "id": "b9bdb62c",
   "metadata": {},
   "outputs": [],
   "source": [
    "unique_genre = []\n",
    "for genre in uniq_genre:\n",
    "    if genre not in unique_genre:\n",
    "        unique_genre.append(genre)"
   ]
  },
  {
   "cell_type": "code",
   "execution_count": 57,
   "id": "f6fe3f23",
   "metadata": {},
   "outputs": [
    {
     "name": "stdout",
     "output_type": "stream",
     "text": [
      "count of unique genre 20\n",
      "\n",
      "unique genre ['Action', 'Adventure', 'Sci-Fi', 'Mystery', 'Horror', 'Thriller', 'Animation', 'Comedy', 'Family', 'Fantasy', 'Drama', 'Music', 'Biography', 'Romance', 'History', 'Western', 'Crime', 'War', 'Musical', 'Sport']\n"
     ]
    }
   ],
   "source": [
    "# uniq_genre_values\n",
    "print(\"count of unique genre\", len(unique_genre))\n",
    "print('')\n",
    "print(\"unique genre\",unique_genre)"
   ]
  },
  {
   "cell_type": "markdown",
   "id": "d96fe0e8",
   "metadata": {},
   "source": [
    "### 23. How Many Films of Each Genre Were Made?"
   ]
  },
  {
   "cell_type": "code",
   "execution_count": 58,
   "id": "2efe9442",
   "metadata": {},
   "outputs": [
    {
     "data": {
      "text/plain": [
       "Index(['Rank', 'Title', 'Genre', 'Description', 'Director', 'Actors', 'Year',\n",
       "       'Runtime (Minutes)', 'Rating', 'Votes', 'Revenue (Millions)',\n",
       "       'Metascore', 'rating_cat'],\n",
       "      dtype='object')"
      ]
     },
     "execution_count": 58,
     "metadata": {},
     "output_type": "execute_result"
    }
   ],
   "source": [
    "df.columns"
   ]
  },
  {
   "cell_type": "code",
   "execution_count": 59,
   "id": "cc0bb860",
   "metadata": {},
   "outputs": [
    {
     "name": "stdout",
     "output_type": "stream",
     "text": [
      "['Action', 'Adventure', 'Sci-Fi', 'Adventure', 'Mystery', 'Sci-Fi', 'Horror', 'Thriller', 'Animation', 'Comedy', 'Family', 'Action', 'Adventure', 'Fantasy', 'Action', 'Adventure', 'Fantasy', 'Comedy', 'Drama', 'Music', 'Action', 'Adventure', 'Biography', 'Adventure', 'Drama', 'Romance', 'Adventure', 'Family', 'Fantasy', 'Biography', 'Drama', 'History', 'Action', 'Adventure', 'Sci-Fi', 'Animation', 'Adventure', 'Comedy', 'Action', 'Comedy', 'Drama', 'Animation', 'Adventure', 'Comedy', 'Biography', 'Drama', 'History', 'Action', 'Thriller', 'Biography', 'Drama', 'Drama', 'Mystery', 'Sci-Fi', 'Adventure', 'Drama', 'Thriller', 'Drama', 'Animation', 'Adventure', 'Comedy', 'Action', 'Adventure', 'Sci-Fi', 'Comedy', 'Action', 'Adventure', 'Drama', 'Comedy', 'Drama', 'Thriller', 'Action', 'Adventure', 'Sci-Fi', 'Action', 'Adventure', 'Comedy', 'Action', 'Horror', 'Sci-Fi', 'Action', 'Adventure', 'Sci-Fi', 'Adventure', 'Drama', 'Sci-Fi', 'Action', 'Adventure', 'Fantasy', 'Action', 'Adventure', 'Western', 'Animation', 'Adventure', 'Comedy', 'Drama', 'Biography', 'Drama', 'History', 'Drama', 'Action', 'Adventure', 'Fantasy', 'Drama', 'Thriller', 'Action', 'Adventure', 'Sci-Fi', 'Action', 'Adventure', 'Fantasy', 'Action', 'Adventure', 'Fantasy', 'Comedy', 'Drama', 'Action', 'Crime', 'Thriller', 'Action', 'Crime', 'Drama', 'Adventure', 'Drama', 'History', 'Crime', 'Horror', 'Thriller', 'Drama', 'Romance', 'Comedy', 'Drama', 'Romance', 'Biography', 'Drama', 'Action', 'Adventure', 'Sci-Fi', 'Crime', 'Drama', 'Mystery', 'Drama', 'Romance', 'Thriller', 'Drama', 'Mystery', 'Sci-Fi', 'Action', 'Adventure', 'Comedy', 'Drama', 'History', 'Thriller', 'Action', 'Adventure', 'Sci-Fi', 'Drama', 'Action', 'Drama', 'Thriller', 'Action', 'Drama', 'Romance', 'Drama', 'Fantasy', 'Drama', 'Romance', 'Animation', 'Adventure', 'Comedy', 'Action', 'Adventure', 'Fantasy', 'Action', 'Sci-Fi', 'Adventure', 'Drama', 'War', 'Action', 'Adventure', 'Fantasy', 'Action', 'Comedy', 'Fantasy', 'Action', 'Adventure', 'Sci-Fi', 'Comedy', 'Drama', 'Biography', 'Comedy', 'Crime', 'Crime', 'Drama', 'Mystery', 'Action', 'Crime', 'Thriller', 'Action', 'Adventure', 'Sci-Fi', 'Crime', 'Drama', 'Action', 'Adventure', 'Fantasy', 'Crime', 'Drama', 'Mystery', 'Action', 'Crime', 'Drama', 'Crime', 'Drama', 'Mystery', 'Action', 'Adventure', 'Fantasy', 'Drama', 'Comedy', 'Crime', 'Drama', 'Action', 'Adventure', 'Sci-Fi', 'Action', 'Comedy', 'Crime', 'Animation', 'Drama', 'Fantasy', 'Horror', 'Mystery', 'Sci-Fi', 'Drama', 'Mystery', 'Thriller', 'Crime', 'Drama', 'Thriller', 'Biography', 'Crime', 'Drama', 'Action', 'Adventure', 'Fantasy', 'Adventure', 'Drama', 'Sci-Fi', 'Action', 'Adventure', 'Comedy', 'Crime', 'Drama', 'Thriller', 'Comedy', 'Action', 'Adventure', 'Drama', 'Drama', 'Mystery', 'Sci-Fi', 'Action', 'Horror', 'Thriller', 'Biography', 'Drama', 'History', 'Action', 'Fantasy', 'War', 'Adventure', 'Drama', 'Fantasy', 'Comedy', 'Horror', 'Thriller', 'Drama', 'Horror', 'Mystery', 'Animation', 'Adventure', 'Comedy', 'Adventure', 'Drama', 'Family', 'Adventure', 'Mystery', 'Sci-Fi', 'Adventure', 'Comedy', 'Romance', 'Action', 'Thriller', 'Adventure', 'Drama', 'Family', 'Action', 'Adventure', 'Sci-Fi', 'Adventure', 'Crime', 'Mystery', 'Comedy', 'Family', 'Musical', 'Adventure', 'Drama', 'Thriller', 'Drama', 'Adventure', 'Comedy', 'Drama', 'Drama', 'Horror', 'Thriller', 'Drama', 'Music', 'Action', 'Crime', 'Thriller', 'Crime', 'Drama', 'Thriller', 'Crime', 'Drama', 'Thriller', 'Drama', 'Romance', 'Mystery', 'Thriller', 'Action', 'Adventure', 'Sci-Fi', 'Comedy', 'Family', 'Biography', 'Comedy', 'Drama', 'Drama', 'Drama', 'Western', 'Drama', 'Mystery', 'Romance', 'Comedy', 'Drama', 'Action', 'Drama', 'Mystery', 'Comedy', 'Action', 'Adventure', 'Crime', 'Adventure', 'Family', 'Fantasy', 'Adventure', 'Sci-Fi', 'Thriller', 'Drama', 'Action', 'Crime', 'Drama', 'Action', 'Horror', 'Sci-Fi', 'Action', 'Adventure', 'Sci-Fi', 'Comedy', 'Drama', 'Romance', 'Action', 'Comedy', 'Fantasy', 'Action', 'Comedy', 'Mystery', 'Action', 'Comedy', 'Crime', 'Action', 'Adventure', 'Sci-Fi', 'Action', 'Adventure', 'Crime', 'Action', 'Adventure', 'Thriller', 'Drama', 'Fantasy', 'Romance', 'Action', 'Adventure', 'Comedy', 'Biography', 'Drama', 'History', 'Action', 'Drama', 'History', 'Action', 'Adventure', 'Thriller', 'Crime', 'Drama', 'Thriller', 'Animation', 'Adventure', 'Family', 'Drama', 'Romance', 'Sci-Fi', 'Animation', 'Adventure', 'Comedy', 'Action', 'Adventure', 'Family', 'Action', 'Adventure', 'Drama', 'Action', 'Comedy', 'Horror', 'Mystery', 'Thriller', 'Action', 'Adventure', 'Comedy', 'Comedy', 'Romance', 'Horror', 'Mystery', 'Drama', 'Family', 'Fantasy', 'Drama', 'Thriller', 'Drama', 'War', 'Drama', 'Fantasy', 'Horror', 'Crime', 'Drama', 'Comedy', 'Drama', 'Romance', 'Drama', 'Romance', 'Crime', 'Drama', 'History', 'Horror', 'Sci-Fi', 'Thriller', 'Action', 'Drama', 'Sport', 'Action', 'Adventure', 'Sci-Fi', 'Adventure', 'Biography', 'Drama', 'Biography', 'Drama', 'Thriller', 'Action', 'Comedy', 'Crime', 'Action', 'Adventure', 'Sci-Fi', 'Drama', 'Fantasy', 'Horror', 'Biography', 'Drama', 'Thriller', 'Action', 'Adventure', 'Sci-Fi', 'Action', 'Adventure', 'Mystery', 'Action', 'Adventure', 'Sci-Fi', 'Drama', 'Horror', 'Comedy', 'Drama', 'Romance', 'Comedy', 'Romance', 'Action', 'Adventure', 'Drama', 'Drama', 'Action', 'Adventure', 'Sci-Fi', 'Action', 'Adventure', 'Fantasy', 'Action', 'Adventure', 'Fantasy', 'Action', 'Adventure', 'Sci-Fi', 'Action', 'Adventure', 'Comedy', 'Action', 'Comedy', 'Action', 'Adventure', 'Sci-Fi', 'Animation', 'Adventure', 'Comedy', 'Horror', 'Mystery', 'Crime', 'Drama', 'Mystery', 'Comedy', 'Crime', 'Drama', 'Comedy', 'Drama', 'Romance', 'Action', 'Adventure', 'Sci-Fi', 'Action', 'Adventure', 'Family', 'Drama', 'Fantasy', 'War', 'Crime', 'Drama', 'Thriller', 'Action', 'Adventure', 'Drama', 'Action', 'Adventure', 'Thriller', 'Action', 'Adventure', 'Drama', 'Drama', 'Romance', 'Biography', 'Drama', 'History', 'Drama', 'Horror', 'Thriller', 'Adventure', 'Comedy', 'Drama', 'Action', 'Adventure', 'Romance', 'Action', 'Drama', 'War', 'Animation', 'Adventure', 'Comedy', 'Animation', 'Adventure', 'Comedy', 'Action', 'Adventure', 'Sci-Fi', 'Adventure', 'Family', 'Fantasy', 'Drama', 'Musical', 'Romance', 'Drama', 'Sci-Fi', 'Thriller', 'Comedy', 'Drama', 'Action', 'Comedy', 'Crime', 'Biography', 'Comedy', 'Drama', 'Comedy', 'Drama', 'Romance', 'Drama', 'Thriller', 'Biography', 'Drama', 'History', 'Action', 'Adventure', 'Sci-Fi', 'Horror', 'Mystery', 'Thriller', 'Comedy', 'Action', 'Adventure', 'Sci-Fi', 'Action', 'Drama', 'Sci-Fi', 'Horror', 'Drama', 'Thriller', 'Comedy', 'Drama', 'Romance', 'Drama', 'Thriller', 'Comedy', 'Drama', 'Drama', 'Action', 'Adventure', 'Comedy', 'Drama', 'Horror', 'Thriller', 'Comedy', 'Drama', 'Sci-Fi', 'Action', 'Adventure', 'Sci-Fi', 'Action', 'Adventure', 'Thriller', 'Adventure', 'Fantasy', 'Action', 'Comedy', 'Crime', 'Comedy', 'Drama', 'Music', 'Action', 'Adventure', 'Mystery', 'Action', 'Comedy', 'Crime', 'Crime', 'Drama', 'History', 'Comedy', 'Action', 'Adventure', 'Sci-Fi', 'Crime', 'Mystery', 'Thriller', 'Action', 'Adventure', 'Crime', 'Biography', 'Drama', 'Romance', 'Action', 'Adventure', 'Action', 'Fantasy', 'Action', 'Comedy', 'Action', 'Adventure', 'Sci-Fi', 'Action', 'Comedy', 'Crime', 'Action', 'Drama', 'Horror', 'Comedy', 'Music', 'Romance', 'Comedy', 'Action', 'Adventure', 'Fantasy', 'Drama', 'Romance', 'Animation', 'Adventure', 'Comedy', 'Comedy', 'Drama', 'Biography', 'Crime', 'Drama', 'Drama', 'History', 'Action', 'Crime', 'Thriller', 'Action', 'Biography', 'Drama', 'Horror', 'Comedy', 'Romance', 'Comedy', 'Romance', 'Comedy', 'Crime', 'Drama', 'Adventure', 'Family', 'Fantasy', 'Action', 'Crime', 'Thriller', 'Comedy', 'Romance', 'Biography', 'Drama', 'Sport', 'Drama', 'Romance', 'Drama', 'Horror', 'Adventure', 'Fantasy', 'Adventure', 'Family', 'Fantasy', 'Action', 'Drama', 'Sci-Fi', 'Action', 'Adventure', 'Sci-Fi', 'Comedy', 'Horror', 'Thriller', 'Action', 'Crime', 'Thriller', 'Crime', 'Drama', 'Music', 'Drama', 'Action', 'Crime', 'Thriller', 'Action', 'Sci-Fi', 'Thriller', 'Biography', 'Drama', 'Action', 'Adventure', 'Fantasy', 'Drama', 'Horror', 'Sci-Fi', 'Biography', 'Comedy', 'Drama', 'Crime', 'Horror', 'Thriller', 'Crime', 'Drama', 'Mystery', 'Animation', 'Adventure', 'Comedy', 'Action', 'Biography', 'Drama', 'Biography', 'Drama', 'Biography', 'Drama', 'History', 'Action', 'Biography', 'Drama', 'Comedy', 'Drama', 'Romance', 'Drama', 'Romance', 'Comedy', 'Romance', 'Action', 'Crime', 'Thriller', 'Action', 'Crime', 'Drama', 'Action', 'Drama', 'Thriller', 'Adventure', 'Family', 'Fantasy', 'Action', 'Adventure', 'Action', 'Adventure', 'Romance', 'Adventure', 'Family', 'Fantasy', 'Crime', 'Drama', 'Comedy', 'Horror', 'Comedy', 'Fantasy', 'Romance', 'Drama', 'Comedy', 'Drama', 'Comedy', 'Drama', 'Romance', 'Adventure', 'Sci-Fi', 'Thriller', 'Action', 'Adventure', 'Fantasy', 'Biography', 'Drama', 'Romance', 'Comedy', 'Fantasy', 'Comedy', 'Drama', 'Fantasy', 'Comedy', 'Horror', 'Thriller', 'Action', 'Adventure', 'Sci-Fi', 'Adventure', 'Comedy', 'Horror', 'Comedy', 'Mystery', 'Drama', 'Adventure', 'Drama', 'Fantasy', 'Action', 'Adventure', 'Action', 'Adventure', 'Drama', 'Action', 'Drama', 'Sci-Fi', 'Action', 'Mystery', 'Sci-Fi', 'Action', 'Crime', 'Drama', 'Action', 'Crime', 'Fantasy', 'Biography', 'Comedy', 'Drama', 'Action', 'Crime', 'Thriller', 'Biography', 'Crime', 'Drama', 'Drama', 'Sport', 'Adventure', 'Comedy', 'Drama', 'Action', 'Adventure', 'Thriller', 'Comedy', 'Fantasy', 'Horror', 'Drama', 'Sport', 'Drama', 'History', 'Thriller', 'Animation', 'Action', 'Adventure', 'Action', 'Adventure', 'Drama', 'Action', 'Comedy', 'Family', 'Action', 'Adventure', 'Drama', 'Action', 'Adventure', 'Sci-Fi', 'Action', 'Adventure', 'Sci-Fi', 'Action', 'Comedy', 'Action', 'Crime', 'Drama', 'Biography', 'Drama', 'Comedy', 'Drama', 'Fantasy', 'Romance', 'Action', 'Adventure', 'Sci-Fi', 'Comedy', 'Comedy', 'Drama', 'Animation', 'Action', 'Adventure', 'Animation', 'Adventure', 'Comedy', 'Drama', 'Romance', 'Drama', 'Mystery', 'Thriller', 'Drama', 'History', 'Thriller', 'Animation', 'Adventure', 'Comedy', 'Action', 'Adventure', 'Sci-Fi', 'Adventure', 'Comedy', 'Action', 'Thriller', 'Comedy', 'Music', 'Animation', 'Adventure', 'Comedy', 'Action', 'Adventure', 'Crime', 'Comedy', 'Drama', 'Horror', 'Adventure', 'Family', 'Fantasy', 'Drama', 'Action', 'Drama', 'Thriller', 'Drama', 'Action', 'Horror', 'Romance', 'Action', 'Drama', 'Fantasy', 'Action', 'Crime', 'Drama', 'Drama', 'Fantasy', 'Romance', 'Action', 'Crime', 'Thriller', 'Action', 'Mystery', 'Thriller', 'Comedy', 'Drama', 'Comedy', 'Action', 'Adventure', 'Horror', 'Action', 'Adventure', 'Thriller', 'Drama', 'Romance', 'Drama', 'Thriller', 'Action', 'Comedy', 'Crime', 'Adventure', 'Family', 'Fantasy', 'Drama', 'Romance', 'Animation', 'Family', 'Fantasy', 'Drama', 'Romance', 'Action', 'Sci-Fi', 'Adventure', 'Comedy', 'Drama', 'Animation', 'Action', 'Adventure', 'Drama', 'Horror', 'Action', 'Adventure', 'Sci-Fi', 'Comedy', 'Drama', 'Action', 'Horror', 'Mystery', 'Action', 'Thriller', 'Action', 'Adventure', 'Sci-Fi', 'Drama', 'Comedy', 'Drama', 'Romance', 'Comedy', 'Crime', 'Comedy', 'Romance', 'Drama', 'Romance', 'Crime', 'Drama', 'Thriller', 'Horror', 'Mystery', 'Thriller', 'Biography', 'Drama', 'Adventure', 'Comedy', 'Family', 'Action', 'Adventure', 'Crime', 'Action', 'Crime', 'Mystery', 'Mystery', 'Thriller', 'Action', 'Sci-Fi', 'Thriller', 'Action', 'Comedy', 'Crime', 'Biography', 'Crime', 'Drama', 'Biography', 'Drama', 'History', 'Action', 'Adventure', 'Sci-Fi', 'Adventure', 'Family', 'Fantasy', 'Biography', 'Drama', 'History', 'Biography', 'Comedy', 'Drama', 'Drama', 'Thriller', 'Comedy', 'Drama', 'Romance', 'Drama', 'Romance', 'Sci-Fi', 'Action', 'Crime', 'Drama', 'Adventure', 'Comedy', 'Drama', 'Comedy', 'Drama', 'Family', 'Drama', 'Romance', 'Thriller', 'Comedy', 'Crime', 'Drama', 'Animation', 'Comedy', 'Family', 'Drama', 'Horror', 'Sci-Fi', 'Action', 'Adventure', 'Drama', 'Action', 'Horror', 'Sci-Fi', 'Action', 'Crime', 'Sport', 'Drama', 'Horror', 'Sci-Fi', 'Drama', 'Horror', 'Sci-Fi', 'Action', 'Adventure', 'Comedy', 'Mystery', 'Sci-Fi', 'Thriller', 'Crime', 'Drama', 'Thriller', 'Animation', 'Adventure', 'Comedy', 'Action', 'Sci-Fi', 'Thriller', 'Drama', 'Romance', 'Comedy', 'Drama', 'Music', 'Crime', 'Drama', 'Thriller', 'Comedy', 'Drama', 'Romance', 'Comedy', 'Romance', 'Drama', 'Sci-Fi', 'Thriller', 'Drama', 'War', 'Action', 'Crime', 'Drama', 'Sci-Fi', 'Thriller', 'Adventure', 'Drama', 'Horror', 'Comedy', 'Drama', 'Romance', 'Action', 'Adventure', 'Drama', 'Action', 'Crime', 'Drama', 'Adventure', 'Fantasy', 'Drama', 'Romance', 'Biography', 'History', 'Thriller', 'Crime', 'Drama', 'Thriller', 'Action', 'Drama', 'History', 'Crime', 'Drama', 'Thriller', 'Action', 'Biography', 'Drama', 'Adventure', 'Horror', 'Action', 'Adventure', 'Sci-Fi', 'Action', 'Adventure', 'Mystery', 'Comedy', 'Drama', 'Romance', 'Horror', 'Thriller', 'Action', 'Sci-Fi', 'Thriller', 'Biography', 'Drama', 'Action', 'Crime', 'Drama', 'Action', 'Crime', 'Mystery', 'Action', 'Adventure', 'Comedy', 'Mystery', 'Thriller', 'Mystery', 'Sci-Fi', 'Thriller', 'Drama', 'Mystery', 'Sci-Fi', 'Comedy', 'Drama', 'Adventure', 'Family', 'Fantasy', 'Biography', 'Drama', 'Sport', 'Comedy', 'Drama', 'Romance', 'Biography', 'Drama', 'Romance', 'Action', 'Adventure', 'Sci-Fi', 'Mystery', 'Thriller', 'Mystery', 'Thriller', 'Action', 'Drama', 'Fantasy', 'Action', 'Adventure', 'Biography', 'Adventure', 'Comedy', 'Sci-Fi', 'Action', 'Adventure', 'Thriller', 'Fantasy', 'Horror', 'Horror', 'Mystery', 'Animation', 'Adventure', 'Comedy', 'Action', 'Adventure', 'Drama', 'Adventure', 'Family', 'Fantasy', 'Action', 'Adventure', 'Sci-Fi', 'Comedy', 'Drama', 'Comedy', 'Drama', 'Crime', 'Drama', 'Thriller', 'Comedy', 'Romance', 'Animation', 'Comedy', 'Family', 'Comedy', 'Drama', 'Comedy', 'Drama', 'Biography', 'Drama', 'Sport', 'Action', 'Adventure', 'Fantasy', 'Action', 'Drama', 'History', 'Action', 'Adventure', 'Sci-Fi', 'Action', 'Adventure', 'Mystery', 'Crime', 'Drama', 'Mystery', 'Action', 'Comedy', 'Romance', 'Comedy', 'Drama', 'Romance', 'Biography', 'Drama', 'Sport', 'Action', 'Fantasy', 'Thriller', 'Biography', 'Drama', 'Sport', 'Action', 'Drama', 'Fantasy', 'Adventure', 'Sci-Fi', 'Thriller', 'Animation', 'Adventure', 'Comedy', 'Drama', 'Mystery', 'Thriller', 'Drama', 'Romance', 'Crime', 'Drama', 'Mystery', 'Comedy', 'Romance', 'Sport', 'Comedy', 'Family', 'Drama', 'Horror', 'Mystery', 'Action', 'Drama', 'Sport', 'Action', 'Adventure', 'Comedy', 'Drama', 'Mystery', 'Sci-Fi', 'Animation', 'Action', 'Comedy', 'Action', 'Crime', 'Drama', 'Action', 'Crime', 'Drama', 'Animation', 'Action', 'Adventure', 'Crime', 'Drama', 'Comedy', 'Crime', 'Drama', 'Action', 'Adventure', 'Fantasy', 'Drama', 'Fantasy', 'Romance', 'Comedy', 'Drama', 'Drama', 'Fantasy', 'Thriller', 'Biography', 'Crime', 'Drama', 'Comedy', 'Drama', 'Romance', 'Action', 'Crime', 'Drama', 'Sci-Fi', 'Action', 'Comedy', 'Romance', 'Adventure', 'Comedy', 'Drama', 'Comedy', 'Crime', 'Drama', 'Action', 'Fantasy', 'Horror', 'Drama', 'Horror', 'Horror', 'Action', 'Thriller', 'Action', 'Adventure', 'Mystery', 'Action', 'Adventure', 'Fantasy', 'Adventure', 'Comedy', 'Family', 'Comedy', 'Drama', 'Romance', 'Comedy', 'Comedy', 'Drama', 'Horror', 'Comedy', 'Romance', 'Mystery', 'Romance', 'Sci-Fi', 'Crime', 'Drama', 'Drama', 'Horror', 'Mystery', 'Comedy', 'Biography', 'Drama', 'Comedy', 'Drama', 'Thriller', 'Drama', 'History', 'War', 'Comedy', 'Drama', 'Action', 'Comedy', 'Fantasy', 'Drama', 'Horror', 'Musical', 'Horror', 'Mystery', 'Thriller', 'Comedy', 'Music', 'Biography', 'Crime', 'Drama', 'Drama', 'Action', 'Adventure', 'Comedy', 'Crime', 'Drama', 'Mystery', 'Drama', 'Action', 'Comedy', 'Crime', 'Comedy', 'Drama', 'Romance', 'Crime', 'Drama', 'Mystery', 'Action', 'Comedy', 'Crime', 'Drama', 'Drama', 'Romance', 'Crime', 'Drama', 'Mystery', 'Adventure', 'Comedy', 'Romance', 'Comedy', 'Crime', 'Drama', 'Adventure', 'Drama', 'Thriller', 'Crime', 'Drama', 'Thriller', 'Drama', 'History', 'Thriller', 'Action', 'Adventure', 'Sci-Fi', 'Horror', 'Action', 'Crime', 'Mystery', 'Comedy', 'Romance', 'Comedy', 'Action', 'Drama', 'Thriller', 'Action', 'Adventure', 'Sci-Fi', 'Drama', 'Mystery', 'Thriller', 'Comedy', 'Drama', 'Romance', 'Action', 'Fantasy', 'Horror', 'Drama', 'Romance', 'Biography', 'Drama', 'Biography', 'Drama', 'Action', 'Adventure', 'Sci-Fi', 'Animation', 'Adventure', 'Comedy', 'Drama', 'Mystery', 'Thriller', 'Action', 'Horror', 'Sci-Fi', 'Drama', 'Romance', 'Action', 'Adventure', 'Drama', 'Adventure', 'Drama', 'Fantasy', 'Drama', 'Romance', 'Sci-Fi', 'Action', 'Adventure', 'Thriller', 'Comedy', 'Fantasy', 'Action', 'Comedy', 'Crime', 'Adventure', 'Drama', 'Romance', 'Action', 'Crime', 'Drama', 'Comedy', 'Drama', 'Romance', 'Crime', 'Drama', 'Crime', 'Drama', 'Mystery', 'Action', 'Adventure', 'Sci-Fi', 'Animation', 'Fantasy', 'Animation', 'Adventure', 'Comedy', 'Drama', 'Mystery', 'War', 'Comedy', 'Romance', 'Animation', 'Comedy', 'Family', 'Comedy', 'Horror', 'Mystery', 'Thriller', 'Action', 'Adventure', 'Drama', 'Comedy', 'Drama', 'Adventure', 'Biography', 'Drama', 'Comedy', 'Horror', 'Thriller', 'Action', 'Drama', 'Family', 'Comedy', 'Fantasy', 'Horror', 'Comedy', 'Romance', 'Drama', 'Mystery', 'Romance', 'Action', 'Adventure', 'Comedy', 'Thriller', 'Comedy', 'Adventure', 'Comedy', 'Sci-Fi', 'Mystery', 'Thriller', 'Comedy', 'Drama', 'Adventure', 'Drama', 'Family', 'Horror', 'Thriller', 'Action', 'Drama', 'Romance', 'Drama', 'Romance', 'Action', 'Adventure', 'Fantasy', 'Comedy', 'Action', 'Biography', 'Drama', 'Drama', 'Mystery', 'Romance', 'Adventure', 'Drama', 'Western', 'Drama', 'Music', 'Romance', 'Comedy', 'Romance', 'Western', 'Horror', 'Thriller', 'Adventure', 'Family', 'Fantasy', 'Crime', 'Drama', 'Mystery', 'Horror', 'Mystery', 'Comedy', 'Crime', 'Drama', 'Action', 'Comedy', 'Romance', 'Action', 'Biography', 'Drama', 'Drama', 'Music', 'Comedy', 'Drama', 'Drama', 'Thriller', 'War', 'Action', 'Mystery', 'Thriller', 'Horror', 'Sci-Fi', 'Thriller', 'Comedy', 'Drama', 'Romance', 'Action', 'Adventure', 'Fantasy', 'Drama', 'Mystery', 'Romance', 'Drama', 'Action', 'Adventure', 'Thriller', 'Animation', 'Action', 'Adventure', 'Drama', 'Fantasy', 'Mystery', 'Drama', 'Sci-Fi', 'Animation', 'Adventure', 'Comedy', 'Horror', 'Thriller', 'Action', 'Mystery', 'Thriller', 'Action', 'Mystery', 'Sci-Fi', 'Crime', 'Drama', 'Thriller', 'Comedy', 'Drama', 'Romance', 'Biography', 'Drama', 'Thriller', 'Action', 'Adventure', 'Family', 'Animation', 'Comedy', 'Family', 'Action', 'Crime', 'Drama', 'Comedy', 'Comedy', 'Crime', 'Thriller', 'Comedy', 'Romance', 'Animation', 'Comedy', 'Drama', 'Action', 'Crime', 'Thriller', 'Comedy', 'Romance', 'Adventure', 'Biography', 'Drama', 'Animation', 'Adventure', 'Comedy', 'Crime', 'Drama', 'Mystery', 'Action', 'Comedy', 'Sci-Fi', 'Comedy', 'Crime', 'Animation', 'Action', 'Adventure', 'Action', 'Drama', 'Thriller', 'Fantasy', 'Horror', 'Crime', 'Drama', 'Thriller', 'Action', 'Adventure', 'Fantasy', 'Comedy', 'Drama', 'Romance', 'Biography', 'Drama', 'Romance', 'Action', 'Adventure', 'Comedy', 'Horror', 'Thriller', 'Horror', 'Mystery', 'Thriller', 'Comedy', 'Romance', 'Animation', 'Adventure', 'Comedy', 'Crime', 'Drama', 'Mystery', 'Adventure', 'Biography', 'Drama', 'Horror', 'Mystery', 'Thriller', 'Adventure', 'Fantasy', 'Mystery', 'Action', 'Adventure', 'Sci-Fi', 'Biography', 'Drama', 'Comedy', 'Drama', 'Sport', 'Comedy', 'Family', 'Drama', 'Romance', 'Action', 'Adventure', 'Comedy', 'Comedy', 'Mystery', 'Romance', 'Thriller', 'Crime', 'Drama', 'Action', 'Comedy', 'Comedy', 'Crime', 'Drama', 'Thriller', 'Drama', 'Animation', 'Adventure', 'Comedy', 'Action', 'Thriller', 'Drama', 'Thriller', 'Animation', 'Adventure', 'Comedy', 'Crime', 'Drama', 'Mystery', 'Biography', 'Drama', 'Sport', 'Crime', 'Drama', 'Thriller', 'Drama', 'Music', 'Crime', 'Drama', 'Thriller', 'Drama', 'Romance', 'Animation', 'Action', 'Adventure', 'Comedy', 'Drama', 'Action', 'Adventure', 'Drama', 'Biography', 'Crime', 'Drama', 'Horror', 'Biography', 'Drama', 'Mystery', 'Drama', 'Romance', 'Comedy', 'Family', 'Drama', 'Drama', 'Fantasy', 'Horror', 'Drama', 'Romance', 'Biography', 'Drama', 'History', 'Comedy', 'Family', 'Action', 'Adventure', 'Thriller', 'Comedy', 'Drama', 'Action', 'Adventure', 'Fantasy', 'Action', 'Thriller', 'Drama', 'Romance', 'Comedy', 'Drama', 'Romance', 'Drama', 'Horror', 'Sci-Fi', 'Comedy', 'Horror', 'Romance', 'Drama', 'Action', 'Adventure', 'Sci-Fi', 'Action', 'Adventure', 'Fantasy', 'Action', 'Adventure', 'Drama', 'Biography', 'Comedy', 'Drama', 'Drama', 'Mystery', 'Romance', 'Animation', 'Adventure', 'Comedy', 'Drama', 'Romance', 'Sci-Fi', 'Drama', 'Drama', 'Fantasy', 'Drama', 'Romance', 'Comedy', 'Horror', 'Thriller', 'Comedy', 'Drama', 'Romance', 'Action', 'Drama', 'Family', 'Comedy', 'Drama', 'Romance', 'Action', 'Thriller', 'War', 'Adventure', 'Comedy', 'Drama', 'Comedy', 'Romance', 'Comedy', 'Romance', 'Comedy', 'Drama', 'Romance', 'Action', 'Adventure', 'Crime', 'Comedy', 'Romance', 'Animation', 'Action', 'Adventure', 'Action', 'Crime', 'Sci-Fi', 'Comedy', 'Drama', 'Romance', 'Crime', 'Thriller', 'Comedy', 'Horror', 'Sci-Fi', 'Drama', 'Thriller', 'Drama', 'Fantasy', 'Horror', 'Adventure', 'Drama', 'Family', 'Mystery', 'Sci-Fi', 'Thriller', 'Biography', 'Crime', 'Drama', 'Drama', 'Fantasy', 'Horror', 'Action', 'Adventure', 'Thriller', 'Crime', 'Drama', 'Fantasy', 'Adventure', 'Family', 'Fantasy', 'Action', 'Adventure', 'Drama', 'Action', 'Comedy', 'Horror', 'Comedy', 'Drama', 'Family', 'Action', 'Thriller', 'Action', 'Adventure', 'Sci-Fi', 'Adventure', 'Drama', 'Fantasy', 'Drama', 'Drama', 'Comedy', 'Drama', 'Music', 'Drama', 'Fantasy', 'Music', 'Comedy', 'Horror', 'Action', 'Comedy', 'Sport', 'Horror', 'Comedy', 'Drama', 'Horror', 'Mystery', 'Adventure', 'Drama', 'Fantasy', 'Comedy', 'Romance', 'Action', 'Sci-Fi', 'Thriller', 'Crime', 'Drama', 'Action', 'Adventure', 'Sci-Fi', 'Adventure', 'Comedy', 'Drama', 'Comedy', 'Drama', 'Comedy', 'Drama', 'Romance', 'Adventure', 'Comedy', 'Drama', 'Action', 'Sci-Fi', 'Thriller', 'Comedy', 'Romance', 'Action', 'Fantasy', 'Horror', 'Crime', 'Drama', 'Thriller', 'Action', 'Drama', 'Thriller', 'Crime', 'Drama', 'Mystery', 'Crime', 'Drama', 'Mystery', 'Drama', 'Sci-Fi', 'Thriller', 'Biography', 'Drama', 'History', 'Crime', 'Horror', 'Thriller', 'Horror', 'Thriller', 'Comedy', 'Drama', 'Musical', 'Horror', 'Mystery', 'Biography', 'Drama', 'Sport', 'Comedy', 'Family', 'Romance', 'Drama', 'Thriller', 'Biography', 'Drama', 'Family', 'Comedy', 'Drama', 'Family', 'Drama', 'Fantasy', 'Musical', 'Comedy', 'Adventure', 'Family', 'Adventure', 'Comedy', 'Fantasy', 'Horror', 'Thriller', 'Drama', 'Romance', 'Action', 'Adventure', 'Fantasy', 'Drama', 'Family', 'Music', 'Action', 'Adventure', 'Horror', 'Comedy', 'Horror', 'Drama', 'Music', 'Romance', 'Comedy', 'Family', 'Fantasy']\n"
     ]
    }
   ],
   "source": [
    "print(uniq_genre)"
   ]
  },
  {
   "cell_type": "code",
   "execution_count": 60,
   "id": "c6831c5f",
   "metadata": {},
   "outputs": [
    {
     "data": {
      "text/plain": [
       "Counter({'Action': 277,\n",
       "         'Adventure': 244,\n",
       "         'Sci-Fi': 107,\n",
       "         'Mystery': 86,\n",
       "         'Horror': 87,\n",
       "         'Thriller': 148,\n",
       "         'Animation': 45,\n",
       "         'Comedy': 250,\n",
       "         'Family': 48,\n",
       "         'Fantasy': 92,\n",
       "         'Drama': 419,\n",
       "         'Music': 15,\n",
       "         'Biography': 67,\n",
       "         'Romance': 120,\n",
       "         'History': 25,\n",
       "         'Western': 4,\n",
       "         'Crime': 126,\n",
       "         'War': 10,\n",
       "         'Musical': 5,\n",
       "         'Sport': 15})"
      ]
     },
     "execution_count": 60,
     "metadata": {},
     "output_type": "execute_result"
    }
   ],
   "source": [
    "from collections import Counter\n",
    "\n",
    "Counter(uniq_genre)"
   ]
  }
 ],
 "metadata": {
  "kernelspec": {
   "display_name": "Python 3 (ipykernel)",
   "language": "python",
   "name": "python3"
  },
  "language_info": {
   "codemirror_mode": {
    "name": "ipython",
    "version": 3
   },
   "file_extension": ".py",
   "mimetype": "text/x-python",
   "name": "python",
   "nbconvert_exporter": "python",
   "pygments_lexer": "ipython3",
   "version": "3.11.4"
  }
 },
 "nbformat": 4,
 "nbformat_minor": 5
}
