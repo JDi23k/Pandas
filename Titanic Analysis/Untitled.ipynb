{
 "cells": [
  {
   "cell_type": "markdown",
   "id": "bea06ec3",
   "metadata": {},
   "source": [
    "### Import the library"
   ]
  },
  {
   "cell_type": "code",
   "execution_count": 1,
   "id": "e673fe09",
   "metadata": {},
   "outputs": [],
   "source": [
    "import numpy as np\n",
    "import pandas as pd\n",
    "from matplotlib import pyplot as plt\n",
    "import seaborn as sns"
   ]
  },
  {
   "cell_type": "markdown",
   "id": "7b05d57f",
   "metadata": {},
   "source": [
    "### Load the dataset"
   ]
  },
  {
   "cell_type": "code",
   "execution_count": 2,
   "id": "eeecd9e4",
   "metadata": {},
   "outputs": [],
   "source": [
    "df = pd.read_csv('train.csv')"
   ]
  },
  {
   "cell_type": "markdown",
   "id": "b6c93e89",
   "metadata": {},
   "source": [
    "### 1. Display Top 5 Rows of The Dataset"
   ]
  },
  {
   "cell_type": "code",
   "execution_count": null,
   "id": "ee0192d4",
   "metadata": {},
   "outputs": [],
   "source": []
  },
  {
   "cell_type": "markdown",
   "id": "a5b5eb04",
   "metadata": {},
   "source": [
    "### 2. Check the Last 3 Rows of The Dataset"
   ]
  },
  {
   "cell_type": "code",
   "execution_count": null,
   "id": "378929c1",
   "metadata": {},
   "outputs": [],
   "source": []
  },
  {
   "cell_type": "markdown",
   "id": "e22201ce",
   "metadata": {},
   "source": [
    "### 3. Find Shape of Our Dataset (Number of Rows & Number of Columns)"
   ]
  },
  {
   "cell_type": "code",
   "execution_count": null,
   "id": "8441c12c",
   "metadata": {},
   "outputs": [],
   "source": []
  },
  {
   "cell_type": "markdown",
   "id": "94541458",
   "metadata": {},
   "source": [
    "### 4. Get Information About Our Dataset Like Total Number Rows, Total Number of Columns, Datatypes of Each Column And Memory Requirement"
   ]
  },
  {
   "cell_type": "code",
   "execution_count": null,
   "id": "e51c0a42",
   "metadata": {},
   "outputs": [],
   "source": []
  },
  {
   "cell_type": "markdown",
   "id": "9254a364",
   "metadata": {},
   "source": [
    "### 5. Get Overall Statistics About The Dataframe"
   ]
  },
  {
   "cell_type": "code",
   "execution_count": null,
   "id": "64f1a157",
   "metadata": {},
   "outputs": [],
   "source": []
  },
  {
   "cell_type": "markdown",
   "id": "c88c0514",
   "metadata": {},
   "source": [
    "### 6. Data Filtering"
   ]
  },
  {
   "cell_type": "code",
   "execution_count": null,
   "id": "6134db36",
   "metadata": {},
   "outputs": [],
   "source": []
  },
  {
   "cell_type": "markdown",
   "id": "739826ed",
   "metadata": {},
   "source": [
    "### 7.Check Null Values In The Dataset"
   ]
  },
  {
   "cell_type": "code",
   "execution_count": null,
   "id": "88f008bd",
   "metadata": {},
   "outputs": [],
   "source": []
  },
  {
   "cell_type": "markdown",
   "id": "0954a189",
   "metadata": {},
   "source": [
    "### 8. Drop the Column"
   ]
  },
  {
   "cell_type": "code",
   "execution_count": null,
   "id": "4a8e9729",
   "metadata": {},
   "outputs": [],
   "source": []
  },
  {
   "cell_type": "markdown",
   "id": "af0ff316",
   "metadata": {},
   "source": [
    "### 9. Handle Missing Values"
   ]
  },
  {
   "cell_type": "code",
   "execution_count": null,
   "id": "33a7a3eb",
   "metadata": {},
   "outputs": [],
   "source": []
  },
  {
   "cell_type": "markdown",
   "id": "f704305b",
   "metadata": {},
   "source": [
    "### 10. Categorical Data Encoding"
   ]
  },
  {
   "cell_type": "code",
   "execution_count": null,
   "id": "681006f2",
   "metadata": {},
   "outputs": [],
   "source": []
  },
  {
   "cell_type": "markdown",
   "id": "39579501",
   "metadata": {},
   "source": [
    "### 11. What is Univariate Analysis?"
   ]
  },
  {
   "cell_type": "markdown",
   "id": "48835f64",
   "metadata": {},
   "source": [
    "### How Many People Survived And How Many Died?"
   ]
  },
  {
   "cell_type": "markdown",
   "id": "e5d29308",
   "metadata": {},
   "source": [
    "### How Many Passengers Were In First Class, Second Class, and Third Class?"
   ]
  },
  {
   "cell_type": "markdown",
   "id": "314508bf",
   "metadata": {},
   "source": [
    "### Number of Male And Female Passengers"
   ]
  },
  {
   "cell_type": "code",
   "execution_count": null,
   "id": "35dbddde",
   "metadata": {},
   "outputs": [],
   "source": []
  },
  {
   "cell_type": "markdown",
   "id": "72386715",
   "metadata": {},
   "source": [
    "### 12. Bivariate Analysis"
   ]
  },
  {
   "cell_type": "markdown",
   "id": "9ca4543d",
   "metadata": {},
   "source": [
    "### How Has Better Chance of Survival Male or Female?"
   ]
  },
  {
   "cell_type": "markdown",
   "id": "a9ed086c",
   "metadata": {},
   "source": [
    "### Which Passenger Class Has Better Chance of Survival (First, Second, Or Third Class)?"
   ]
  },
  {
   "cell_type": "code",
   "execution_count": null,
   "id": "86476cfd",
   "metadata": {},
   "outputs": [],
   "source": []
  },
  {
   "cell_type": "markdown",
   "id": "10ded5f1",
   "metadata": {},
   "source": [
    "### 13. Feature Engineering"
   ]
  },
  {
   "cell_type": "code",
   "execution_count": null,
   "id": "7111010a",
   "metadata": {},
   "outputs": [],
   "source": []
  },
  {
   "cell_type": "code",
   "execution_count": null,
   "id": "bc3be88d",
   "metadata": {},
   "outputs": [],
   "source": []
  }
 ],
 "metadata": {
  "kernelspec": {
   "display_name": "Python 3 (ipykernel)",
   "language": "python",
   "name": "python3"
  },
  "language_info": {
   "codemirror_mode": {
    "name": "ipython",
    "version": 3
   },
   "file_extension": ".py",
   "mimetype": "text/x-python",
   "name": "python",
   "nbconvert_exporter": "python",
   "pygments_lexer": "ipython3",
   "version": "3.11.4"
  }
 },
 "nbformat": 4,
 "nbformat_minor": 5
}
